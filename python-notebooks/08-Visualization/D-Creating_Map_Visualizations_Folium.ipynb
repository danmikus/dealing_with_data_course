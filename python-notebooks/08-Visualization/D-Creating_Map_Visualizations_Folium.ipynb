{
 "cells": [
  {
   "cell_type": "markdown",
   "metadata": {},
   "source": [
    "# Visualization using maps in Python\n"
   ]
  },
  {
   "cell_type": "markdown",
   "metadata": {
    "collapsed": true
   },
   "source": [
    "Another perfect tool for vizualisation data processed in Python is `folium`. It builds on the data wrangling strengths of the Python ecosystem and the mapping strengths of the Leaflet.js library. It manipulate your data in Python, then visualize it in on a Leaflet map. It enables both the binding of data to a map for choropleth visualizations as well as passing Vincent/Vega visualizations as markers on the map."
   ]
  },
  {
   "cell_type": "code",
   "execution_count": null,
   "metadata": {},
   "outputs": [],
   "source": [
    "%matplotlib inline"
   ]
  },
  {
   "cell_type": "code",
   "execution_count": null,
   "metadata": {},
   "outputs": [],
   "source": [
    "# !sudo -H pip3 install -U folium\n",
    "# !sudo -H pip3 install -U geopandas"
   ]
  },
  {
   "cell_type": "markdown",
   "metadata": {
    "collapsed": true
   },
   "source": [
    "`folium` provides very detailed map and we may use it to visualize geodata localized in a small scale. Let's get the data from the [Citibike API](http://www.citibikenyc.com/stations/json):"
   ]
  },
  {
   "cell_type": "code",
   "execution_count": null,
   "metadata": {},
   "outputs": [],
   "source": [
    "import requests\n",
    "import pandas as pd\n",
    "\n",
    "url = 'http://www.citibikenyc.com/stations/json'\n",
    "results = requests.get(url).json()\n",
    "data = results[\"stationBeanList\"]\n",
    "\n",
    "citibike = pd.DataFrame(data)\n",
    "citibike.set_index('id', inplace=True)\n",
    "\n",
    "citibike"
   ]
  },
  {
   "cell_type": "markdown",
   "metadata": {},
   "source": [
    "#### Selecting tiles\n",
    "\n",
    "The first step is to create a map. At the very basic level, we select the location, zoom level, and potentially the tiles (i.e., the style of the map) for the background. The default is 'OpenStreetMap', but often for visualizations we prefer other, more visually neutral styles. (See http://folium.readthedocs.io/en/latest/quickstart.html for more tile optionS)"
   ]
  },
  {
   "cell_type": "code",
   "execution_count": null,
   "metadata": {},
   "outputs": [],
   "source": [
    "import folium\n",
    "fmap = folium.Map(location=[40.73, -74], zoom_start=13, tiles='OpenStreetMap')\n",
    "fmap"
   ]
  },
  {
   "cell_type": "code",
   "execution_count": null,
   "metadata": {},
   "outputs": [],
   "source": [
    "import folium\n",
    "fmap = folium.Map(location=[40.73, -74], zoom_start=12,  tiles='cartodbpositron')\n",
    "fmap"
   ]
  },
  {
   "cell_type": "markdown",
   "metadata": {},
   "source": [
    "#### Adding Markers \n",
    "\n",
    "For every station, we are going to add a marker in the map:\n",
    "* Using the longitude and latitude for the location \n",
    "* Modify the color of the marker to reflect the status of the station\n",
    "* Modify the opacity to be the percentage of bikes in the station. \n",
    "* Modify the size of the circle to corresponds to the size of the station."
   ]
  },
  {
   "cell_type": "code",
   "execution_count": null,
   "metadata": {},
   "outputs": [],
   "source": [
    "for name, row in citibike.iterrows():\n",
    "    \n",
    "    # Define the opacity of the marker to be proportional to the percentage of bikes in the station\n",
    "    opacity = row[\"availableBikes\"]/row[\"totalDocks\"] if row[\"statusValue\"] == 'In Service' else 1.0\n",
    "    # Make the color green for the working stations, red otherwise\n",
    "    color = \"green\" if row[\"statusValue\"] == 'In Service' else \"red\"\n",
    "    # The size of the marker is proportional to the number of docks\n",
    "    size = row[\"totalDocks\"]/10 if row[\"statusValue\"] == 'In Service' else 5\n",
    "\n",
    "    # We create a marker on the map and we add it to the map\n",
    "    folium.CircleMarker(location=[row[\"latitude\"], row[\"longitude\"]], \n",
    "                        radius = size,\n",
    "                        color='black', weight=0.5, \n",
    "                        fill=True,\n",
    "                        fill_opacity = opacity,\n",
    "                        fill_color = color,\n",
    "                       ).add_to(fmap)\n",
    "    \n"
   ]
  },
  {
   "cell_type": "code",
   "execution_count": null,
   "metadata": {},
   "outputs": [],
   "source": [
    "fmap"
   ]
  },
  {
   "cell_type": "markdown",
   "metadata": {},
   "source": [
    "#### Adding popups to the markers\n",
    "\n",
    "For each marker, we can also have a popup with text, html, or even other charts/visualizations. Here is an example of adding an HTML popup to each marker."
   ]
  },
  {
   "cell_type": "code",
   "execution_count": null,
   "metadata": {},
   "outputs": [],
   "source": [
    "fmap = folium.Map(location=[40.73, -74], zoom_start=13,  tiles='cartodbpositron')\n",
    "\n",
    "for name, row in citibike.iterrows():\n",
    "    \n",
    "    # Define the opacity of the marker to be proportional to the percentage of bikes in the station\n",
    "    opacity = row[\"availableBikes\"]/row[\"totalDocks\"] if row[\"statusValue\"] == 'In Service' else 1.0\n",
    "    # Make the color green for the working stations, red otherwise\n",
    "    color = \"green\" if row[\"statusValue\"] == 'In Service' else \"red\"\n",
    "    # The size of the marker is proportional to the number of docks\n",
    "    size = row[\"totalDocks\"]/5 if row[\"statusValue\"] == 'In Service' else 5\n",
    "    \n",
    "   \n",
    "    # The code below defines a pop-up for each station with details such as \n",
    "    # the address, number of bikes, capacity, etc.\n",
    "    html = \"<p style='font-family:sans-serif;font-size:11px'>\" + \\\n",
    "           \"<strong>Address: </strong>\" + row[\"stAddress1\"] + \\\n",
    "           \"<br><strong>Available Bikes: </strong>\" + str(row[\"availableBikes\"]) + \\\n",
    "            \"<br><strong>Total Docks: </strong>\" + str(row[\"totalDocks\"])\n",
    "    iframe = folium.IFrame(html=html, width=200, height=60)\n",
    "    popup = folium.Popup(iframe, max_width=200)\n",
    "\n",
    "    # We create a marker on the map and we add it to the map\n",
    "    folium.CircleMarker(location=[row[\"latitude\"], row[\"longitude\"]], \n",
    "                        radius = size,\n",
    "                        popup = popup, \n",
    "                        color='black', weight=0.5, \n",
    "                        fill=True,\n",
    "                        fill_opacity = opacity,\n",
    "                        fill_color = color,\n",
    "                       ).add_to(fmap)"
   ]
  },
  {
   "cell_type": "code",
   "execution_count": null,
   "metadata": {},
   "outputs": [],
   "source": [
    "    \n",
    "fmap"
   ]
  },
  {
   "cell_type": "code",
   "execution_count": null,
   "metadata": {},
   "outputs": [],
   "source": [
    "# This code below is for generating an image screenshot from a Folium map\n",
    "# It is kind of convoluted, as it involves saving an HTML file\n",
    "# and then launching a Selenium-driven browser and saving a screenshot\n",
    "# NOTE: This requires having a properly working installation\n",
    "# of Selenium\n",
    "\n",
    "\n",
    "import os\n",
    "import time\n",
    "from selenium import webdriver\n",
    "from pyvirtualdisplay import Display\n",
    "\n",
    "display = Display(visible=0, size=(1600, 1600))\n",
    "display.start()\n",
    "\n",
    "delay=5\n",
    "fn='citibike.html'\n",
    "tmpurl='file://{path}/{mapfile}'.format(path=os.getcwd(),mapfile=fn)\n",
    "fmap.save(fn)\n",
    "\n",
    "browser = webdriver.Firefox()\n",
    "browser.get(tmpurl)\n",
    "#Give the map tiles some time to load\n",
    "time.sleep(delay)\n",
    "browser.save_screenshot('citibike.png')\n",
    "browser.quit()"
   ]
  },
  {
   "cell_type": "markdown",
   "metadata": {},
   "source": [
    "#### Using shapefiles "
   ]
  },
  {
   "cell_type": "code",
   "execution_count": null,
   "metadata": {},
   "outputs": [],
   "source": [
    "# Dataset from NYC Open Data: https://data.cityofnewyork.us/City-Government/Neighborhood-Tabulation-Areas/cpf4-rkhq\n",
    "!curl 'https://data.cityofnewyork.us/api/geospatial/cpf4-rkhq?method=export&format=GeoJSON' -o data/nyc-neighborhoods.geojson"
   ]
  },
  {
   "cell_type": "code",
   "execution_count": null,
   "metadata": {},
   "outputs": [],
   "source": [
    "# NYC Zipcodes\n",
    "!curl 'https://data.cityofnewyork.us/download/i8iw-xf4u/application%2Fzip' -o 'data/ZIP_CODE_040114.zip'"
   ]
  },
  {
   "cell_type": "code",
   "execution_count": null,
   "metadata": {},
   "outputs": [],
   "source": [
    "import geopandas as gpd\n",
    "\n",
    "nyc_neighborhoods = gpd.GeoDataFrame.from_file('data/nyc-neighborhoods.geojson')\n",
    "nyc_neighborhoods = nyc_neighborhoods[['ntacode', 'ntaname', 'geometry']]\n",
    "nyc_neighborhoods.head(10)"
   ]
  },
  {
   "cell_type": "code",
   "execution_count": null,
   "metadata": {},
   "outputs": [],
   "source": [
    "nyc_neighborhoods.plot(\n",
    "    figsize=(20,20), \n",
    "    color = 'white', \n",
    "    edgecolor = 'black'\n",
    ")"
   ]
  },
  {
   "cell_type": "code",
   "execution_count": null,
   "metadata": {},
   "outputs": [],
   "source": [
    "import folium\n",
    "fmap = folium.Map(location=[40.73, -74], zoom_start=12, tiles='cartodbpositron')\n",
    "\n",
    "folium.GeoJson(nyc_neighborhoods,\n",
    "               name='NYC Neighborhoods',\n",
    "               style_function=lambda feature: {\n",
    "                    'fillColor': '#c0fefe',\n",
    "                    'color': 'black',\n",
    "                    'weight': 1,\n",
    "                    'fillOpacity': 0.25\n",
    "                }\n",
    "              ).add_to(fmap)\n",
    "\n",
    "fmap"
   ]
  },
  {
   "cell_type": "markdown",
   "metadata": {},
   "source": [
    "We first transform the Citibike Dataframe into a GeoPandas datagframe, by creating \n",
    "a column that contains Points, naming the column \"geometry\" and then \n",
    "setting the CRS (coordinate system) to be the same as the one for NYC neighborhoods"
   ]
  },
  {
   "cell_type": "code",
   "execution_count": null,
   "metadata": {},
   "outputs": [],
   "source": [
    "from shapely.geometry import Point\n",
    "\n",
    "citibike['geometry'] = citibike.apply(lambda row: Point(row['longitude'], row['latitude']), axis=1 )\n",
    "citibike_gs = gpd.GeoDataFrame.from_records(citibike)\n"
   ]
  },
  {
   "cell_type": "markdown",
   "metadata": {},
   "source": [
    "#### Spatial Join using GeoPandas\n",
    "\n",
    "Now we join the `nyc_neighborhoods` dataframe that describes the NYC neighborhoods with the `citibike_gs` that has the locations of the Citibike stations."
   ]
  },
  {
   "cell_type": "code",
   "execution_count": null,
   "metadata": {},
   "outputs": [],
   "source": [
    "citibike_gs.crs = nyc_neighborhoods.crs\n",
    "stations_to_neighborhoods = gpd.sjoin(nyc_neighborhoods, citibike_gs, how=\"inner\", op='intersects')"
   ]
  },
  {
   "cell_type": "code",
   "execution_count": null,
   "metadata": {},
   "outputs": [],
   "source": [
    "totaldocks = pd.pivot_table(\n",
    "    data = stations_to_neighborhoods, \n",
    "    index = 'ntacode',\n",
    "    values = 'totalDocks', \n",
    "    aggfunc = 'sum'\n",
    ").drop(['MN99', 'BK99']) # drop the 'misc' areas\n",
    "\n",
    "totaldocks.head(5)"
   ]
  },
  {
   "cell_type": "code",
   "execution_count": null,
   "metadata": {},
   "outputs": [],
   "source": [
    "# GeoPandas choropleths / not very appealing visually\n",
    "# \n",
    "# nyc.set_index('ntacode').join(totaldocks, how='left').fillna(0).plot(\n",
    "#     figsize=(20,20), column='totalDocks', cmap='OrRd', scheme='Quantiles', linewidth=0.1)"
   ]
  },
  {
   "cell_type": "code",
   "execution_count": null,
   "metadata": {},
   "outputs": [],
   "source": [
    "fmap = folium.Map(location=[40.73, -74], zoom_start=12, tiles='cartodbpositron')\n",
    "# folium.LayerControl().add_to(fmap)\n",
    "\n",
    "fmap.choropleth(geo_data='data/nyc-neighborhoods.geojson', \n",
    "                data=totaldocks.reset_index(),\n",
    "                columns=['ntacode', 'totalDocks'],\n",
    "                key_on='feature.properties.ntacode',\n",
    "                fill_color='OrRd', \n",
    "                fill_opacity=0.5, \n",
    "                line_opacity=0.1,\n",
    "                legend_name='Total Docks'\n",
    "               )\n",
    "#folium.LayerControl().add_to(fmap)\n",
    "fmap"
   ]
  },
  {
   "cell_type": "code",
   "execution_count": null,
   "metadata": {},
   "outputs": [],
   "source": []
  }
 ],
 "metadata": {
  "kernelspec": {
   "display_name": "Python 3",
   "language": "python",
   "name": "python3"
  },
  "language_info": {
   "codemirror_mode": {
    "name": "ipython",
    "version": 3
   },
   "file_extension": ".py",
   "mimetype": "text/x-python",
   "name": "python",
   "nbconvert_exporter": "python",
   "pygments_lexer": "ipython3",
   "version": "3.5.2"
  }
 },
 "nbformat": 4,
 "nbformat_minor": 1
}
