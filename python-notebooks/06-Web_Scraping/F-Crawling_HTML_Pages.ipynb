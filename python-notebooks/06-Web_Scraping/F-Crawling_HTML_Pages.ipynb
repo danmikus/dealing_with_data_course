{
 "cells": [
  {
   "cell_type": "markdown",
   "metadata": {},
   "source": [
    "## Crawling and Extracting Data from Websites"
   ]
  },
  {
   "cell_type": "markdown",
   "metadata": {},
   "source": [
    "This module uses a set of non-standard libraries, which need to be installed on your machine. By default, your instance should have these installed, but if this is not the case, type these in the Unix shell prompt\n",
    "\n",
    "\n",
    "\n"
   ]
  },
  {
   "cell_type": "code",
   "execution_count": null,
   "metadata": {},
   "outputs": [],
   "source": [
    "!sudo -H apt-get -y install libxml2-dev libxslt-dev python3-dev"
   ]
  },
  {
   "cell_type": "markdown",
   "metadata": {},
   "source": [
    "and then"
   ]
  },
  {
   "cell_type": "code",
   "execution_count": null,
   "metadata": {},
   "outputs": [],
   "source": [
    "!sudo -H pip3 install -U lxml"
   ]
  },
  {
   "cell_type": "code",
   "execution_count": null,
   "metadata": {},
   "outputs": [],
   "source": [
    "!sudo -H pip3 install -U pandas"
   ]
  },
  {
   "cell_type": "markdown",
   "metadata": {},
   "source": [
    "### Fetching the headlines from ESPN.com\n",
    "\n",
    "Let's start by trying to fetch the headlines from the site ESPN.com.\n",
    "\n"
   ]
  },
  {
   "cell_type": "code",
   "execution_count": 1,
   "metadata": {},
   "outputs": [],
   "source": [
    "import requests # This command allows us to fetch URLs\n",
    "from lxml import html # This module will allow us to parse the returned HTML/XML\n",
    "import pandas # To create a dataframe\n",
    "\n",
    "# Let's start by fetching the page, and parsing it\n",
    "url = \"http://www.espn.com/\"\n",
    "response = requests.get(url) # get the html of that url\n",
    "doc = html.fromstring(response.text) # parse it and create a document"
   ]
  },
  {
   "cell_type": "code",
   "execution_count": 2,
   "metadata": {},
   "outputs": [
    {
     "data": {
      "text/plain": [
       "<Element html at 0x7f5a32dc42c8>"
      ]
     },
     "execution_count": 2,
     "metadata": {},
     "output_type": "execute_result"
    }
   ],
   "source": [
    "doc"
   ]
  },
  {
   "cell_type": "markdown",
   "metadata": {},
   "source": [
    "Let's start by getting the content of the `<title>` node from the site:"
   ]
  },
  {
   "cell_type": "code",
   "execution_count": 4,
   "metadata": {},
   "outputs": [
    {
     "data": {
      "text/plain": [
       "'ESPN: The Worldwide Leader in Sports'"
      ]
     },
     "execution_count": 4,
     "metadata": {},
     "output_type": "execute_result"
    }
   ],
   "source": [
    "# This will return back a list of nodes that match\n",
    "# are called <title>......</title>\n",
    "results = doc.xpath('//title')\n",
    "results[0].text"
   ]
  },
  {
   "cell_type": "markdown",
   "metadata": {},
   "source": [
    "The `doc` variable is an `HtmlElement` object, and we can now use **XPath** queries to locate the elements that we need. (Depending on time, we may do in class a tutorial on XPath. For now, you can look at the [W3Schools tutorial](http://www.w3schools.com/xpath/xpath_nodes.asp))"
   ]
  },
  {
   "cell_type": "markdown",
   "metadata": {},
   "source": [
    "For example, to find all the `<a ...> ... </a>` tags in the returned html, which store the links in the page, we issue the command:"
   ]
  },
  {
   "cell_type": "code",
   "execution_count": 5,
   "metadata": {},
   "outputs": [
    {
     "data": {
      "text/plain": [
       "233"
      ]
     },
     "execution_count": 5,
     "metadata": {},
     "output_type": "execute_result"
    }
   ],
   "source": [
    "links = doc.xpath(\"//a\")\n",
    "len(links)"
   ]
  },
  {
   "cell_type": "code",
   "execution_count": 12,
   "metadata": {},
   "outputs": [
    {
     "name": "stdout",
     "output_type": "stream",
     "text": [
      "==================================\n",
      "# ==> None\n",
      "==================================\n",
      "/ ==> ESPN\n",
      "==================================\n",
      "# ==> None\n",
      "==================================\n",
      "# ==> Scores\n",
      "==================================\n",
      "/nfl/ ==> NFL\n",
      "==================================\n",
      "/nba/ ==> NBA\n",
      "==================================\n",
      "/mlb/ ==> MLB\n",
      "==================================\n",
      "/college-football/ ==> NCAAF\n",
      "==================================\n",
      "http://www.espnfc.com ==> Soccer\n",
      "==================================\n",
      "/nhl/ ==> NHL\n",
      "==================================\n",
      "# ==> …\n",
      "==================================\n",
      "/tennis/ ==> Tennis\n",
      "==================================\n",
      "/golf/ ==> Golf\n",
      "==================================\n",
      "/mens-college-basketball/ ==> NCAAM\n",
      "==================================\n",
      "/mma/ ==> MMA\n",
      "==================================\n",
      "/wwe/ ==> WWE\n",
      "==================================\n",
      "/boxing/ ==> Boxing\n",
      "==================================\n",
      "/esports/ ==> esports\n",
      "==================================\n",
      "/chalk/ ==> Chalk\n",
      "==================================\n",
      "/analytics/ ==> Analytics\n",
      "==================================\n",
      "/womens-basketball/ ==> NCAAW\n",
      "==================================\n",
      "/womens-basketball/ ==> WNBA\n",
      "==================================\n",
      "/racing/nascar/ ==> NASCAR\n",
      "==================================\n",
      "/jayski/ ==> Jayski \n",
      "==================================\n",
      "/racing/ ==> Racing\n",
      "==================================\n",
      "/horse-racing/ ==> Horse\n",
      "==================================\n",
      "http://www.espn.com/college-sports/football/recruiting/ ==> RN FB\n",
      "==================================\n",
      "http://www.espn.com/college-sports/basketball/recruiting/index ==> RN BB\n",
      "==================================\n",
      "/college-sports/ ==> NCAA\n",
      "==================================\n",
      "http://www.espn.com/sports/llws17/story/_/page/LittleLeagueWorldSeries/little-league-world-series-espn ==> LLWS\n",
      "==================================\n",
      "/olympics/ ==> Olympic Sports\n",
      "==================================\n",
      "http://www.espn.com/specialolympics/ ==> Special Olympics\n",
      "==================================\n",
      "http://xgames.com/ ==> X Games\n",
      "==================================\n",
      "http://espncricinfo.com/ ==> Cricket\n",
      "==================================\n",
      "http://www.espnscrum.com/ ==> Rugby\n",
      "==================================\n",
      "/endurance/ ==> Endurance\n",
      "==================================\n",
      "http://www.tsn.ca/cfl ==> CFL\n",
      "==================================\n",
      "# ==> More ESPN\n",
      "==================================\n",
      "/fantasy/ ==> Fantasy\n",
      "==================================\n",
      "http://www.espn.com/espnradio/index ==> Listen\n",
      "==================================\n",
      "http://www.espn.com/watch/ ==> Watch\n",
      "==================================\n",
      "http://www.espn.com/mlb/story/_/page/playoffs17_MLBhome/complete-coverage-every-series ==> \n",
      "\t\t\t\n",
      "==================================\n",
      "http://www.espn.com/mlb/story/_/page/playoffs17_schedule/2017-mlb-playoff-schedule ==> \n",
      "\t\t\t\n",
      "==================================\n",
      "http://www.espn.com/chalk/story/_/id/21114574/nfl-full-list-week-8-lines-westgate-las-vegas-superbook ==> \n",
      "\t\t\t\n",
      "==================================\n",
      "http://www.espn.com/watch/collections/1397/chris-paul-s-chapter-3 ==> \n",
      "\t\t\t\n",
      "==================================\n",
      "http://games.espn.com/fba/welcome?ex_cid=FBA2017_P1QL ==> \n",
      "\t\t\t\n",
      "==================================\n",
      "None ==> None\n",
      "==================================\n",
      "# ==> \n",
      "      Manage Favorites\n",
      "      \n",
      "==================================\n",
      "http://www.espn.com/nba/story/_/id/21113212/nba-power-rankings-our-expert-panel-unveils-rankings-week-2 ==> \n",
      "\t\t\t\n",
      "==================================\n",
      "http://www.espn.com/nfl/story/_/page/NFLpowerrankingsx171017/nfl-2017-week-7-power-rankings-kansas-city-chiefs-philadelphia-eagles-new-england-patriots-top-our-board-remaining-schedules ==> \n",
      "\t\t\t\n",
      "==================================\n",
      "http://www.espn.com/college-football/story/_/page/powerrankings102117/penn-state-nittany-lions-notre-dame-fighting-irish-make-strong-statements ==> \n",
      "\t\t\t\n",
      "==================================\n",
      "http://www.espn.com/nhl/story/_/id/21062335/nhl-2017-18-power-rankings-team-biggest-worry-far ==> \n",
      "\t\t\t\n",
      "==================================\n",
      "http://streak.espn.com/en/ ==> \n",
      "\t\t\t\n",
      "==================================\n",
      "http://www.espn.com/fantasy/football/ ==> \n",
      "\t\t\t\n",
      "==================================\n",
      "http://games.espn.com/nfl-pigskin-pickem/2017/en/?ex_cid=PP2017_FantasyLeftRail ==> \n",
      "\t\t\t\n",
      "==================================\n",
      "http://games.espn.com/nfl-eliminator-challenge/2017/en/?ex_cid=EC2017_FantasyLeftRail ==> \n",
      "\t\t\t\n",
      "==================================\n",
      "http://games.espn.com/college-football-pickem/2017/en/game?ex_cid=CP2017_FantasyLeftRail ==> \n",
      "\t\t\t\n",
      "==================================\n",
      "http://www.espn.com/fantasy/basketball/ ==> \n",
      "\t\t\t\n",
      "==================================\n",
      "http://www.espn.com/fantasy/baseball/ ==> \n",
      "\t\t\t\n",
      "==================================\n",
      "http://www.espn.com/fantasy/hockey/ ==> \n",
      "\t\t\t\n",
      "==================================\n",
      "https://fivethirtyeight.com/ ==> \n",
      "\t\t\t\n",
      "==================================\n",
      "https://theundefeated.com/ ==> \n",
      "\t\t\t\n",
      "==================================\n",
      "http://www.espn.com/doubletruck/ ==> \n",
      "\t\t\t\n",
      "==================================\n",
      "http://www.espn.com/espnw/ ==> \n",
      "\t\t\t\n",
      "==================================\n",
      "http://www.espnfc.us/ ==> \n",
      "\t\t\t\n",
      "==================================\n",
      "http://xgames.espn.com/ ==> \n",
      "\t\t\t\n",
      "==================================\n",
      "http://espndeportes.espn.com/ ==> \n",
      "\t\t\t\n",
      "==================================\n",
      "http://www.secsports.com/ ==> \n",
      "\t\t\t\n",
      "==================================\n",
      "http://www.espn.com/insider/ ==> \n",
      "\t\t\t\n",
      "==================================\n",
      "http://www.espn.com/sportsnation/ ==> \n",
      "\t\t\t\n",
      "==================================\n",
      "http://www.espn.com/espn/apps/download?app=espn ==> \n",
      "\t\t\t\n",
      "==================================\n",
      "http://www.espn.com/espn/mobile/products/products/_/id/17145860 ==> \n",
      "\t\t\t\n",
      "==================================\n",
      "https://www.facebook.com/ESPN/ ==> \n",
      "\t\t\t\n",
      "==================================\n",
      "https://twitter.com/espn ==> \n",
      "\t\t\t\n",
      "==================================\n",
      "https://www.instagram.com/espn/ ==> \n",
      "\t\t\t\n",
      "==================================\n",
      "https://www.snapchat.com/discover/ESPN/7296089122 ==> \n",
      "\t\t\t\n",
      "==================================\n",
      "http://www.espn.com/espn/espndaily ==> \n",
      "\t\t\t\n",
      "==================================\n",
      "http://cal.espn.com/espn-daily-calendar?utm_source=espn_homepage_left_nav ==> \n",
      "\t\t\t\n",
      "==================================\n",
      "/blog/washington-redskins/post/_/id/33822/kirk-cousins-cant-win-big-games-depends-on-which-one-you-mean ==> None\n",
      "==================================\n",
      "/chalk/insider/story/_/id/21111123/nfl-vegas-handicappers-break-how-bet-washington-philadelphia ==> How to bet Washington at Philadelphia\n",
      "==================================\n",
      "http://www.espn.com/nfl/story/_/page/mnfhq2017/2017-nfl-monday-night-football-schedule-mnf-headquarters-scores ==> Monday Night HQ: What you need to know\n",
      "==================================\n",
      "/nfl/story/_/id/21130180/andrew-sendejo-minnesota-vikings-suspended-one-game-hit-mike-wallace-baltimore-ravens ==> Vikings' Sendejo suspended for hit on Wallace\n",
      "==================================\n",
      "/nfl/story/_/id/21129992/marshawn-lynch-oakland-raiders-appeal-heard-marcus-peters-testifies ==> Sources: Lynch appeal heard; Peters testifies\n",
      "==================================\n",
      "/nba/story/_/id/21129455/golden-state-warriors-guard-stephen-curry-fined-50000-throwing-mouthpiece ==> Curry fined $50K over throwing mouthpiece\n",
      "==================================\n",
      "/nba/story/_/id/21127746/eric-bledsoe-sent-home-meeting-phoenix-suns ==> GM: Bledsoe likely played final game for Suns\n",
      "==================================\n",
      "/nfl/story/_/id/21128339/martavis-bryant-pittsburgh-steelers-misses-meetings-due-illness ==> Amid trade chatter, WR Bryant calls in sick\n",
      "==================================\n",
      "/nba/story/_/id/21129442/josh-jackson-phoenix-suns-hand-gesture-fan-was-not-gun ==> Suns' Jackson: Hand gesture at fan wasn't gun\n",
      "==================================\n",
      "/nfl/insider/story/_/id/21121139/nfl-preseason-game-predictions-revisited-surprises-continue ==> Revisiting NFL game-by-game predictions\n",
      "==================================\n",
      "/nfl/team/_/name/phi/philadelphia-eagles ==> None\n",
      "==================================\n",
      "/blog/philadelphia-eagles/post/_/id/22568/carson-wentz-the-dutch-destroyer-and-a-dream-come-true ==> None\n",
      "==================================\n",
      "/nba/ ==> None\n",
      "==================================\n",
      "/nba/story/_/id/21113212/nba-power-rankings-our-expert-panel-unveils-rankings-week-2 ==> None\n",
      "==================================\n",
      "/nba/team/_/name/phx/phoenix-suns ==> None\n",
      "==================================\n",
      "/nba/insider/story/_/id/21128152/three-phoenix-suns-eric-bledsoe-trades-work-sides-nba ==> None\n",
      "==================================\n",
      "/blog/new-york-knicks/post/_/id/66808/does-new-york-have-the-pieces-to-pull-off-a-bledsoe-deal ==> Do the Knicks have the pieces to pull off a deal?\n",
      "==================================\n",
      "/nba/team/_/name/cle/cleveland-cavaliers ==> None\n",
      "==================================\n",
      "https://www.facebook.com/dialog/share?href=http%3A%2F%2Fwww.espn.com%2Fvideo%2Fclip%3Fid%3D21128406&app_id=116656161708917 ==> None\n",
      "==================================\n",
      "http://twitter.com/intent/tweet?lang=en&url=http%3A%2F%2Fwww.espn.com%2Fvideo%2Fclip%3Fid%3D21128406&text=Wade%3A%20%27I%20came%20here%20to%20be%20a%20part%20of%20winning%27 ==> None\n",
      "==================================\n",
      "mailto:?subject=Wade%3A%20%27I%20came%20here%20to%20be%20a%20part%20of%20winning%27&body=http://www.espn.com/video/clip?id=21128406 ==> None\n",
      "==================================\n",
      "http://www.espn.com/video/clip?id=21128406 ==> None\n",
      "==================================\n",
      "/mlb/ ==> None\n",
      "==================================\n",
      "/blog/sweetspot/post/_/id/84018/who-should-you-root-for-in-the-world-series-we-have-some-ideas ==> None\n",
      "==================================\n",
      "https://fivethirtyeight.com/features/this-world-series-just-might-have-the-two-best-teams-for-once/ ==> None\n",
      "==================================\n",
      "/mlb/ ==> None\n",
      "==================================\n",
      "/mlb/story/_/id/21121265/dodgers-dream-season-turn-nightmare-astros ==> None\n",
      "==================================\n",
      "/mlb/story/_/page/playoffs17_schedule/2017-mlb-playoff-schedule ==> World Series schedule\n",
      "==================================\n",
      "/sportsnation/story/_/id/21127148/sportsnation-los-angeles-dodgers-houston-astros-win-world-series ==> Vote: Who will win?\n",
      "==================================\n",
      "/mlb/insider/story/_/id/21117315/is-corey-seager-key-player-world-series ==> Is Corey Seager the key player in the World Series?\n",
      "==================================\n",
      "http://www.espn.com/mlb/story/_/page/playoffs17_MLBhome/complete-coverage-every-series ==> 2017 MLB postseason: Complete coverage of every series\n",
      "==================================\n",
      "/mlb/ ==> None\n",
      "==================================\n",
      "https://www.facebook.com/dialog/share?href=http%3A%2F%2Fes.pn%2F2yDWqVP&app_id=116656161708917 ==> None\n",
      "==================================\n",
      "http://twitter.com/intent/tweet?lang=en&url=http%3A%2F%2Fes.pn%2F2yDWqVP&text=Astros%20and%20Dodgers%20set%20for%20an%20exciting%20World%20Series ==> None\n",
      "==================================\n",
      "mailto:?subject=Astros%20and%20Dodgers%20set%20for%20an%20exciting%20World%20Series&body=http://es.pn/2yDWqVP ==> None\n",
      "==================================\n",
      "http://es.pn/2yDWqVP ==> None\n",
      "==================================\n",
      "/college-football/ ==> None\n",
      "==================================\n",
      "http://www.espn.com/espn/feature/story/_/id/20924695/10-year-old-maxwell-bunchie-young-touted-next-big-thing-football-coaches-bought-in ==> None\n",
      "==================================\n",
      "/golf/ ==> None\n",
      "==================================\n",
      "/golf/story/_/id/21129941/tiger-woods-shows-progress-stinger-video-twitter ==> None\n",
      "==================================\n",
      "/nfl/ ==> None\n",
      "==================================\n",
      "/nfl/story/_/page/32for32x171022/2017-nfl-reasons-hope-all-32-teams-week-7 ==> None\n",
      "==================================\n",
      "/college-football/team/_/id/57/florida-gators ==> None\n",
      "==================================\n",
      "https://www.facebook.com/dialog/share?href=http%3A%2F%2Fes.pn%2F2lakXfB&app_id=116656161708917 ==> None\n",
      "==================================\n",
      "http://twitter.com/intent/tweet?lang=en&url=http%3A%2F%2Fes.pn%2F2lakXfB&text=McElwain%20acknowledges%20death%20threats ==> None\n",
      "==================================\n",
      "mailto:?subject=McElwain%20acknowledges%20death%20threats&body=http://es.pn/2lakXfB ==> None\n",
      "==================================\n",
      "http://es.pn/2lakXfB ==> None\n",
      "==================================\n",
      "/college-football/story/_/id/21128125/jim-mcelwain-florida-gators-coach-says-family-players-receiving-death-threats ==> McElwain: Family, players getting death threats\n",
      "==================================\n",
      "/blog/acc/post/_/id/100061/after-another-close-call-is-miami-for-real ==> None\n",
      "==================================\n",
      "/chalk/story/_/id/18439150/college-football-full-list-odds-win-2017-18-college-football-national-championship-game ==> Full odds to win 2017-18 national championship\n",
      "==================================\n",
      "/college-football/ ==> None\n",
      "==================================\n",
      "/college-football/team/_/id/24/stanford-cardinal ==> None\n",
      "==================================\n",
      "https://www.facebook.com/dialog/share?href=http%3A%2F%2Fes.pn%2F2yCK9AS&app_id=116656161708917 ==> None\n",
      "==================================\n",
      "http://twitter.com/intent/tweet?lang=en&url=http%3A%2F%2Fes.pn%2F2yCK9AS&text=Love%27s%20eye%2Dcatching%20start%20adding%20him%20to%20Heisman%20mix ==> None\n",
      "==================================\n",
      "mailto:?subject=Love%27s%20eye%2Dcatching%20start%20adding%20him%20to%20Heisman%20mix&body=http://es.pn/2yCK9AS ==> None\n",
      "==================================\n",
      "http://es.pn/2yCK9AS ==> None\n",
      "==================================\n",
      "/blog/sec/post/_/id/130535/alabama-rb-damien-harris-runs-into-heisman-conversation ==> None\n",
      "==================================\n",
      "/chalk/story/_/id/18690743/college-football-full-list-latest-2017-heisman-trophy-odds ==> Full list of 2017 Heisman trophy odds\n",
      "==================================\n",
      "/college-football/ ==> None\n",
      "==================================\n",
      "/college-football/story/_/id/21119141/mel-kiper-todd-mcshay-why-notre-dame-fighting-irish-nation-most-dangerous-one-loss-team ==> None\n",
      "==================================\n",
      "/nfl/team/_/name/ind/indianapolis-colts ==> None\n",
      "==================================\n",
      "/nfl/story/_/id/21128379/ty-hilton-messed-calling-indianapolis-colts-offensive-line ==> None\n",
      "==================================\n",
      "/nfl/ ==> None\n",
      "==================================\n",
      "/nfl/story/_/page/Barnwellx171023/what-changed-2017-super-bowl-li-rematch-new-england-patriots-atlanta-falcons-why-falcons-trouble-nfl ==> None\n",
      "==================================\n",
      "https://www.facebook.com/dialog/share?href=http%3A%2F%2Fwww.espn.com%2Fvideo%2Fclip%3Fid%3D21128652&app_id=116656161708917 ==> None\n",
      "==================================\n",
      "http://twitter.com/intent/tweet?lang=en&url=http%3A%2F%2Fwww.espn.com%2Fvideo%2Fclip%3Fid%3D21128652&text=Ryan%20on%20pace%20to%20be%20biggest%20fantasy%20bust ==> None\n",
      "==================================\n",
      "mailto:?subject=Ryan%20on%20pace%20to%20be%20biggest%20fantasy%20bust&body=http://www.espn.com/video/clip?id=21128652 ==> None\n",
      "==================================\n",
      "http://www.espn.com/video/clip?id=21128652 ==> None\n",
      "==================================\n",
      "/blog/nflnation/post/_/id/254095/why-the-madden-view-wont-take-over-nfl-broadcasts-yet ==> Why the 'Madden view' won't take over NFL broadcasts ... yet\n",
      "==================================\n",
      "/blog/pittsburgh-steelers/post/_/id/25698/inside-the-leveon-bell-stiff-arm-that-blew-the-steelers-season-open ==> None\n",
      "==================================\n",
      "/nfl/ ==> None\n",
      "==================================\n",
      "https://www.facebook.com/dialog/share?href=http%3A%2F%2Fwww.espn.com%2Fvideo%2Fclip%3Fid%3D21121854&app_id=116656161708917 ==> None\n",
      "==================================\n",
      "http://twitter.com/intent/tweet?lang=en&url=http%3A%2F%2Fwww.espn.com%2Fvideo%2Fclip%3Fid%3D21121854&text=Sunday%27s%20NFL%20action%20filled%20with%20creative%20celebrations ==> None\n",
      "==================================\n",
      "mailto:?subject=Sunday%27s%20NFL%20action%20filled%20with%20creative%20celebrations&body=http://www.espn.com/video/clip?id=21121854 ==> None\n",
      "==================================\n",
      "http://www.espn.com/video/clip?id=21121854 ==> None\n",
      "==================================\n",
      "http://theundefeated.com/ ==> None\n",
      "==================================\n",
      "https://theundefeated.com/features/nba-nfl-success/ ==> None\n",
      "==================================\n",
      "/mens-college-basketball/ ==> None\n",
      "==================================\n",
      "/mens-college-basketball/ ==> None\n",
      "==================================\n",
      "/mens-college-basketball/story/_/id/21075594/espn-college-hoops-preseason-all-american-teams ==> None\n",
      "==================================\n",
      "/mens-college-basketball/team/_/id/150/duke-blue-devils ==> None\n",
      "==================================\n",
      "/mens-college-basketball/story/_/id/21064996/making-case-duke-blue-devils-no-1-team-country ==> None\n",
      "==================================\n",
      "/mens-college-basketball/team/_/id/2724/wichita-state-shockers ==> None\n",
      "==================================\n",
      "/mens-college-basketball/story/_/id/21100190/wichita-state-shockers-no-1-team ==> None\n",
      "==================================\n",
      "http://espn.go.com/nhl/team/_/name/mtl/montreal-canadiens ==> None\n",
      "==================================\n",
      "/nhl/story/_/id/21127585/nhl-kudos-taking-slur-allegations-seriously ==> None\n",
      "==================================\n",
      "http://www.espnfc.us/major-league-soccer/19/index ==> None\n",
      "==================================\n",
      "http://www.espnfc.us/major-league-soccer/19/index ==> None\n",
      "==================================\n",
      "http://www.espnfc.com/major-league-soccer/19/blog/post/3240912/who-will-win-mls-cup-we-make-our-predictions ==> None\n",
      "==================================\n",
      "http://www.espnfc.us/club/toronto-fc/7318/squad ==> None\n",
      "==================================\n",
      "http://www.espnfc.com/major-league-soccer/19/blog/post/3240730/mls-playoff-preview-can-toronto-fc-do-the-double-who-wins-the-west ==> None\n",
      "==================================\n",
      "http://espnfc.com/ ==> None\n",
      "==================================\n",
      "http://www.espnfc.us/club/real-madrid/86/squad ==> None\n",
      "==================================\n",
      "http://www.espnfc.com/real-madrid/story/3240820/cristiano-ronaldo-named-best-fifa-mens-player-for-second-year-running ==> None\n",
      "==================================\n",
      "http://espnfc.com/ ==> None\n",
      "==================================\n",
      "http://www.espnfc.com/blog/marcottis-musings/62/post/3240839/liverpool-woe-as-spurs-march-on-psg-pushed-serie-a-intrigue-mourinho-expects-response ==> None\n",
      "==================================\n",
      "http://www.espnfc.us/club/everton/368/squad ==> None\n",
      "==================================\n",
      "http://www.espnfc.com/english-premier-league/23/blog/post/3240800/ronald-koeman-exits-everton-due-to-poorly-built-squad-confusing-tactics ==> None\n",
      "==================================\n",
      "/f1/ ==> None\n",
      "==================================\n",
      "/f1/ ==> None\n",
      "==================================\n",
      "/f1/story/_/id/21124382/make-seb-life-misery-next-three-years ==> None\n",
      "==================================\n",
      "/f1/ ==> None\n",
      "==================================\n",
      "/f1/story/_/id/21117238/lewis-hamilton-beats-sebastian-vettel-tactical-austin-duel ==> None\n",
      "==================================\n",
      "/f1/ ==> None\n",
      "==================================\n",
      "/f1/story/_/id/21118344/us-grand-prix-let-get-ready-grumble ==> None\n",
      "==================================\n",
      "http://theundefeated.com/ ==> None\n",
      "==================================\n",
      "https://theundefeated.com/features/when-jackie-robinson-and-dan-bankhead-became-the-first-african-americans-to-play-in-world-series/ ==> None\n",
      "==================================\n",
      "/mlb/ ==> None\n",
      "==================================\n",
      "/mlb/team/_/name/bos/boston-red-sox ==> None\n",
      "==================================\n",
      "/blog/boston/red-sox/post/_/id/53698/alex-cora-just-got-the-best-worst-job-in-baseball ==> None\n",
      "==================================\n",
      "/mlb/ ==> None\n",
      "==================================\n",
      "https://www.facebook.com/dialog/share?href=http%3A%2F%2Fes.pn%2F2lc3YcW&app_id=116656161708917 ==> None\n",
      "==================================\n",
      "http://twitter.com/intent/tweet?lang=en&url=http%3A%2F%2Fes.pn%2F2lc3YcW&text=Can%20Cora%20handle%20the%20heat%20in%20Boston%3F ==> None\n",
      "==================================\n",
      "mailto:?subject=Can%20Cora%20handle%20the%20heat%20in%20Boston%3F&body=http://es.pn/2lc3YcW ==> None\n",
      "==================================\n",
      "http://es.pn/2lc3YcW ==> None\n",
      "==================================\n",
      "/blog/chicago/cubs/post/_/id/46221/after-coming-up-short-cubs-face-a-winters-worth-of-changes ==> None\n",
      "==================================\n",
      "/nba/ ==> None\n",
      "==================================\n",
      "/nba/ ==> None\n",
      "==================================\n",
      "/nba/insider/story/_/id/21111874/nba-draft-rankings-best-seniors-college-basketball ==> None\n",
      "==================================\n",
      "/nba/ ==> None\n",
      "==================================\n",
      "/nba/insider/story/_/id/21112608/nba-draft-rankings-top-25-seniors-college-basketball ==> None\n",
      "==================================\n",
      "http://espn.go.com/nhl/team/_/name/vgs/vegas-golden-knights ==> None\n",
      "==================================\n",
      "/nhl/story/_/id/21124629/nhl-why-vegas-golden-knights-winning ==> None\n",
      "==================================\n",
      "https://fivethirtyeight.com/features/vegas-is-the-best-expansion-team-in-nhl-history/ ==> FiveThirtyEight: Vegas is the best expansion team in NHL history\n",
      "==================================\n",
      "/college-football/ ==> None\n",
      "==================================\n",
      "/college-football/ ==> None\n",
      "==================================\n",
      "/college-football/story/_/page/powerrankings102117/penn-state-nittany-lions-notre-dame-fighting-irish-make-strong-statements ==> None\n",
      "==================================\n",
      "/college-football/team/_/id/87/notre-dame-fighting-irish ==> None\n",
      "==================================\n",
      "/college-football/story/_/page/RoadtoAtlanta102217/here-come-notre-dame-fighting-irish-there-goes-pac-12-more-college-football-playoff-lessons ==> None\n",
      "==================================\n",
      "/college-football/story/_/id/21110727/week-8-college-football-bowl-projections-2017 ==> Bowl projections\n",
      "==================================\n",
      "/college-football/story/_/page/fourforfour102117/college-football-playoff-predictions-week-8 ==> College Football Playoff picks after Week 8\n",
      "==================================\n",
      "/nfl/story/_/id/21130180/andrew-sendejo-minnesota-vikings-suspended-one-game-hit-mike-wallace-baltimore-ravens ==> Vikings' Sendejo suspended for hit on Wallace\n",
      "==================================\n",
      "/nfl/story/_/id/21129992/marshawn-lynch-oakland-raiders-appeal-heard-marcus-peters-testifies ==> Sources: Lynch appeal heard; Peters testifies\n",
      "==================================\n",
      "/nba/story/_/id/21129455/golden-state-warriors-guard-stephen-curry-fined-50000-throwing-mouthpiece ==> Curry fined $50K over throwing mouthpiece\n",
      "==================================\n",
      "/nba/story/_/id/21127746/eric-bledsoe-sent-home-meeting-phoenix-suns ==> GM: Bledsoe likely played final game for Suns\n",
      "==================================\n",
      "/nfl/story/_/id/21128339/martavis-bryant-pittsburgh-steelers-misses-meetings-due-illness ==> Amid trade chatter, WR Bryant calls in sick\n",
      "==================================\n",
      "/nba/story/_/id/21129442/josh-jackson-phoenix-suns-hand-gesture-fan-was-not-gun ==> Suns' Jackson: Hand gesture at fan wasn't gun\n",
      "==================================\n",
      "/nfl/insider/story/_/id/21121139/nfl-preseason-game-predictions-revisited-surprises-continue ==> Revisiting NFL game-by-game predictions\n",
      "==================================\n",
      "None ==> None\n",
      "==================================\n",
      "# ==> Manage Favorites\n",
      "==================================\n",
      "http://www.espn.com/fantasy/ ==> Fantasy Home\n",
      "==================================\n",
      "/nfl/ ==> None\n",
      "==================================\n",
      "/nfl/ ==> Jets complete 'Monday Night Miracle'\n",
      "==================================\n",
      "http://theundefeated.com/features/nba-50-greatest-players-remix/ ==> None\n",
      "==================================\n",
      "http://theundefeated.com/features/nba-50-greatest-players-remix/ ==> NBA's 50 Greatest Players list: The remix\n",
      "==================================\n",
      "/nhl/story/_/id/21080555/nhl-bring-back-infamous-glow-puck ==> None\n",
      "==================================\n",
      "/nhl/story/_/id/21080555/nhl-bring-back-infamous-glow-puck ==> Seriously, the time is right to bring in the FoxTrax glow puck 2.0\n",
      "==================================\n",
      "/nba/story/_/id/20970052/nba-lonzo-ball-viewer-guide-see-matchups-rookie-season ==> None\n",
      "==================================\n",
      "/nba/story/_/id/20970052/nba-lonzo-ball-viewer-guide-see-matchups-rookie-season ==> Got beef? The guide to all of Lonzo Ball's must-see matchups\n",
      "==================================\n",
      "http://games.espn.com/fba/welcome/createleague?ex_cid=FBA2016_RightRailCreate ==> Create A League\n",
      "==================================\n",
      "http://games.espn.com/fba/livedraftlobby?ex_cid=FBA2016_RightRailNow ==> Draft a Team Now\n",
      "==================================\n",
      "http://games.espn.com/fba/leaguedirectory?ex_cid=FBA2016_RightRailLater ==> Draft a Team Later\n",
      "==================================\n",
      "http://games.espn.com/fba/mockdraftlobby ==> Mock Draft Now\n",
      "==================================\n",
      "https://disneyprivacycenter.com/ ==> Privacy Policy\n",
      "==================================\n",
      "http://www.espn.com/espn/daily ==> Read the Latest\n"
     ]
    }
   ],
   "source": [
    "links = doc.xpath(\"//a\")\n",
    "# Iterates over all the links (this means all the nodes\n",
    "# that matched the //a XPath query) and prints the content\n",
    "# of the attribute href and the text for that node\n",
    "for link in links:\n",
    "    print(\"==================================\")\n",
    "    print(link.get(\"href\"), \"==>\", link.text)"
   ]
  },
  {
   "cell_type": "code",
   "execution_count": 8,
   "metadata": {},
   "outputs": [
    {
     "data": {
      "text/plain": [
       "lxml.html.HtmlElement"
      ]
     },
     "execution_count": 8,
     "metadata": {},
     "output_type": "execute_result"
    }
   ],
   "source": [
    "lnk = links[70]\n",
    "type(lnk)"
   ]
  },
  {
   "cell_type": "markdown",
   "metadata": {},
   "source": [
    "The `lnk` variable is again an HtmlElement. To get parts of the html element that we need, we can use the `get` method (e.g., to get the `href` attribute) and the `text_content()` method (to get the text within the `<a>...</a>` tag."
   ]
  },
  {
   "cell_type": "code",
   "execution_count": 9,
   "metadata": {},
   "outputs": [
    {
     "data": {
      "text/plain": [
       "'http://www.espn.com/espn/apps/download?app=espn'"
      ]
     },
     "execution_count": 9,
     "metadata": {},
     "output_type": "execute_result"
    }
   ],
   "source": [
    "lnk.get(\"href\")"
   ]
  },
  {
   "cell_type": "code",
   "execution_count": null,
   "metadata": {},
   "outputs": [],
   "source": [
    "lnk.text_content()"
   ]
  },
  {
   "cell_type": "markdown",
   "metadata": {},
   "source": [
    "Now, let's revisit the _list comprehension_ approach that we discussed in the Python Primer session, for quickly constructing lists:"
   ]
  },
  {
   "cell_type": "code",
   "execution_count": null,
   "metadata": {},
   "outputs": [],
   "source": [
    "urls = [lnk.get(\"href\") for lnk in doc.xpath('//a')]\n",
    "urls"
   ]
  },
  {
   "cell_type": "markdown",
   "metadata": {},
   "source": [
    "#### Exercise\n",
    "\n",
    "Use a list compresension approach, to get the text_content of all the URLs in the page."
   ]
  },
  {
   "cell_type": "code",
   "execution_count": null,
   "metadata": {},
   "outputs": [],
   "source": [
    "# your code here\n"
   ]
  },
  {
   "cell_type": "markdown",
   "metadata": {},
   "source": [
    "And now create a list where we put together text content and the URL for each link"
   ]
  },
  {
   "cell_type": "code",
   "execution_count": null,
   "metadata": {},
   "outputs": [],
   "source": [
    "# your code here\n"
   ]
  },
  {
   "cell_type": "markdown",
   "metadata": {},
   "source": [
    "#### Let's get the headlines..."
   ]
  },
  {
   "cell_type": "markdown",
   "metadata": {},
   "source": [
    "Now, let's examine how we can get the data from the website. The key is to understand the structure of the HTML, where the data that we need is stored, and how to fetch the elements. Then, using the appropriate XPath queries, we will get what we want."
   ]
  },
  {
   "cell_type": "code",
   "execution_count": 13,
   "metadata": {},
   "outputs": [],
   "source": [
    "import requests # This command allows us to fetch URLs\n",
    "from lxml import html # This module will allow us to parse the returned HTML/XML\n",
    "import pandas # To create a dataframe"
   ]
  },
  {
   "cell_type": "markdown",
   "metadata": {},
   "source": [
    "Let's start by fetching the page, and parsing it"
   ]
  },
  {
   "cell_type": "code",
   "execution_count": 14,
   "metadata": {},
   "outputs": [],
   "source": [
    "url = \"http://www.espn.com/\"\n",
    "response = requests.get(url) # get the html of that url\n",
    "doc = html.fromstring(response.text) # parse it and create a document"
   ]
  },
  {
   "cell_type": "code",
   "execution_count": 15,
   "metadata": {},
   "outputs": [
    {
     "data": {
      "text/plain": [
       "26"
      ]
     },
     "execution_count": 15,
     "metadata": {},
     "output_type": "execute_result"
    }
   ],
   "source": [
    "# Find all the <a> nodes that have an attribute\n",
    "# data-mptype that is equal to 'headline'\n",
    "results = doc.xpath('//a[@data-mptype=\"headline\"]')\n",
    "len(results)"
   ]
  },
  {
   "cell_type": "code",
   "execution_count": 22,
   "metadata": {},
   "outputs": [
    {
     "name": "stdout",
     "output_type": "stream",
     "text": [
      "How to bet Washington at Philadelphia ==> http://www.espn.com/chalk/insider/story/_/id/21111123/nfl-vegas-handicappers-break-how-bet-washington-philadelphia\n",
      "=============================\n",
      "Vikings' Sendejo suspended for hit on Wallace ==> http://www.espn.com/nfl/story/_/id/21130180/andrew-sendejo-minnesota-vikings-suspended-one-game-hit-mike-wallace-baltimore-ravens\n",
      "=============================\n",
      "Sources: Lynch appeal heard; Peters testifies ==> http://www.espn.com/nfl/story/_/id/21129992/marshawn-lynch-oakland-raiders-appeal-heard-marcus-peters-testifies\n",
      "=============================\n",
      "Curry fined $50K over throwing mouthpiece ==> http://www.espn.com/nba/story/_/id/21129455/golden-state-warriors-guard-stephen-curry-fined-50000-throwing-mouthpiece\n",
      "=============================\n",
      "GM: Bledsoe likely played final game for Suns ==> http://www.espn.com/nba/story/_/id/21127746/eric-bledsoe-sent-home-meeting-phoenix-suns\n",
      "=============================\n",
      "Amid trade chatter, WR Bryant calls in sick ==> http://www.espn.com/nfl/story/_/id/21128339/martavis-bryant-pittsburgh-steelers-misses-meetings-due-illness\n",
      "=============================\n",
      "Suns' Jackson: Hand gesture at fan wasn't gun ==> http://www.espn.com/nba/story/_/id/21129442/josh-jackson-phoenix-suns-hand-gesture-fan-was-not-gun\n",
      "=============================\n",
      "Revisiting NFL game-by-game predictions ==> http://www.espn.com/nfl/insider/story/_/id/21121139/nfl-preseason-game-predictions-revisited-surprises-continue\n",
      "=============================\n",
      "Do the Knicks have the pieces to pull off a deal? ==> http://www.espn.com/blog/new-york-knicks/post/_/id/66808/does-new-york-have-the-pieces-to-pull-off-a-bledsoe-deal\n",
      "=============================\n",
      "World Series schedule ==> http://www.espn.com/mlb/story/_/page/playoffs17_schedule/2017-mlb-playoff-schedule\n",
      "=============================\n",
      "Vote: Who will win? ==> http://www.espn.com/sportsnation/story/_/id/21127148/sportsnation-los-angeles-dodgers-houston-astros-win-world-series\n",
      "=============================\n",
      "Is Corey Seager the key player in the World Series? ==> http://www.espn.com/mlb/insider/story/_/id/21117315/is-corey-seager-key-player-world-series\n",
      "=============================\n",
      "McElwain: Family, players getting death threats ==> http://www.espn.com/college-football/story/_/id/21128125/jim-mcelwain-florida-gators-coach-says-family-players-receiving-death-threats\n",
      "=============================\n",
      "Full odds to win 2017-18 national championship ==> http://www.espn.com/chalk/story/_/id/18439150/college-football-full-list-odds-win-2017-18-college-football-national-championship-game\n",
      "=============================\n",
      "Full list of 2017 Heisman trophy odds ==> http://www.espn.com/chalk/story/_/id/18690743/college-football-full-list-latest-2017-heisman-trophy-odds\n",
      "=============================\n",
      "Why the 'Madden view' won't take over NFL broadcasts ... yet ==> http://www.espn.com/blog/nflnation/post/_/id/254095/why-the-madden-view-wont-take-over-nfl-broadcasts-yet\n",
      "=============================\n",
      "FiveThirtyEight: Vegas is the best expansion team in NHL history ==> http://www.espn.comhttps://fivethirtyeight.com/features/vegas-is-the-best-expansion-team-in-nhl-history/\n",
      "=============================\n",
      "Bowl projections ==> http://www.espn.com/college-football/story/_/id/21110727/week-8-college-football-bowl-projections-2017\n",
      "=============================\n",
      "College Football Playoff picks after Week 8 ==> http://www.espn.com/college-football/story/_/page/fourforfour102117/college-football-playoff-predictions-week-8\n",
      "=============================\n",
      "Vikings' Sendejo suspended for hit on Wallace ==> http://www.espn.com/nfl/story/_/id/21130180/andrew-sendejo-minnesota-vikings-suspended-one-game-hit-mike-wallace-baltimore-ravens\n",
      "=============================\n",
      "Sources: Lynch appeal heard; Peters testifies ==> http://www.espn.com/nfl/story/_/id/21129992/marshawn-lynch-oakland-raiders-appeal-heard-marcus-peters-testifies\n",
      "=============================\n",
      "Curry fined $50K over throwing mouthpiece ==> http://www.espn.com/nba/story/_/id/21129455/golden-state-warriors-guard-stephen-curry-fined-50000-throwing-mouthpiece\n",
      "=============================\n",
      "GM: Bledsoe likely played final game for Suns ==> http://www.espn.com/nba/story/_/id/21127746/eric-bledsoe-sent-home-meeting-phoenix-suns\n",
      "=============================\n",
      "Amid trade chatter, WR Bryant calls in sick ==> http://www.espn.com/nfl/story/_/id/21128339/martavis-bryant-pittsburgh-steelers-misses-meetings-due-illness\n",
      "=============================\n",
      "Suns' Jackson: Hand gesture at fan wasn't gun ==> http://www.espn.com/nba/story/_/id/21129442/josh-jackson-phoenix-suns-hand-gesture-fan-was-not-gun\n",
      "=============================\n",
      "Revisiting NFL game-by-game predictions ==> http://www.espn.com/nfl/insider/story/_/id/21121139/nfl-preseason-game-predictions-revisited-surprises-continue\n",
      "=============================\n"
     ]
    }
   ],
   "source": [
    "for result in results:\n",
    "    print(result.text, '==>', 'http://www.espn.com'+result.get('href'))\n",
    "    print('=============================')"
   ]
  },
  {
   "cell_type": "code",
   "execution_count": null,
   "metadata": {},
   "outputs": [],
   "source": []
  },
  {
   "cell_type": "markdown",
   "metadata": {},
   "source": [
    "By using the `\"Right-Click > Inspect\"` option of Chrome,\n",
    "we right click on the headlines and select `\"Inspect\"`.\n",
    "This opens the source code.\n",
    "There we see that all under a `<div class=\"headlineStack\">` tag."
   ]
  },
  {
   "cell_type": "code",
   "execution_count": null,
   "metadata": {},
   "outputs": [],
   "source": [
    "headlineNode = doc.xpath('//div[@class=\"headlineStack\"]')"
   ]
  },
  {
   "cell_type": "markdown",
   "metadata": {},
   "source": [
    "The result of that operation is a list with 9 elements."
   ]
  },
  {
   "cell_type": "code",
   "execution_count": null,
   "metadata": {},
   "outputs": [],
   "source": [
    "type(headlineNode)"
   ]
  },
  {
   "cell_type": "code",
   "execution_count": null,
   "metadata": {},
   "outputs": [],
   "source": [
    "len(headlineNode)"
   ]
  },
  {
   "cell_type": "markdown",
   "metadata": {},
   "source": [
    "Each headline is under a  `<li><a href=\"....\"></a>` tag.\n",
    "So, we get all the `<li><a ...>` tags within the `<div class=\"headlineStack\">`\n",
    "(which is stored in the \"`headlineNode`\" variable)"
   ]
  },
  {
   "cell_type": "code",
   "execution_count": null,
   "metadata": {},
   "outputs": [],
   "source": [
    "headlines = headlineNode[0].xpath('.//li/a')\n",
    "len(headlines)"
   ]
  },
  {
   "cell_type": "markdown",
   "metadata": {},
   "source": [
    "Now, we have the nodes with the conent in the headlines variable.\n",
    "We extract the text and the URL."
   ]
  },
  {
   "cell_type": "code",
   "execution_count": null,
   "metadata": {},
   "outputs": [],
   "source": [
    "data = [{\"Title\": a.text_content(), \"URL\": a.get(\"href\")} for a in headlines]\n",
    "data"
   ]
  },
  {
   "cell_type": "markdown",
   "metadata": {},
   "source": [
    "And let's create our dataframe, so that we can have a better view"
   ]
  },
  {
   "cell_type": "code",
   "execution_count": null,
   "metadata": {},
   "outputs": [],
   "source": [
    "dataframe = pandas.DataFrame(data)\n",
    "dataframe"
   ]
  },
  {
   "cell_type": "markdown",
   "metadata": {},
   "source": [
    "#### Of course, there are always more than one way to skin a cat...\n",
    "\n",
    "Alternatively, if we did not want to restrict ourselves to just the first headline box, we could write an alternative query, to get back all the headlines, that appear in an XPath `//div[@class=\"headlineStack\"]//li/a`:"
   ]
  },
  {
   "cell_type": "code",
   "execution_count": null,
   "metadata": {},
   "outputs": [],
   "source": [
    "headlines = doc.xpath('//div[@class=\"headlineStack\"]//li/a')\n",
    "data = [{\"Title\": a.text_content(), \"URL\": \"http://www.espn.com\" + a.get(\"href\")} for a in headlines]\n",
    "df = pandas.DataFrame(data)\n",
    "df"
   ]
  },
  {
   "cell_type": "markdown",
   "metadata": {},
   "source": [
    "### In Class Example: Crawl BuzzFeed\n",
    "\n",
    "* We will try to get the top articles that appear on Buzzfeed\n",
    "* We will grab the link for the article, the text of the title, the description, and the editor.\n",
    "* The results will be stored in a dataframe (we will see in detail what a dataframe is, in a couple of modules)\n"
   ]
  },
  {
   "cell_type": "code",
   "execution_count": null,
   "metadata": {},
   "outputs": [],
   "source": [
    "#your code here\n",
    "import requests\n",
    "from lxml import html\n",
    "\n",
    "resp = requests.get(\"http://www.buzzfeed.com\")\n",
    "doc = html.fromstring(resp.text)"
   ]
  },
  {
   "cell_type": "code",
   "execution_count": null,
   "metadata": {},
   "outputs": [],
   "source": []
  },
  {
   "cell_type": "code",
   "execution_count": null,
   "metadata": {},
   "outputs": [],
   "source": []
  },
  {
   "cell_type": "code",
   "execution_count": null,
   "metadata": {},
   "outputs": [],
   "source": []
  },
  {
   "cell_type": "markdown",
   "metadata": {
    "collapsed": true
   },
   "source": [
    "#### Solution for Buzzfeed (as of February 27, 2017)"
   ]
  },
  {
   "cell_type": "code",
   "execution_count": null,
   "metadata": {},
   "outputs": [],
   "source": [
    "import requests # This command allows us to fetch URLs\n",
    "from lxml import html # This module will allow us to parse the returned HTML/XML\n",
    "import pandas\n",
    "\n",
    "# Let's start by fetching the page, and parsing it\n",
    "url = \"http://www.buzzfeed.com/\"\n",
    "response = requests.get(url) # get the html of that url\n",
    "doc = html.fromstring(response.text) # parse it and create a document\n",
    "\n",
    "articleNodes = doc.xpath(\"//div[@class='xs-px05 sm-pl05']\") \n",
    "\n",
    "def parseArticleNode(article):\n",
    "    headline = article.xpath(\".//a/h2\")[0].text_content()\n",
    "    headline_link = article.xpath(\".//a\")[0].get(\"href\")\n",
    "    description = article.xpath(\".//a/p\")[0].text_content()\n",
    "    editor = article.xpath(\".//a[contains(@class,'card__byline-link')]/span\")[0].text_content().strip()\n",
    "    \n",
    "    result = {\n",
    "        \"headline\": headline,\n",
    "        \"URL\" : headline_link,\n",
    "        \"description\" : description,\n",
    "        \"editor\" : editor\n",
    "    }\n",
    "    return result\n",
    "\n",
    "data = [parseArticleNode(article) for article in articleNodes]\n",
    "df = pandas.DataFrame(data)\n",
    "df"
   ]
  },
  {
   "cell_type": "code",
   "execution_count": null,
   "metadata": {},
   "outputs": [],
   "source": []
  }
 ],
 "metadata": {
  "kernelspec": {
   "display_name": "Python 3",
   "language": "python",
   "name": "python3"
  },
  "language_info": {
   "codemirror_mode": {
    "name": "ipython",
    "version": 3
   },
   "file_extension": ".py",
   "mimetype": "text/x-python",
   "name": "python",
   "nbconvert_exporter": "python",
   "pygments_lexer": "ipython3",
   "version": "3.5.2"
  }
 },
 "nbformat": 4,
 "nbformat_minor": 1
}
