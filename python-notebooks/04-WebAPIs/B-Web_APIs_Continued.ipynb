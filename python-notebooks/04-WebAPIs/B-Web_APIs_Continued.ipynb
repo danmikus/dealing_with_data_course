{
 "cells": [
  {
   "cell_type": "markdown",
   "metadata": {},
   "source": [
    "## Web API's continued: Face Recognition, Entity Extraction, etc"
   ]
  },
  {
   "cell_type": "markdown",
   "metadata": {},
   "source": [
    "Now let's try to play with a few APIs that are a bit more complex than the ones that we dealt earlier.\n",
    "\n",
    "## FacePlusPlus API: Face Recognition\n",
    "\n",
    "Let's start with the FacePlusPlus API that allows us to recognize faces. We will call the API through Mashape, which will also allow us to learn about _headers_, which is an additional piece of information that we send to APIs, in addition to parameters. The documentation of Face++ on Mashape can be found at https://market.mashape.com/faceplusplus/faceplusplus-face-detection.\n",
    "\n",
    "We will start by analyzing the image below, which is accessible through this URL: http://graphics8.nytimes.com/newsgraphics/2016/02/01/iowa-hp/dd8cb1e066b52661f94bb2306fc54189f1c3325e/hp-kk-dem-1.jpg"
   ]
  },
  {
   "cell_type": "markdown",
   "metadata": {},
   "source": [
    "![Image from NY Times](http://graphics8.nytimes.com/newsgraphics/2016/02/01/iowa-hp/dd8cb1e066b52661f94bb2306fc54189f1c3325e/hp-kk-dem-1.jpg)"
   ]
  },
  {
   "cell_type": "code",
   "execution_count": 132,
   "metadata": {
    "collapsed": true
   },
   "outputs": [],
   "source": [
    "import requests\n",
    "import json\n",
    "\n",
    "facepp_url = \"https://faceplusplus-faceplusplus.p.mashape.com/detection/detect\"\n",
    "img_url = \"http://graphics8.nytimes.com/newsgraphics/2016/02/01/iowa-hp/dd8cb1e066b52661f94bb2306fc54189f1c3325e/hp-kk-dem-1.jpg\"\n",
    "\n",
    "headers = {\n",
    "  \"X-Mashape-Key\": \"zG3wec50exmshxNoF1NMHNRH37GYp1d7oW8jsnWwIMTeMmALxg\",\n",
    "  \"Accept\": \"application/json\"\n",
    "}\n",
    "parameters = {\n",
    "    'attributes': 'glass,pose,gender,age,race,smiling',\n",
    "    'url': img_url\n",
    "}\n",
    "\n",
    "data = requests.get(facepp_url, params=parameters, headers=headers, verify=True).json()\n"
   ]
  },
  {
   "cell_type": "code",
   "execution_count": 133,
   "metadata": {},
   "outputs": [
    {
     "data": {
      "text/plain": [
       "dict_keys(['img_width', 'face', 'img_height', 'session_id', 'img_id', 'url'])"
      ]
     },
     "execution_count": 133,
     "metadata": {},
     "output_type": "execute_result"
    }
   ],
   "source": [
    "data.keys()"
   ]
  },
  {
   "cell_type": "code",
   "execution_count": 134,
   "metadata": {},
   "outputs": [
    {
     "data": {
      "text/plain": [
       "[{'attribute': {'age': {'range': 7, 'value': 27},\n",
       "   'gender': {'confidence': 99.9869, 'value': 'Female'},\n",
       "   'race': {'confidence': 99.9008, 'value': 'White'},\n",
       "   'smiling': {'value': 94.373}},\n",
       "  'face_id': 'c55b52ce2f623acca70796b56d2f4e79',\n",
       "  'position': {'center': {'x': 33.25, 'y': 56.967213},\n",
       "   'eye_left': {'x': 30.623667, 'y': 52.593716},\n",
       "   'eye_right': {'x': 35.997333, 'y': 52.868306},\n",
       "   'height': 17.759563,\n",
       "   'mouth_left': {'x': 30.004833, 'y': 59.921585},\n",
       "   'mouth_right': {'x': 36.188, 'y': 60.390984},\n",
       "   'nose': {'x': 32.874667, 'y': 58.267486},\n",
       "   'width': 10.833333},\n",
       "  'tag': ''},\n",
       " {'attribute': {'age': {'range': 10, 'value': 61},\n",
       "   'gender': {'confidence': 99.9889, 'value': 'Male'},\n",
       "   'race': {'confidence': 99.00919999999999, 'value': 'White'},\n",
       "   'smiling': {'value': 43.5574}},\n",
       "  'face_id': '2470bdb8c39898a536d6fa17407933f8',\n",
       "  'position': {'center': {'x': 66.333333, 'y': 57.377049},\n",
       "   'eye_left': {'x': 64.0845, 'y': 52.454372},\n",
       "   'eye_right': {'x': 69.210667, 'y': 54.480055},\n",
       "   'height': 17.486339,\n",
       "   'mouth_left': {'x': 63.514167, 'y': 61.669672},\n",
       "   'mouth_right': {'x': 68.5345, 'y': 63.172404},\n",
       "   'nose': {'x': 65.472, 'y': 57.95847},\n",
       "   'width': 10.666667},\n",
       "  'tag': ''}]"
      ]
     },
     "execution_count": 134,
     "metadata": {},
     "output_type": "execute_result"
    }
   ],
   "source": [
    "data['face']"
   ]
  },
  {
   "cell_type": "code",
   "execution_count": 135,
   "metadata": {},
   "outputs": [
    {
     "data": {
      "text/plain": [
       "2"
      ]
     },
     "execution_count": 135,
     "metadata": {},
     "output_type": "execute_result"
    }
   ],
   "source": [
    "# The \"face\" attribute contains a list, and each element of the list is a dictionary\n",
    "len(data[\"face\"])"
   ]
  },
  {
   "cell_type": "markdown",
   "metadata": {},
   "source": [
    "#### Exercise\n",
    "\n",
    "* Print the gender, age, race, and smiling attributes for each face\n",
    "* Do an image search and get an image URL from the Internet, preferably with multiple faces. Repeat the task above for the new image."
   ]
  },
  {
   "cell_type": "code",
   "execution_count": null,
   "metadata": {
    "collapsed": true
   },
   "outputs": [],
   "source": [
    "# your code here"
   ]
  },
  {
   "cell_type": "markdown",
   "metadata": {},
   "source": [
    "### Interacting with the IBM Watson Natural Language Understanding API; POST vs GET\n",
    "\n",
    "Another useful API, especially when dealing with text, is the [IBM Watson  Natural Language Understanding API](https://www.ibm.com/watson/developercloud/natural-language-understanding/api/v1/#introduction), which offers a variety of text analysis functionalities, such as sentiment analysis, entity extraction, keyword extraction, etc.\n",
    "\n",
    "#### /analyze call\n",
    "\n",
    "We will first start with the `GET /analyze` API call ([documentation](https://www.ibm.com/watson/developercloud/natural-language-understanding/api/v1/#get-analyze)), which takes as input a piece of text, and returns an analysis across various dimensions.\n",
    "\n",
    "The call below gets as input a \"text\" variable, and returns back the sentiment of the text."
   ]
  },
  {
   "cell_type": "code",
   "execution_count": 140,
   "metadata": {
    "collapsed": true
   },
   "outputs": [],
   "source": [
    "import requests\n",
    "import json\n",
    "\n",
    "def getSentiment(text):\n",
    "    endpoint = \"https://gateway.watsonplatform.net/natural-language-understanding/api/v1/analyze\"\n",
    "\n",
    "    # You can register and get your own credentials\n",
    "    # The ones below have a quota of 1000 calls per day \n",
    "    # and can run out quickly if multiple people use these\n",
    "    username = \"802a033d-ff91-4b02-a6c4-a40703ac1b16\"\n",
    "    password = \"TBWFrRx6xwmc\"\n",
    "\n",
    "    parameters = {\n",
    "        #'features' : 'concepts,categories,emotion,entities,keywords,metadata,relations,semantic_roles,sentiment',\n",
    "        'features': 'emotion,sentiment',\n",
    "        'version' : '2017-02-27',\n",
    "        'text': text,\n",
    "        'language' : 'en',\n",
    "        # url = url_to_analyze, this is an alternative to sending the text\n",
    "    }\n",
    "\n",
    "    resp = requests.get(endpoint, params=parameters, auth=(username, password))\n",
    "    \n",
    "    return resp.json()\n",
    "\n",
    "text = '''\n",
    "This class is challenging, but I love how much I am learning.\n",
    "'''\n",
    "\n",
    "data = getSentiment(text)"
   ]
  },
  {
   "cell_type": "code",
   "execution_count": 141,
   "metadata": {},
   "outputs": [
    {
     "data": {
      "text/plain": [
       "dict_keys(['language', 'emotion', 'sentiment'])"
      ]
     },
     "execution_count": 141,
     "metadata": {},
     "output_type": "execute_result"
    }
   ],
   "source": [
    "data.keys()"
   ]
  },
  {
   "cell_type": "code",
   "execution_count": 142,
   "metadata": {},
   "outputs": [
    {
     "data": {
      "text/plain": [
       "{'document': {'label': 'positive', 'score': 0.766383}}"
      ]
     },
     "execution_count": 142,
     "metadata": {},
     "output_type": "execute_result"
    }
   ],
   "source": [
    "data['sentiment']"
   ]
  },
  {
   "cell_type": "code",
   "execution_count": 143,
   "metadata": {},
   "outputs": [
    {
     "data": {
      "text/plain": [
       "{'document': {'emotion': {'anger': 0.004903,\n",
       "   'disgust': 0.021981,\n",
       "   'fear': 0.156431,\n",
       "   'joy': 0.775761,\n",
       "   'sadness': 0.057214}}}"
      ]
     },
     "execution_count": 143,
     "metadata": {},
     "output_type": "execute_result"
    }
   ],
   "source": [
    "data['emotion']"
   ]
  },
  {
   "cell_type": "markdown",
   "metadata": {},
   "source": [
    "#### Entities call\n",
    "\n",
    "[Full Documentation of the call](https://www.ibm.com/watson/developercloud/natural-language-understanding/api/v1/#entities)\n",
    "\n",
    "This is a an API call that extracts entities from the text, and also the sentiment and emotion for each of these entities. You will also see that there is the capability of \"normalizing\" each entity, so that two different ways of saying the same thing get mapped to the same entity. So for example, \"President Trump\" and \"Donald Trump\" get mapped to the same Knowledge Graph entity."
   ]
  },
  {
   "cell_type": "code",
   "execution_count": 145,
   "metadata": {
    "collapsed": true
   },
   "outputs": [],
   "source": [
    "import requests\n",
    "import json\n",
    "\n",
    "def processURL(url_to_analyze):\n",
    "    endpoint_watson = \"https://gateway.watsonplatform.net/natural-language-understanding/api/v1/analyze\"\n",
    "    params = {\n",
    "        'version': '2017-02-27',\n",
    "    }\n",
    "    headers = { \n",
    "        'Content-Type': 'application/json',\n",
    "    }\n",
    "    watson_options = {\n",
    "      \"url\": url_to_analyze,\n",
    "      \"features\": {\n",
    "        \"entities\": {\n",
    "          \"sentiment\": True,\n",
    "          \"emotion\": True,\n",
    "          \"limit\": 10\n",
    "        }\n",
    "      }\n",
    "    }\n",
    "    username = \"802a033d-ff91-4b02-a6c4-a40703ac1b16\"\n",
    "    password = \"TBWFrRx6xwmc\"\n",
    "\n",
    "    resp = requests.post(endpoint_watson, data=json.dumps(watson_options), \n",
    "                         headers=headers, params=params, auth=(username, password) )\n",
    "    return resp.json()\n",
    "\n",
    "\n",
    "url_to_analyze = 'http://www.politico.com/story/2017/05/23/infrastructure-transportation-trump-budget-238741'\n",
    "\n",
    "data = processURL(url_to_analyze)"
   ]
  },
  {
   "cell_type": "code",
   "execution_count": 146,
   "metadata": {},
   "outputs": [
    {
     "data": {
      "text/plain": [
       "dict_keys(['language', 'entities', 'retrieved_url'])"
      ]
     },
     "execution_count": 146,
     "metadata": {},
     "output_type": "execute_result"
    }
   ],
   "source": [
    "# Let's see what we get back as top-level attributes\n",
    "data.keys()"
   ]
  },
  {
   "cell_type": "code",
   "execution_count": 147,
   "metadata": {},
   "outputs": [
    {
     "data": {
      "text/plain": [
       "[{'count': 4,\n",
       "  'disambiguation': {'dbpedia_resource': 'http://dbpedia.org/resource/Donald_Trump',\n",
       "   'name': 'Donald Trump',\n",
       "   'subtype': ['AwardNominee',\n",
       "    'AwardWinner',\n",
       "    'Celebrity',\n",
       "    'CompanyFounder',\n",
       "    'TVPersonality',\n",
       "    'TVProducer',\n",
       "    'FilmActor',\n",
       "    'TVActor']},\n",
       "  'emotion': {'anger': 0.202945,\n",
       "   'disgust': 0.290059,\n",
       "   'fear': 0.284567,\n",
       "   'joy': 0.050412,\n",
       "   'sadness': 0.148262},\n",
       "  'relevance': 0.882851,\n",
       "  'sentiment': {'score': 0.0},\n",
       "  'text': 'President Donald Trump',\n",
       "  'type': 'Person'},\n",
       " {'count': 6,\n",
       "  'emotion': {'anger': 0.105083,\n",
       "   'disgust': 0.083277,\n",
       "   'fear': 0.281151,\n",
       "   'joy': 0.211854,\n",
       "   'sadness': 0.431002},\n",
       "  'relevance': 0.684575,\n",
       "  'sentiment': {'score': 0.0797512},\n",
       "  'text': 'president',\n",
       "  'type': 'JobTitle'},\n",
       " {'count': 3,\n",
       "  'emotion': {'anger': 0.0,\n",
       "   'disgust': 0.0,\n",
       "   'fear': 0.0,\n",
       "   'joy': 0.0,\n",
       "   'sadness': 0.0},\n",
       "  'relevance': 0.612887,\n",
       "  'sentiment': {'score': 0.51212},\n",
       "  'text': 'Trump',\n",
       "  'type': 'Company'},\n",
       " {'count': 2,\n",
       "  'emotion': {'anger': 0.071794,\n",
       "   'disgust': 0.177279,\n",
       "   'fear': 0.210023,\n",
       "   'joy': 0.054754,\n",
       "   'sadness': 0.343271},\n",
       "  'relevance': 0.572743,\n",
       "  'sentiment': {'score': 0.663596},\n",
       "  'text': 'Trump administration',\n",
       "  'type': 'Organization'},\n",
       " {'count': 3,\n",
       "  'emotion': {'anger': 0.197331,\n",
       "   'disgust': 0.086144,\n",
       "   'fear': 0.054934,\n",
       "   'joy': 0.012283,\n",
       "   'sadness': 0.765052},\n",
       "  'relevance': 0.51988,\n",
       "  'sentiment': {'score': 0.0},\n",
       "  'text': 'Transportation Secretary Elaine Chao',\n",
       "  'type': 'Person'},\n",
       " {'count': 3,\n",
       "  'disambiguation': {'dbpedia_resource': 'http://dbpedia.org/resource/United_States_Congress',\n",
       "   'name': 'United States Congress',\n",
       "   'subtype': ['Dedicator',\n",
       "    'GovernmentalBody',\n",
       "    'Legislature',\n",
       "    'NaturalOrCulturalPreservationAgency']},\n",
       "  'emotion': {'anger': 0.060515,\n",
       "   'disgust': 0.216973,\n",
       "   'fear': 0.082098,\n",
       "   'joy': 0.007325,\n",
       "   'sadness': 0.172725},\n",
       "  'relevance': 0.379804,\n",
       "  'sentiment': {'score': 0.69704},\n",
       "  'text': 'Congress',\n",
       "  'type': 'Organization'},\n",
       " {'count': 2,\n",
       "  'disambiguation': {'dbpedia_resource': 'http://dbpedia.org/resource/Chuck_Schumer',\n",
       "   'name': 'Chuck Schumer',\n",
       "   'subtype': ['Politician', 'Senator']},\n",
       "  'emotion': {'anger': 0.266502,\n",
       "   'disgust': 0.346973,\n",
       "   'fear': 0.039662,\n",
       "   'joy': 0.006107,\n",
       "   'sadness': 0.401229},\n",
       "  'relevance': 0.343674,\n",
       "  'sentiment': {'score': -0.407933},\n",
       "  'text': 'Chuck Schumer',\n",
       "  'type': 'Person'},\n",
       " {'count': 2,\n",
       "  'disambiguation': {'dbpedia_resource': 'http://dbpedia.org/resource/Peter_DeFazio',\n",
       "   'name': 'Peter DeFazio',\n",
       "   'subtype': ['Politician', 'U.S.Congressperson']},\n",
       "  'emotion': {'anger': 0.216861,\n",
       "   'disgust': 0.215316,\n",
       "   'fear': 0.037737,\n",
       "   'joy': 0.021771,\n",
       "   'sadness': 0.26533},\n",
       "  'relevance': 0.341237,\n",
       "  'sentiment': {'score': -0.404326},\n",
       "  'text': 'Rep. Peter DeFazio',\n",
       "  'type': 'Person'},\n",
       " {'count': 1,\n",
       "  'emotion': {'anger': 0.094298,\n",
       "   'disgust': 0.141639,\n",
       "   'fear': 0.05031,\n",
       "   'joy': 0.002788,\n",
       "   'sadness': 0.117232},\n",
       "  'relevance': 0.307145,\n",
       "  'sentiment': {'score': 0.51212},\n",
       "  'text': 'Federal Aviation Administration',\n",
       "  'type': 'Organization'}]"
      ]
     },
     "execution_count": 147,
     "metadata": {},
     "output_type": "execute_result"
    }
   ],
   "source": [
    "# Let' see the entities list\n",
    "data[\"entities\"]"
   ]
  },
  {
   "cell_type": "code",
   "execution_count": 148,
   "metadata": {},
   "outputs": [
    {
     "data": {
      "text/plain": [
       "{'count': 4,\n",
       " 'disambiguation': {'dbpedia_resource': 'http://dbpedia.org/resource/Donald_Trump',\n",
       "  'name': 'Donald Trump',\n",
       "  'subtype': ['AwardNominee',\n",
       "   'AwardWinner',\n",
       "   'Celebrity',\n",
       "   'CompanyFounder',\n",
       "   'TVPersonality',\n",
       "   'TVProducer',\n",
       "   'FilmActor',\n",
       "   'TVActor']},\n",
       " 'emotion': {'anger': 0.202945,\n",
       "  'disgust': 0.290059,\n",
       "  'fear': 0.284567,\n",
       "  'joy': 0.050412,\n",
       "  'sadness': 0.148262},\n",
       " 'relevance': 0.882851,\n",
       " 'sentiment': {'score': 0.0},\n",
       " 'text': 'President Donald Trump',\n",
       " 'type': 'Person'}"
      ]
     },
     "execution_count": 148,
     "metadata": {},
     "output_type": "execute_result"
    }
   ],
   "source": [
    "# Let' see the first entity. Notice the \"disambiguated\" attribute that\n",
    "# points to \"canonical\" versions of the entity, in DBPedia, Freebase, OpenCYC, YAGO, etc\n",
    "data[\"entities\"][0]"
   ]
  },
  {
   "cell_type": "code",
   "execution_count": 149,
   "metadata": {},
   "outputs": [
    {
     "data": {
      "text/plain": [
       "['President Donald Trump',\n",
       " 'president',\n",
       " 'Trump',\n",
       " 'Trump administration',\n",
       " 'Transportation Secretary Elaine Chao',\n",
       " 'Congress',\n",
       " 'Chuck Schumer',\n",
       " 'Rep. Peter DeFazio',\n",
       " 'Federal Aviation Administration']"
      ]
     },
     "execution_count": 149,
     "metadata": {},
     "output_type": "execute_result"
    }
   ],
   "source": [
    "# This function takes as input the result\n",
    "# from the IBM Watson API and returns a list\n",
    "# of entities that are relevant (above threshold)\n",
    "# to the article\n",
    "def getEntities(data, threshold):\n",
    "    result = []\n",
    "    for entity in data[\"entities\"]:\n",
    "        relevance = float(entity['relevance'])\n",
    "        if relevance > threshold:\n",
    "            result.append(entity['text'])\n",
    "    return result\n",
    "\n",
    "getEntities(data, 0.25)"
   ]
  },
  {
   "cell_type": "markdown",
   "metadata": {
    "collapsed": true
   },
   "source": [
    "#### Exercise\n",
    "\n",
    "* Fetch the main page of NY Times. Print the entities that are currently being discussed in the news, together with their relevance value and the associated sentiment.\n",
    "* _Optional:_ Use the NY Times API to fetch the Top Stories News. You can register and get an API key at https://developer.nytimes.com/. The `Top Stories V2 API` provides the details of the news of the day: (The API call documentation is at https://developer.nytimes.com/top_stories_v2.json and the API Call is  https://api.nytimes.com/svc/topstories/v2/home.json?api-key=PUTYOURKEYHERE). Repeat the entity extraction process from above."
   ]
  },
  {
   "cell_type": "code",
   "execution_count": null,
   "metadata": {
    "collapsed": true
   },
   "outputs": [],
   "source": []
  },
  {
   "cell_type": "markdown",
   "metadata": {
    "collapsed": true
   },
   "source": [
    "### Exercise: Using the Spotify API\n",
    "\n",
    "We will now use the Spotify API to get information about an artist. The documentation of the calls is at https://developer.spotify.com/web-api/endpoint-reference/. For now, use only the calls that do not require an OAuth authentication. \n",
    "\n",
    "Tasks:\n",
    "* We can first find the id of an artist using the `/v1/search?type=artist` API call. The documentation of the `search-item` endpoint is at https://developer.spotify.com/web-api/search-item/.\n",
    "* Once you get back the ID of the artist, use the `get artist` endpoint, to get further information about the artist: https://developer.spotify.com/web-api/get-artist/\n",
    "* Study the documentation and figure out how to get the albums of an article, the top tracks for an artist, and the related artists.\n",
    "\n",
    "\n",
    "\n"
   ]
  },
  {
   "cell_type": "code",
   "execution_count": null,
   "metadata": {
    "collapsed": true
   },
   "outputs": [],
   "source": []
  }
 ],
 "metadata": {
  "kernelspec": {
   "display_name": "Python 3",
   "language": "python",
   "name": "python3"
  },
  "language_info": {
   "codemirror_mode": {
    "name": "ipython",
    "version": 3
   },
   "file_extension": ".py",
   "mimetype": "text/x-python",
   "name": "python",
   "nbconvert_exporter": "python",
   "pygments_lexer": "ipython3",
   "version": "3.6.3"
  }
 },
 "nbformat": 4,
 "nbformat_minor": 1
}
