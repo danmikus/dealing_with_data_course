{
 "cells": [
  {
   "cell_type": "markdown",
   "metadata": {},
   "source": [
    "## Authentication with OAuth2"
   ]
  },
  {
   "cell_type": "markdown",
   "metadata": {},
   "source": [
    "Some of you may have already used APIs that require passing a specific key, to authorize the API calls. So the question naturally comes up: Why is that not sufficient for authentication?\n",
    "\n",
    "Here are a few reasons:\n",
    "\n",
    "* We often want our application to **act on behalf of a user** (e.g., retrieve the list of friends of a user on Facebook, and do some analysis on behalf of the user). OAuth allows for such delegation, without requiring the app to have access to the login credentials of the user.\n",
    "* Acting on behalf of a user also allows the quota to be adjusted on a per-user basis, as opposed to a per-app basis. (So that the creators of very popular apps do not have to increase the quota for their own key)\n",
    "* Users often want to give limited set of priviledges to the app (e.g., read only my profile, no posting).\n",
    "* Users want to be able to selectively remove access for specific apps, without having to change the credentials for other apps.\n",
    "\n",
    "So, how does OAuth achieves that?"
   ]
  },
  {
   "cell_type": "markdown",
   "metadata": {},
   "source": [
    "## OAuth2 flows"
   ]
  },
  {
   "cell_type": "markdown",
   "metadata": {},
   "source": [
    "Fundamentally, we have the following steps:\n",
    "\n",
    "* The app sends the user to a login page. The login page asks the user whether the user really wants to grant these permissions to the app.\n",
    "* The user logs in and grants the permissions. This generates an **authorization code** that the API sends back to the app (by **calling back a _redirect URL_**)\n",
    "* The app uses the authorization code (which proves that the user has granted permissions), and calls the API, asking for an **access token**.\n",
    "* The **access token** can then be used by the app to call the API on behalf of the user.\n",
    "\n",
    "The picture below illustrates the OAuth2 flow:\n",
    "\n",
    "<img src=\"https://assets.digitalocean.com/articles/oauth/abstract_flow.png\">\n",
    "\n",
    "Also these two tutorials explain in a simplified manner the details of the authentication process:\n",
    "* https://www.digitalocean.com/community/tutorials/an-introduction-to-oauth-2\n",
    "* http://aaronparecki.com/articles/2012/07/29/1/oauth2-simplified\n",
    "\n"
   ]
  },
  {
   "cell_type": "code",
   "execution_count": null,
   "metadata": {
    "collapsed": true
   },
   "outputs": [],
   "source": []
  }
 ],
 "metadata": {
  "kernelspec": {
   "display_name": "Python 3",
   "language": "python",
   "name": "python3"
  },
  "language_info": {
   "codemirror_mode": {
    "name": "ipython",
    "version": 3
   },
   "file_extension": ".py",
   "mimetype": "text/x-python",
   "name": "python",
   "nbconvert_exporter": "python",
   "pygments_lexer": "ipython3",
   "version": "3.5.2"
  }
 },
 "nbformat": 4,
 "nbformat_minor": 0
}
