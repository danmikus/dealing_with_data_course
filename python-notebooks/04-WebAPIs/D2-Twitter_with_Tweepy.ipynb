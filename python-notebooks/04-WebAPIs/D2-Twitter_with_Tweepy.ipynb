{
 "cells": [
  {
   "cell_type": "markdown",
   "metadata": {
    "collapsed": true
   },
   "source": [
    "## Twitter API in Python using Twitter-specific libraries"
   ]
  },
  {
   "cell_type": "markdown",
   "metadata": {
    "collapsed": true
   },
   "source": [
    "Today there are a few different Python specilized libraries which simplify our work with **Twitter** API - `tweepy`, `python-twitter`, `twython` ... (here we have called the most popular ones). Further we will consider one of them - `tweepy`.\n",
    "\n",
    "## Installing Tweepy\n",
    "Let's install `tweepy` specific Python library which we will use work with Twitter APIs. \n",
    "The most straightforward way is through the `pip` installation tool. `Python >= 2.7.9` should come installed with pip, but for earlier versions, [see this guide for installing pip](https://pip.pypa.io/en/latest/installing.html).  \n",
    "This can be run from the command line using:\n",
    "\n",
    "    pip install tweepy\n",
    "    \n",
    "Make sure you upgrade pip to the newest version:\n",
    "\n",
    "    pip install --upgrade pip"
   ]
  },
  {
   "cell_type": "code",
   "execution_count": 1,
   "metadata": {
    "collapsed": false
   },
   "outputs": [
    {
     "name": "stdout",
     "output_type": "stream",
     "text": [
      "Collecting tweepy\n",
      "  Downloading tweepy-3.5.0-py2.py3-none-any.whl\n",
      "Requirement already up-to-date: requests-oauthlib>=0.4.1 in /usr/local/lib/python3.5/dist-packages (from tweepy)\n",
      "Requirement already up-to-date: requests>=2.4.3 in /usr/local/lib/python3.5/dist-packages (from tweepy)\n",
      "Requirement already up-to-date: six>=1.7.3 in /usr/lib/python3/dist-packages (from tweepy)\n",
      "Requirement already up-to-date: oauthlib>=0.6.2 in /usr/local/lib/python3.5/dist-packages (from requests-oauthlib>=0.4.1->tweepy)\n",
      "Installing collected packages: tweepy\n",
      "Successfully installed tweepy-3.5.0\n"
     ]
    }
   ],
   "source": [
    "!sudo -H pip3 install -U tweepy"
   ]
  },
  {
   "cell_type": "code",
   "execution_count": 1,
   "metadata": {
    "collapsed": false
   },
   "outputs": [
    {
     "name": "stdout",
     "output_type": "stream",
     "text": [
      "<tweepy.api.API object at 0x04D93110>\n"
     ]
    }
   ],
   "source": [
    "import tweepy\n",
    "\n",
    "# Let's define again consumer and access keys and secrets for getting access to Twitter API through your application\n",
    "consumer_key = '<YOUR CONSUMER KEY>'\n",
    "consumer_secret = '<YOUR CONSUMER SECRET CODE>'\n",
    "\n",
    "access_token = '<YOUR ACCESS TOKEN>'\n",
    "access_secret = '<YOUR ACCESS SECRET TOKEN>'\n",
    "\n",
    "# Then you need authenticate yourself\n",
    "auth = tweepy.OAuthHandler(consumer_key, consumer_secret)\n",
    "auth.set_access_token(access_token, access_secret)\n",
    "\n",
    "api = tweepy.API(auth)\n",
    "print(api)"
   ]
  },
  {
   "cell_type": "code",
   "execution_count": 6,
   "metadata": {
    "collapsed": false
   },
   "outputs": [
    {
     "name": "stdout",
     "output_type": "stream",
     "text": [
      "My name is Volodymyr Rospotniuk\n"
     ]
    }
   ],
   "source": [
    "# If the authentication was successful, you should see the name of the account print(out)\n",
    "print(\"My name is\", api.me().name)"
   ]
  },
  {
   "cell_type": "markdown",
   "metadata": {},
   "source": [
    "### Example 1: Read Tweets Appearing on Homepage"
   ]
  },
  {
   "cell_type": "code",
   "execution_count": 3,
   "metadata": {
    "collapsed": false
   },
   "outputs": [
    {
     "name": "stdout",
     "output_type": "stream",
     "text": [
      "TWEET 0:\n",
      "\tRT @nytimesarts: 20 years ago, \"Pride and Prejudice\" was reborn on TV https://t.co/oqVZv44Ehl https://t.co/xrnPwipwK4\n",
      "\n",
      "TWEET 1:\n",
      "\tHow Obama can still win on gun control https://t.co/bxbjOBb6hG\n",
      "\n",
      "TWEET 2:\n",
      "\tRT @nytimesarts: Alejandro G. Iñárritu discusses making \"The Revenant\" https://t.co/mvMVGR99Sd https://t.co/rktaGdsFTR\n",
      "\n"
     ]
    }
   ],
   "source": [
    "# Let's display first 3 tweets in your public feed (of course, if they are present there)\n",
    "for (idx, tweet) in enumerate(tweepy.Cursor(api.home_timeline).items(3)):    \n",
    "    print('TWEET {0}:\\n\\t{1}\\n'.format(idx, tweet.text.encode(\"utf-8\")))"
   ]
  },
  {
   "cell_type": "markdown",
   "metadata": {},
   "source": [
    "Let's look at the whole data contained in one tweet. Note, the `tweepy` api has decoded the JSON and put it into a more pythonic object. So for example, we can access the message in the tweet via python attribute access. "
   ]
  },
  {
   "cell_type": "code",
   "execution_count": 4,
   "metadata": {
    "collapsed": false
   },
   "outputs": [
    {
     "name": "stdout",
     "output_type": "stream",
     "text": [
      "<class 'tweepy.models.Status'> \n",
      "\n",
      "RT @nytimesarts: 20 years ago, \"Pride and Prejudice\" was reborn on TV https://t.co/oqVZv44Ehl https://t.co/xrnPwipwK4 \n",
      "\n",
      "{\"contributors\": null, \"truncated\": false, \"text\": \"RT @nytimesarts: 20 years ago, \\\"Pride and Prejudice\\\" was reborn on TV https://t.co/oqVZv44Ehl https://t.co/xrnPwipwK4\", \"is_quote_status\": false, \"in_reply_to_status_id\": null, \"id\": 685355318864441345, \"favorite_count\": 0, \"source\": \"<a href=\\\"http://www.socialflow.com\\\" rel=\\\"nofollow\\\">SocialFlow</a>\", \"retweeted\": false, \"coordinates\": null, \"entities\": {\"symbols\": [], \"user_mentions\": [{\"id\": 1440641, \"indices\": [3, 15], \"id_str\": \"1440641\", \"screen_name\": \"nytimesarts\", \"name\": \"New York Times Arts\"}], \"hashtags\": [], \"urls\": [{\"url\": \"https://t.co/oqVZv44Ehl\", \"indices\": [70, 93], \"expanded_url\": \"http://nyti.ms/1ZdrjrJ\", \"display_url\": \"nyti.ms/1ZdrjrJ\"}], \"media\": [{\"source_user_id\": 1440641, \"source_status_id_str\": \"685304413649526784\", \"expanded_url\": \"http://twitter.com/nytimesarts/status/685304413649526784/photo/1\", \"display_url\": \"pic.twitter.com/xrnPwipwK4\", \"url\": \"https://t.co/xrnPwipwK4\", \"media_url_https\": \"https://pbs.twimg.com/media/CYKwu5jWAAAwCc1.jpg\", \"source_user_id_str\": \"1440641\", \"source_status_id\": 685304413649526784, \"id_str\": \"685304413083271168\", \"sizes\": {\"small\": {\"h\": 190, \"resize\": \"fit\", \"w\": 340}, \"large\": {\"h\": 410, \"resize\": \"fit\", \"w\": 730}, \"medium\": {\"h\": 336, \"resize\": \"fit\", \"w\": 600}, \"thumb\": {\"h\": 150, \"resize\": \"crop\", \"w\": 150}}, \"indices\": [94, 117], \"type\": \"photo\", \"id\": 685304413083271168, \"media_url\": \"http://pbs.twimg.com/media/CYKwu5jWAAAwCc1.jpg\"}]}, \"in_reply_to_screen_name\": null, \"id_str\": \"685355318864441345\", \"retweet_count\": 54, \"in_reply_to_user_id\": null, \"favorited\": false, \"retweeted_status\": {\"contributors\": null, \"truncated\": false, \"text\": \"20 years ago, \\\"Pride and Prejudice\\\" was reborn on TV https://t.co/oqVZv44Ehl https://t.co/xrnPwipwK4\", \"is_quote_status\": false, \"in_reply_to_status_id\": null, \"id\": 685304413649526784, \"favorite_count\": 91, \"source\": \"<a href=\\\"http://www.socialflow.com\\\" rel=\\\"nofollow\\\">SocialFlow</a>\", \"retweeted\": false, \"coordinates\": null, \"entities\": {\"symbols\": [], \"user_mentions\": [], \"hashtags\": [], \"urls\": [{\"url\": \"https://t.co/oqVZv44Ehl\", \"indices\": [53, 76], \"expanded_url\": \"http://nyti.ms/1ZdrjrJ\", \"display_url\": \"nyti.ms/1ZdrjrJ\"}], \"media\": [{\"expanded_url\": \"http://twitter.com/nytimesarts/status/685304413649526784/photo/1\", \"display_url\": \"pic.twitter.com/xrnPwipwK4\", \"url\": \"https://t.co/xrnPwipwK4\", \"media_url_https\": \"https://pbs.twimg.com/media/CYKwu5jWAAAwCc1.jpg\", \"id_str\": \"685304413083271168\", \"sizes\": {\"small\": {\"h\": 190, \"resize\": \"fit\", \"w\": 340}, \"large\": {\"h\": 410, \"resize\": \"fit\", \"w\": 730}, \"medium\": {\"h\": 336, \"resize\": \"fit\", \"w\": 600}, \"thumb\": {\"h\": 150, \"resize\": \"crop\", \"w\": 150}}, \"indices\": [77, 100], \"type\": \"photo\", \"id\": 685304413083271168, \"media_url\": \"http://pbs.twimg.com/media/CYKwu5jWAAAwCc1.jpg\"}]}, \"in_reply_to_screen_name\": null, \"id_str\": \"685304413649526784\", \"retweet_count\": 54, \"in_reply_to_user_id\": null, \"favorited\": false, \"user\": {\"follow_request_sent\": false, \"has_extended_profile\": false, \"profile_use_background_image\": true, \"default_profile_image\": false, \"id\": 1440641, \"profile_background_image_url_https\": \"https://pbs.twimg.com/profile_background_images/2800588/twitter.post.gif\", \"verified\": false, \"profile_text_color\": \"000000\", \"profile_image_url_https\": \"https://pbs.twimg.com/profile_images/2037590739/NYT_Twitter_arts_normal.png\", \"profile_sidebar_fill_color\": \"E7EFF8\", \"entities\": {\"url\": {\"urls\": [{\"url\": \"http://t.co/0H74AaBX8Y\", \"indices\": [0, 22], \"expanded_url\": \"http://www.nytimes.com/arts\", \"display_url\": \"nytimes.com/arts\"}]}, \"description\": {\"urls\": []}}, \"followers_count\": 1859835, \"profile_sidebar_border_color\": \"323232\", \"id_str\": \"1440641\", \"profile_background_color\": \"FFFFFF\", \"listed_count\": 17929, \"is_translation_enabled\": false, \"utc_offset\": -18000, \"statuses_count\": 91298, \"description\": \"Arts and entertainment news from The New York Times.\", \"friends_count\": 88, \"location\": \"New York, NY\", \"profile_link_color\": \"004276\", \"profile_image_url\": \"http://pbs.twimg.com/profile_images/2037590739/NYT_Twitter_arts_normal.png\", \"following\": false, \"geo_enabled\": false, \"profile_background_image_url\": \"http://pbs.twimg.com/profile_background_images/2800588/twitter.post.gif\", \"screen_name\": \"nytimesarts\", \"lang\": \"en\", \"profile_background_tile\": true, \"favourites_count\": 21, \"name\": \"New York Times Arts\", \"notifications\": false, \"url\": \"http://t.co/0H74AaBX8Y\", \"created_at\": \"Sun Mar 18 20:30:33 +0000 2007\", \"contributors_enabled\": false, \"time_zone\": \"Eastern Time (US & Canada)\", \"protected\": false, \"default_profile\": false, \"is_translator\": false}, \"geo\": null, \"in_reply_to_user_id_str\": null, \"possibly_sensitive\": false, \"possibly_sensitive_appealable\": false, \"lang\": \"en\", \"created_at\": \"Fri Jan 08 03:37:59 +0000 2016\", \"in_reply_to_status_id_str\": null, \"place\": null, \"extended_entities\": {\"media\": [{\"expanded_url\": \"http://twitter.com/nytimesarts/status/685304413649526784/photo/1\", \"display_url\": \"pic.twitter.com/xrnPwipwK4\", \"url\": \"https://t.co/xrnPwipwK4\", \"media_url_https\": \"https://pbs.twimg.com/media/CYKwu5jWAAAwCc1.jpg\", \"id_str\": \"685304413083271168\", \"sizes\": {\"small\": {\"h\": 190, \"resize\": \"fit\", \"w\": 340}, \"large\": {\"h\": 410, \"resize\": \"fit\", \"w\": 730}, \"medium\": {\"h\": 336, \"resize\": \"fit\", \"w\": 600}, \"thumb\": {\"h\": 150, \"resize\": \"crop\", \"w\": 150}}, \"indices\": [77, 100], \"type\": \"photo\", \"id\": 685304413083271168, \"media_url\": \"http://pbs.twimg.com/media/CYKwu5jWAAAwCc1.jpg\"}]}}, \"user\": {\"follow_request_sent\": false, \"has_extended_profile\": false, \"profile_use_background_image\": true, \"default_profile_image\": false, \"id\": 807095, \"profile_background_image_url_https\": \"https://pbs.twimg.com/profile_background_images/736339684/948f072cc2da4e3a5e9f2ebfb3b1a0e7.png\", \"verified\": true, \"profile_text_color\": \"333333\", \"profile_image_url_https\": \"https://pbs.twimg.com/profile_images/2044921128/finals_normal.png\", \"profile_sidebar_fill_color\": \"EFEFEF\", \"entities\": {\"url\": {\"urls\": [{\"url\": \"http://t.co/ahvuWqicF9\", \"indices\": [0, 22], \"expanded_url\": \"http://www.nytimes.com/\", \"display_url\": \"nytimes.com\"}]}, \"description\": {\"urls\": [{\"url\": \"https://t.co/YapuoqX0HS\", \"indices\": [111, 134], \"expanded_url\": \"http://NYTimes.com\", \"display_url\": \"NYTimes.com\"}]}}, \"followers_count\": 23066787, \"profile_sidebar_border_color\": \"FFFFFF\", \"id_str\": \"807095\", \"profile_background_color\": \"131516\", \"listed_count\": 171442, \"is_translation_enabled\": true, \"utc_offset\": -18000, \"statuses_count\": 213995, \"description\": \"Where the conversation begins. Follow for breaking news, special reports, RTs of our journalists and more from https://t.co/YapuoqX0HS.\", \"friends_count\": 987, \"location\": \"New York City\", \"profile_link_color\": \"607696\", \"profile_image_url\": \"http://pbs.twimg.com/profile_images/2044921128/finals_normal.png\", \"following\": true, \"geo_enabled\": false, \"profile_banner_url\": \"https://pbs.twimg.com/profile_banners/807095/1355346050\", \"profile_background_image_url\": \"http://pbs.twimg.com/profile_background_images/736339684/948f072cc2da4e3a5e9f2ebfb3b1a0e7.png\", \"screen_name\": \"nytimes\", \"lang\": \"en\", \"profile_background_tile\": true, \"favourites_count\": 9101, \"name\": \"The New York Times\", \"notifications\": false, \"url\": \"http://t.co/ahvuWqicF9\", \"created_at\": \"Fri Mar 02 20:41:42 +0000 2007\", \"contributors_enabled\": false, \"time_zone\": \"Eastern Time (US & Canada)\", \"protected\": false, \"default_profile\": false, \"is_translator\": false}, \"geo\": null, \"in_reply_to_user_id_str\": null, \"possibly_sensitive\": false, \"possibly_sensitive_appealable\": false, \"lang\": \"en\", \"created_at\": \"Fri Jan 08 07:00:15 +0000 2016\", \"in_reply_to_status_id_str\": null, \"place\": null, \"extended_entities\": {\"media\": [{\"source_user_id\": 1440641, \"source_status_id_str\": \"685304413649526784\", \"expanded_url\": \"http://twitter.com/nytimesarts/status/685304413649526784/photo/1\", \"display_url\": \"pic.twitter.com/xrnPwipwK4\", \"url\": \"https://t.co/xrnPwipwK4\", \"media_url_https\": \"https://pbs.twimg.com/media/CYKwu5jWAAAwCc1.jpg\", \"source_user_id_str\": \"1440641\", \"source_status_id\": 685304413649526784, \"id_str\": \"685304413083271168\", \"sizes\": {\"small\": {\"h\": 190, \"resize\": \"fit\", \"w\": 340}, \"large\": {\"h\": 410, \"resize\": \"fit\", \"w\": 730}, \"medium\": {\"h\": 336, \"resize\": \"fit\", \"w\": 600}, \"thumb\": {\"h\": 150, \"resize\": \"crop\", \"w\": 150}}, \"indices\": [94, 117], \"type\": \"photo\", \"id\": 685304413083271168, \"media_url\": \"http://pbs.twimg.com/media/CYKwu5jWAAAwCc1.jpg\"}]}}\n"
     ]
    }
   ],
   "source": [
    "import json\n",
    "\n",
    "tweet = api.home_timeline()[0]\n",
    "print(type(tweet), '\\n')\n",
    "print(tweet.text, '\\n')\n",
    "print(json.dumps(tweet._json))"
   ]
  },
  {
   "cell_type": "markdown",
   "metadata": {},
   "source": [
    "Let's see attributes associated with a Status object, which corresponds to any tweet."
   ]
  },
  {
   "cell_type": "code",
   "execution_count": 5,
   "metadata": {
    "collapsed": false
   },
   "outputs": [
    {
     "data": {
      "text/plain": [
       "['contributors',\n",
       " 'truncated',\n",
       " 'text',\n",
       " 'is_quote_status',\n",
       " 'in_reply_to_status_id',\n",
       " 'id',\n",
       " 'favorite_count',\n",
       " '_api',\n",
       " 'source',\n",
       " '_json',\n",
       " 'coordinates',\n",
       " 'entities',\n",
       " 'in_reply_to_screen_name',\n",
       " 'in_reply_to_user_id',\n",
       " 'retweet_count',\n",
       " 'id_str',\n",
       " 'favorited',\n",
       " 'retweeted_status',\n",
       " 'source_url',\n",
       " 'user',\n",
       " 'geo',\n",
       " 'in_reply_to_user_id_str',\n",
       " 'possibly_sensitive',\n",
       " 'possibly_sensitive_appealable',\n",
       " 'lang',\n",
       " 'created_at',\n",
       " 'author',\n",
       " 'in_reply_to_status_id_str',\n",
       " 'place',\n",
       " 'extended_entities',\n",
       " 'retweeted']"
      ]
     },
     "execution_count": 5,
     "metadata": {},
     "output_type": "execute_result"
    }
   ],
   "source": [
    "tweet.__dict__.keys()"
   ]
  },
  {
   "cell_type": "markdown",
   "metadata": {},
   "source": [
    "### Example 2: Get Twitter User Info"
   ]
  },
  {
   "cell_type": "code",
   "execution_count": 6,
   "metadata": {
    "collapsed": false
   },
   "outputs": [
    {
     "name": "stdout",
     "output_type": "stream",
     "text": [
      "User name: saimadhu \n",
      "\n",
      "User(follow_request_sent=False, has_extended_profile=False, profile_use_background_image=False, _json={u'follow_request_sent': False, u'has_extended_profile': False, u'profile_use_background_image': False, u'profile_text_color': u'000000', u'default_profile_image': False, u'id': 1088398616, u'profile_background_image_url_https': u'https://abs.twimg.com/images/themes/theme1/bg.png', u'verified': False, u'profile_location': None, u'profile_image_url_https': u'https://pbs.twimg.com/profile_images/548857163574038529/lsco2HgL_normal.jpeg', u'profile_sidebar_fill_color': u'000000', u'entities': {u'url': {u'urls': [{u'url': u'http://t.co/XWKZub79TD', u'indices': [0, 22], u'expanded_url': u'http://dataaspirant.com', u'display_url': u'dataaspirant.com'}]}, u'description': {u'urls': []}}, u'followers_count': 107, u'profile_sidebar_border_color': u'000000', u'id_str': u'1088398616', u'profile_background_color': u'000000', u'listed_count': 12, u'status': {u'contributors': None, u'truncated': False, u'text': u'DataAspirant November 2015 newsletter has been released, Have a look on best data science blogs,Videos,Linkedin... https://t.co/2mEvwDu9wX', u'in_reply_to_status_id': None, u'id': 671027461925244928L, u'favorite_count': 1, u'source': u'<a href=\"http://www.facebook.com/twitter\" rel=\"nofollow\">Facebook</a>', u'retweeted': False, u'coordinates': None, u'entities': {u'symbols': [], u'user_mentions': [], u'hashtags': [], u'urls': [{u'url': u'https://t.co/2mEvwDu9wX', u'indices': [115, 138], u'expanded_url': u'http://fb.me/44a2TrlfB', u'display_url': u'fb.me/44a2TrlfB'}]}, u'in_reply_to_screen_name': None, u'id_str': u'671027461925244928', u'retweet_count': 0, u'in_reply_to_user_id': None, u'favorited': False, u'geo': None, u'in_reply_to_user_id_str': None, u'possibly_sensitive': False, u'lang': u'en', u'created_at': u'Sun Nov 29 18:06:28 +0000 2015', u'in_reply_to_status_id_str': None, u'place': None}, u'is_translation_enabled': False, u'utc_offset': -28800, u'statuses_count': 115, u'description': u'Data Scientist,Data Science Blogger', u'friends_count': 167, u'location': u'Kakinada', u'profile_link_color': u'3B94D9', u'profile_image_url': u'http://pbs.twimg.com/profile_images/548857163574038529/lsco2HgL_normal.jpeg', u'following': False, u'geo_enabled': False, u'profile_banner_url': u'https://pbs.twimg.com/profile_banners/1088398616/1428480377', u'profile_background_image_url': u'http://abs.twimg.com/images/themes/theme1/bg.png', u'name': u'saimadhu', u'lang': u'en', u'profile_background_tile': False, u'favourites_count': 7, u'screen_name': u'saimadhup', u'notifications': False, u'url': u'http://t.co/XWKZub79TD', u'created_at': u'Mon Jan 14 08:25:49 +0000 2013', u'contributors_enabled': False, u'time_zone': u'Pacific Time (US & Canada)', u'protected': False, u'default_profile': False, u'is_translator': False}, time_zone=u'Pacific Time (US & Canada)', id=1088398616, description=u'Data Scientist,Data Science Blogger', _api=<tweepy.api.API object at 0x04D93110>, verified=False, profile_location=None, profile_image_url_https=u'https://pbs.twimg.com/profile_images/548857163574038529/lsco2HgL_normal.jpeg', profile_sidebar_fill_color=u'000000', is_translator=False, geo_enabled=False, entities={u'url': {u'urls': [{u'url': u'http://t.co/XWKZub79TD', u'indices': [0, 22], u'expanded_url': u'http://dataaspirant.com', u'display_url': u'dataaspirant.com'}]}, u'description': {u'urls': []}}, followers_count=107, protected=False, id_str=u'1088398616', default_profile_image=False, listed_count=12, status=Status(contributors=None, truncated=False, text=u'DataAspirant November 2015 newsletter has been released, Have a look on best data science blogs,Videos,Linkedin... https://t.co/2mEvwDu9wX', in_reply_to_status_id=None, id=671027461925244928L, favorite_count=1, _api=<tweepy.api.API object at 0x04D93110>, source=u'Facebook', _json={u'contributors': None, u'truncated': False, u'text': u'DataAspirant November 2015 newsletter has been released, Have a look on best data science blogs,Videos,Linkedin... https://t.co/2mEvwDu9wX', u'in_reply_to_status_id': None, u'id': 671027461925244928L, u'favorite_count': 1, u'source': u'<a href=\"http://www.facebook.com/twitter\" rel=\"nofollow\">Facebook</a>', u'retweeted': False, u'coordinates': None, u'entities': {u'symbols': [], u'user_mentions': [], u'hashtags': [], u'urls': [{u'url': u'https://t.co/2mEvwDu9wX', u'indices': [115, 138], u'expanded_url': u'http://fb.me/44a2TrlfB', u'display_url': u'fb.me/44a2TrlfB'}]}, u'in_reply_to_screen_name': None, u'id_str': u'671027461925244928', u'retweet_count': 0, u'in_reply_to_user_id': None, u'favorited': False, u'geo': None, u'in_reply_to_user_id_str': None, u'possibly_sensitive': False, u'lang': u'en', u'created_at': u'Sun Nov 29 18:06:28 +0000 2015', u'in_reply_to_status_id_str': None, u'place': None}, coordinates=None, entities={u'symbols': [], u'user_mentions': [], u'hashtags': [], u'urls': [{u'url': u'https://t.co/2mEvwDu9wX', u'indices': [115, 138], u'expanded_url': u'http://fb.me/44a2TrlfB', u'display_url': u'fb.me/44a2TrlfB'}]}, in_reply_to_screen_name=None, id_str=u'671027461925244928', retweet_count=0, in_reply_to_user_id=None, favorited=False, source_url=u'http://www.facebook.com/twitter', geo=None, in_reply_to_user_id_str=None, possibly_sensitive=False, lang=u'en', created_at=datetime.datetime(2015, 11, 29, 18, 6, 28), in_reply_to_status_id_str=None, place=None, retweeted=False), lang=u'en', utc_offset=-28800, statuses_count=115, profile_background_color=u'000000', friends_count=167, profile_link_color=u'3B94D9', profile_image_url=u'http://pbs.twimg.com/profile_images/548857163574038529/lsco2HgL_normal.jpeg', notifications=False, favourites_count=7, profile_background_image_url_https=u'https://abs.twimg.com/images/themes/theme1/bg.png', profile_banner_url=u'https://pbs.twimg.com/profile_banners/1088398616/1428480377', profile_background_image_url=u'http://abs.twimg.com/images/themes/theme1/bg.png', screen_name=u'saimadhup', is_translation_enabled=False, profile_background_tile=False, profile_text_color=u'000000', name=u'saimadhu', url=u'http://t.co/XWKZub79TD', created_at=datetime.datetime(2013, 1, 14, 8, 25, 49), contributors_enabled=False, location=u'Kakinada', profile_sidebar_border_color=u'000000', default_profile=False, following=False)\n"
     ]
    }
   ],
   "source": [
    "# We have chosen a random user\n",
    "user = api.get_user(1088398616)\n",
    "print(\"User name:\", user.name, '\\n')\n",
    "print(user)"
   ]
  },
  {
   "cell_type": "markdown",
   "metadata": {},
   "source": [
    "### Example 3: Get a list of all your followers"
   ]
  },
  {
   "cell_type": "code",
   "execution_count": null,
   "metadata": {
    "collapsed": false
   },
   "outputs": [],
   "source": [
    "for user in tweepy.Cursor(api.followers, screen_name=\"twitter\").items():\n",
    "    print(user.screen_name)"
   ]
  },
  {
   "cell_type": "markdown",
   "metadata": {
    "collapsed": true
   },
   "source": [
    "### Example 4: Search\n",
    "\n",
    "Search is implemented directly through `tweepy.api`. As before let's search for a single tweet about \"vacation\", phrased as a question. But we don't need worry now about URL characters encoding ☺"
   ]
  },
  {
   "cell_type": "code",
   "execution_count": 16,
   "metadata": {
    "collapsed": false
   },
   "outputs": [
    {
     "name": "stdout",
     "output_type": "stream",
     "text": [
      "<class 'tweepy.models.SearchResults'>\n",
      "Created at: 2015-12-29 14:06:01\n",
      "\"I mean... I know it's not technically 2016, but it's not too early to take a week off, is it? I'm looking at you mountains... #vacation\"\n",
      "by Gregory Smith\n"
     ]
    }
   ],
   "source": [
    "results = api.search(q='vacation?', count=1)\n",
    "print(type(results))\n",
    "print('Created at: {0}\\n\"{1}\"\\nby {2}'.format(results[0].created_at, results[0].text, results[0].author.name))"
   ]
  },
  {
   "cell_type": "markdown",
   "metadata": {},
   "source": [
    "You may create very specialized and more concrete queries. Let's find 5 tweets that contains the word \"python\" or \"IPython\" near New York. We can provide this as a `geocode` with a lattitude, longitude and radius. We can also specify time range of tweets appearance (with the help of `since` and `until` key words) and the tweet language (the `lang` parameter restricts tweets to the given language).  "
   ]
  },
  {
   "cell_type": "code",
   "execution_count": 2,
   "metadata": {
    "collapsed": false
   },
   "outputs": [
    {
     "name": "stdout",
     "output_type": "stream",
     "text": [
      "2015-12-29 14:21:28 \n",
      "Senior Python Developer Jobs in San Antonio, TX #SanAntonio #TX #jobs #jobsearch https://t.co/A8NDSs338D \n",
      "\n",
      "2015-12-29 14:21:14 \n",
      "RT @Rian_anuar: Python spotted at harbourfront https://t.co/XoQmA2i748 \n",
      "\n",
      "2015-12-29 14:20:29 \n",
      "@ainvvy Have you watched Monty Python's \"Argument Clinic\"? https://t.co/rF5qZSBy2M \n",
      "\n",
      "2015-12-29 14:20:20 \n",
      "Will the python swallow them whole! Will Alfie's farts kill the cobra? #india #cricket https://t.co/MeYy8B2H4B \n",
      "\n",
      "2015-12-29 14:20:10 \n",
      "RT @PyWaw: If you want to give a talk on PyWaw meetup in 2016, please fill this form https://t.co/1iXgUzkLCb #pywaw #python #warsawio #Plea… \n",
      "\n"
     ]
    }
   ],
   "source": [
    "for tweet in api.search(q='python OR ipython since:2010-12-01 until:2015-12-31', count=5, show_user=False,\n",
    "                        geocode='40.7127, -74.0059, 50mi', lang='en'):\n",
    "    print(tweet.created_at, '\\n',  tweet.text, '\\n')"
   ]
  },
  {
   "cell_type": "markdown",
   "metadata": {
    "collapsed": true
   },
   "source": [
    "### Example 5: Finding what are in the trend somewhere\n",
    "\n",
    "According to the [tweepy API](http://tweepy.readthedocs.org/en/v3.5.0/api.html), we can return the top trending topics for a specific location, where the location is a `WOEID (Yahoo Where on Earth ID)`. \n",
    "\n",
    "The `WOEID` is a unique identifier, similar to zipcodes, but that expand worldwide. For example, New York has a `WOEID` of 2459115. You can search for `WOEID`'s here: http://woeid.rosselliot.co.nz/.\n",
    "\n",
    "Let's see the top trending topics in New York"
   ]
  },
  {
   "cell_type": "code",
   "execution_count": 8,
   "metadata": {
    "collapsed": false
   },
   "outputs": [
    {
     "data": {
      "text/plain": [
       "[{u'as_of': u'2015-12-29T14:36:42Z',\n",
       "  u'created_at': u'2015-12-29T14:32:56Z',\n",
       "  u'locations': [{u'name': u'New York', u'woeid': 2459115}],\n",
       "  u'trends': [{u'name': u'#MessageForMyCrush',\n",
       "    u'promoted_content': None,\n",
       "    u'query': u'%23MessageForMyCrush',\n",
       "    u'tweet_volume': 58453,\n",
       "    u'url': u'http://twitter.com/search?q=%23MessageForMyCrush'},\n",
       "   {u'name': u'Ethan Couch',\n",
       "    u'promoted_content': None,\n",
       "    u'query': u'%22Ethan+Couch%22',\n",
       "    u'tweet_volume': 24169,\n",
       "    u'url': u'http://twitter.com/search?q=%22Ethan+Couch%22'},\n",
       "   {u'name': u'#Guinea',\n",
       "    u'promoted_content': None,\n",
       "    u'query': u'%23Guinea',\n",
       "    u'tweet_volume': None,\n",
       "    u'url': u'http://twitter.com/search?q=%23Guinea'},\n",
       "   {u'name': u'#YEEZYBOOST',\n",
       "    u'promoted_content': None,\n",
       "    u'query': u'%23YEEZYBOOST',\n",
       "    u'tweet_volume': None,\n",
       "    u'url': u'http://twitter.com/search?q=%23YEEZYBOOST'},\n",
       "   {u'name': u'#1YearWithoutO2L',\n",
       "    u'promoted_content': None,\n",
       "    u'query': u'%231YearWithoutO2L',\n",
       "    u'tweet_volume': None,\n",
       "    u'url': u'http://twitter.com/search?q=%231YearWithoutO2L'},\n",
       "   {u'name': u'Eric Weddle',\n",
       "    u'promoted_content': None,\n",
       "    u'query': u'%22Eric+Weddle%22',\n",
       "    u'tweet_volume': 10045,\n",
       "    u'url': u'http://twitter.com/search?q=%22Eric+Weddle%22'},\n",
       "   {u'name': u'#IsItIllusionOrReality',\n",
       "    u'promoted_content': None,\n",
       "    u'query': u'%23IsItIllusionOrReality',\n",
       "    u'tweet_volume': None,\n",
       "    u'url': u'http://twitter.com/search?q=%23IsItIllusionOrReality'},\n",
       "   {u'name': u'Dappy',\n",
       "    u'promoted_content': None,\n",
       "    u'query': u'Dappy',\n",
       "    u'tweet_volume': 17318,\n",
       "    u'url': u'http://twitter.com/search?q=Dappy'},\n",
       "   {u'name': u'Good Tuesday',\n",
       "    u'promoted_content': None,\n",
       "    u'query': u'%22Good+Tuesday%22',\n",
       "    u'tweet_volume': None,\n",
       "    u'url': u'http://twitter.com/search?q=%22Good+Tuesday%22'},\n",
       "   {u'name': u'Media Day',\n",
       "    u'promoted_content': None,\n",
       "    u'query': u'%22Media+Day%22',\n",
       "    u'tweet_volume': None,\n",
       "    u'url': u'http://twitter.com/search?q=%22Media+Day%22'},\n",
       "   {u'name': u'Dame Dash',\n",
       "    u'promoted_content': None,\n",
       "    u'query': u'%22Dame+Dash%22',\n",
       "    u'tweet_volume': None,\n",
       "    u'url': u'http://twitter.com/search?q=%22Dame+Dash%22'},\n",
       "   {u'name': u'494 EB',\n",
       "    u'promoted_content': None,\n",
       "    u'query': u'%22494+EB%22',\n",
       "    u'tweet_volume': None,\n",
       "    u'url': u'http://twitter.com/search?q=%22494+EB%22'},\n",
       "   {u'name': u'Finishline',\n",
       "    u'promoted_content': None,\n",
       "    u'query': u'Finishline',\n",
       "    u'tweet_volume': None,\n",
       "    u'url': u'http://twitter.com/search?q=Finishline'},\n",
       "   {u'name': u'Job in 2015',\n",
       "    u'promoted_content': None,\n",
       "    u'query': u'%22Job+in+2015%22',\n",
       "    u'tweet_volume': None,\n",
       "    u'url': u'http://twitter.com/search?q=%22Job+in+2015%22'},\n",
       "   {u'name': u'Craig Strickland',\n",
       "    u'promoted_content': None,\n",
       "    u'query': u'%22Craig+Strickland%22',\n",
       "    u'tweet_volume': None,\n",
       "    u'url': u'http://twitter.com/search?q=%22Craig+Strickland%22'},\n",
       "   {u'name': u'Melrose Park',\n",
       "    u'promoted_content': None,\n",
       "    u'query': u'%22Melrose+Park%22',\n",
       "    u'tweet_volume': None,\n",
       "    u'url': u'http://twitter.com/search?q=%22Melrose+Park%22'},\n",
       "   {u'name': u'State of the Onion',\n",
       "    u'promoted_content': None,\n",
       "    u'query': u'%22State+of+the+Onion%22',\n",
       "    u'tweet_volume': None,\n",
       "    u'url': u'http://twitter.com/search?q=%22State+of+the+Onion%22'},\n",
       "   {u'name': u'ASCAP',\n",
       "    u'promoted_content': None,\n",
       "    u'query': u'ASCAP',\n",
       "    u'tweet_volume': None,\n",
       "    u'url': u'http://twitter.com/search?q=ASCAP'},\n",
       "   {u'name': u\"America's Empty Embassies\",\n",
       "    u'promoted_content': None,\n",
       "    u'query': u'%22America%27s+Empty+Embassies%22',\n",
       "    u'tweet_volume': None,\n",
       "    u'url': u'http://twitter.com/search?q=%22America%27s+Empty+Embassies%22'},\n",
       "   {u'name': u'Deep South',\n",
       "    u'promoted_content': None,\n",
       "    u'query': u'%22Deep+South%22',\n",
       "    u'tweet_volume': None,\n",
       "    u'url': u'http://twitter.com/search?q=%22Deep+South%22'},\n",
       "   {u'name': u'90 East',\n",
       "    u'promoted_content': None,\n",
       "    u'query': u'%2290+East%22',\n",
       "    u'tweet_volume': None,\n",
       "    u'url': u'http://twitter.com/search?q=%2290+East%22'},\n",
       "   {u'name': u'USGS',\n",
       "    u'promoted_content': None,\n",
       "    u'query': u'USGS',\n",
       "    u'tweet_volume': None,\n",
       "    u'url': u'http://twitter.com/search?q=USGS'},\n",
       "   {u'name': u'10 Things to Know for Today',\n",
       "    u'promoted_content': None,\n",
       "    u'query': u'%2210+Things+to+Know+for+Today%22',\n",
       "    u'tweet_volume': None,\n",
       "    u'url': u'http://twitter.com/search?q=%2210+Things+to+Know+for+Today%22'},\n",
       "   {u'name': u'Lewinsky',\n",
       "    u'promoted_content': None,\n",
       "    u'query': u'Lewinsky',\n",
       "    u'tweet_volume': None,\n",
       "    u'url': u'http://twitter.com/search?q=Lewinsky'},\n",
       "   {u'name': u'HIPAA',\n",
       "    u'promoted_content': None,\n",
       "    u'query': u'HIPAA',\n",
       "    u'tweet_volume': None,\n",
       "    u'url': u'http://twitter.com/search?q=HIPAA'},\n",
       "   {u'name': u'Wounded Knee',\n",
       "    u'promoted_content': None,\n",
       "    u'query': u'%22Wounded+Knee%22',\n",
       "    u'tweet_volume': None,\n",
       "    u'url': u'http://twitter.com/search?q=%22Wounded+Knee%22'},\n",
       "   {u'name': u'#okquake',\n",
       "    u'promoted_content': None,\n",
       "    u'query': u'%23okquake',\n",
       "    u'tweet_volume': None,\n",
       "    u'url': u'http://twitter.com/search?q=%23okquake'},\n",
       "   {u'name': u'#PlaceASongInAmerica',\n",
       "    u'promoted_content': None,\n",
       "    u'query': u'%23PlaceASongInAmerica',\n",
       "    u'tweet_volume': None,\n",
       "    u'url': u'http://twitter.com/search?q=%23PlaceASongInAmerica'},\n",
       "   {u'name': u'#FelizMartes',\n",
       "    u'promoted_content': None,\n",
       "    u'query': u'%23FelizMartes',\n",
       "    u'tweet_volume': 19163,\n",
       "    u'url': u'http://twitter.com/search?q=%23FelizMartes'},\n",
       "   {u'name': u'#AndThenISaid',\n",
       "    u'promoted_content': None,\n",
       "    u'query': u'%23AndThenISaid',\n",
       "    u'tweet_volume': None,\n",
       "    u'url': u'http://twitter.com/search?q=%23AndThenISaid'},\n",
       "   {u'name': u'#Ujamaa',\n",
       "    u'promoted_content': None,\n",
       "    u'query': u'%23Ujamaa',\n",
       "    u'tweet_volume': None,\n",
       "    u'url': u'http://twitter.com/search?q=%23Ujamaa'},\n",
       "   {u'name': u'#MightyQuinn',\n",
       "    u'promoted_content': None,\n",
       "    u'query': u'%23MightyQuinn',\n",
       "    u'tweet_volume': None,\n",
       "    u'url': u'http://twitter.com/search?q=%23MightyQuinn'},\n",
       "   {u'name': u'#azencross',\n",
       "    u'promoted_content': None,\n",
       "    u'query': u'%23azencross',\n",
       "    u'tweet_volume': None,\n",
       "    u'url': u'http://twitter.com/search?q=%23azencross'},\n",
       "   {u'name': u'#Mardan',\n",
       "    u'promoted_content': None,\n",
       "    u'query': u'%23Mardan',\n",
       "    u'tweet_volume': None,\n",
       "    u'url': u'http://twitter.com/search?q=%23Mardan'},\n",
       "   {u'name': u'#BOSnow',\n",
       "    u'promoted_content': None,\n",
       "    u'query': u'%23BOSnow',\n",
       "    u'tweet_volume': None,\n",
       "    u'url': u'http://twitter.com/search?q=%23BOSnow'},\n",
       "   {u'name': u'#Twug',\n",
       "    u'promoted_content': None,\n",
       "    u'query': u'%23Twug',\n",
       "    u'tweet_volume': None,\n",
       "    u'url': u'http://twitter.com/search?q=%23Twug'},\n",
       "   {u'name': u'#WildfireDay',\n",
       "    u'promoted_content': None,\n",
       "    u'query': u'%23WildfireDay',\n",
       "    u'tweet_volume': 10309,\n",
       "    u'url': u'http://twitter.com/search?q=%23WildfireDay'},\n",
       "   {u'name': u'#RIZIN',\n",
       "    u'promoted_content': None,\n",
       "    u'query': u'%23RIZIN',\n",
       "    u'tweet_volume': 17326,\n",
       "    u'url': u'http://twitter.com/search?q=%23RIZIN'},\n",
       "   {u'name': u'#IdGiveYou',\n",
       "    u'promoted_content': None,\n",
       "    u'query': u'%23IdGiveYou',\n",
       "    u'tweet_volume': None,\n",
       "    u'url': u'http://twitter.com/search?q=%23IdGiveYou'},\n",
       "   {u'name': u'#MAwx',\n",
       "    u'promoted_content': None,\n",
       "    u'query': u'%23MAwx',\n",
       "    u'tweet_volume': None,\n",
       "    u'url': u'http://twitter.com/search?q=%23MAwx'},\n",
       "   {u'name': u'#NECN',\n",
       "    u'promoted_content': None,\n",
       "    u'query': u'%23NECN',\n",
       "    u'tweet_volume': None,\n",
       "    u'url': u'http://twitter.com/search?q=%23NECN'},\n",
       "   {u'name': u'#TransformationTuesday',\n",
       "    u'promoted_content': None,\n",
       "    u'query': u'%23TransformationTuesday',\n",
       "    u'tweet_volume': None,\n",
       "    u'url': u'http://twitter.com/search?q=%23TransformationTuesday'},\n",
       "   {u'name': u'#TexasBowl',\n",
       "    u'promoted_content': None,\n",
       "    u'query': u'%23TexasBowl',\n",
       "    u'tweet_volume': None,\n",
       "    u'url': u'http://twitter.com/search?q=%23TexasBowl'},\n",
       "   {u'name': u'#tcnt',\n",
       "    u'promoted_content': None,\n",
       "    u'query': u'%23tcnt',\n",
       "    u'tweet_volume': None,\n",
       "    u'url': u'http://twitter.com/search?q=%23tcnt'},\n",
       "   {u'name': u'#Midlands53',\n",
       "    u'promoted_content': None,\n",
       "    u'query': u'%23Midlands53',\n",
       "    u'tweet_volume': None,\n",
       "    u'url': u'http://twitter.com/search?q=%23Midlands53'},\n",
       "   {u'name': u'#9newsmornings',\n",
       "    u'promoted_content': None,\n",
       "    u'query': u'%239newsmornings',\n",
       "    u'tweet_volume': None,\n",
       "    u'url': u'http://twitter.com/search?q=%239newsmornings'},\n",
       "   {u'name': u'#AspirantesEurovision',\n",
       "    u'promoted_content': None,\n",
       "    u'query': u'%23AspirantesEurovision',\n",
       "    u'tweet_volume': 23381,\n",
       "    u'url': u'http://twitter.com/search?q=%23AspirantesEurovision'},\n",
       "   {u'name': u'#RIPLemmyKilmister',\n",
       "    u'promoted_content': None,\n",
       "    u'query': u'%23RIPLemmyKilmister',\n",
       "    u'tweet_volume': None,\n",
       "    u'url': u'http://twitter.com/search?q=%23RIPLemmyKilmister'},\n",
       "   {u'name': u'#healthylifestyle',\n",
       "    u'promoted_content': None,\n",
       "    u'query': u'%23healthylifestyle',\n",
       "    u'tweet_volume': None,\n",
       "    u'url': u'http://twitter.com/search?q=%23healthylifestyle'},\n",
       "   {u'name': u'#AtlantaAlive',\n",
       "    u'promoted_content': None,\n",
       "    u'query': u'%23AtlantaAlive',\n",
       "    u'tweet_volume': None,\n",
       "    u'url': u'http://twitter.com/search?q=%23AtlantaAlive'}]}]"
      ]
     },
     "execution_count": 8,
     "metadata": {},
     "output_type": "execute_result"
    }
   ],
   "source": [
    "top_trends = api.trends_place(id=2459115)\n",
    "top_trends"
   ]
  },
  {
   "cell_type": "markdown",
   "metadata": {},
   "source": [
    "As you can see, there's alot of metadata that goes into even a simple tweet. Let's slightly prettify the output data"
   ]
  },
  {
   "cell_type": "code",
   "execution_count": 9,
   "metadata": {
    "collapsed": false
   },
   "outputs": [
    {
     "name": "stdout",
     "output_type": "stream",
     "text": [
      "50 trends\n",
      "0 - #MessageForMyCrush http://twitter.com/search?q=%23MessageForMyCrush\n",
      "1 - Ethan Couch http://twitter.com/search?q=%22Ethan+Couch%22\n",
      "2 - #Guinea http://twitter.com/search?q=%23Guinea\n",
      "3 - #YEEZYBOOST http://twitter.com/search?q=%23YEEZYBOOST\n",
      "4 - #1YearWithoutO2L http://twitter.com/search?q=%231YearWithoutO2L\n",
      "5 - Eric Weddle http://twitter.com/search?q=%22Eric+Weddle%22\n",
      "6 - #IsItIllusionOrReality http://twitter.com/search?q=%23IsItIllusionOrReality\n",
      "7 - Dappy http://twitter.com/search?q=Dappy\n",
      "8 - Good Tuesday http://twitter.com/search?q=%22Good+Tuesday%22\n",
      "9 - Media Day http://twitter.com/search?q=%22Media+Day%22\n"
     ]
    }
   ],
   "source": [
    "print(len(top_trends[0]['trends']), \"trends\")\n",
    "for i, trend in enumerate(top_trends[0]['trends'][:10]):\n",
    "    print(i, '-', trend['name'], trend['url'])"
   ]
  },
  {
   "cell_type": "markdown",
   "metadata": {},
   "source": [
    "### Example 6: Streaming\n",
    "\n",
    "**Twitter** offers a [Streaming API](https://dev.twitter.com/streaming/overview) to make it easier to query streams of tweets.  The Stream API encapsulates some pain points of REST access to ensure that Stream calls don't exceed the rate limit. These tool allows to get tweet data when it appears in real time. There are three stream types:\n",
    "\n",
    "- `Public Streams:` Streams of public data flowthing through **Twitter**. Suitable for followign specific users, topics or for data mining.\n",
    "- `User Streams:` Single-user streams. Containing roughly all of the data corresponding with a single user's view of **Twitter**. \n",
    "- `Site Streams:` The multi-user version of user streams.  \n",
    "\n",
    "So, in case we want to \"keep the connection open\", and gather all the upcoming tweets, the streaming API is what we need. We need to extend the `StreamListener()` to customise the way we process the incoming data. Depending on the search term, we can get tons of tweets within a few minutes.\n",
    "\n",
    "A working example that gathers all the new tweets with the _#iphone_, _#windows_ and _#android_ hashtag:"
   ]
  },
  {
   "cell_type": "code",
   "execution_count": 21,
   "metadata": {
    "collapsed": false
   },
   "outputs": [
    {
     "name": "stdout",
     "output_type": "stream",
     "text": [
      "Tweet #1: Created at Tue Dec 29 15:15:41 +0000 2015 \n",
      " Кондитер Керриган - отличный собеседник! Познакомьтесь, и тоже это оцените! https://t.co/GNtE1EE6Xy  \n",
      "Time elapsed from the beginning: 1.44099998474 sec \n",
      "\n",
      "Tweet #2: Created at Tue Dec 29 15:15:41 +0000 2015 \n",
      " ShopNow https://t.co/GTNzBIZRtc #verizon #tmobile#metropcs#iphone6s #iphone #samsungpay #samsung #so \n",
      "Time elapsed from the beginning: 1.75499987602 sec \n",
      "\n",
      "Tweet #3: Created at Tue Dec 29 15:15:43 +0000 2015 \n",
      " Котелок радует туземцев! Теперь мой остров стал еще круче!  https://t.co/181rOIj4Zs #iphone, #iphone \n",
      "Time elapsed from the beginning: 3.67100000381 sec \n",
      "\n",
      "Tweet #4: Created at Tue Dec 29 15:15:43 +0000 2015 \n",
      " China Free 16. 精明女人的消费观(财蜜eMook) - 她理财网  https://t.co/174FtGyrpl  #Books #iTunes #iPhone #Apple  214 \n",
      "Time elapsed from the beginning: 4.14199995995 sec \n",
      "\n",
      "Tweet #5: Created at Tue Dec 29 15:15:45 +0000 2015 \n",
      " United States Free 35. Dumb Ways to Die 2: The Games - Metro Trains Melbourne Pty Ltd  https://t.co/ \n",
      "Time elapsed from the beginning: 6.21700000763 sec \n",
      "\n",
      "Tweet #6: Created at Tue Dec 29 15:15:46 +0000 2015 \n",
      " Я выполнил задание \"Снег тает в спальне\"! Заходите ко мне в гости! https://t.co/FtdK6TeCpI #iphone # \n",
      "Time elapsed from the beginning: 6.49499988556 sec \n",
      "\n",
      "Tweet #7: Created at Tue Dec 29 15:15:46 +0000 2015 \n",
      " I have reached 9 level. I got $6800 and €1! https://t.co/p0YlN8fzKH #gameinsight #iphonegames #iphon \n",
      "Time elapsed from the beginning: 7.33399987221 sec \n",
      "\n",
      "Tweet #8: Created at Tue Dec 29 15:15:48 +0000 2015 \n",
      " 5 Best Hidden Features in Windows 8.1 https://t.co/KxitbUm4XK #Windows8 #Windows10 #microsoft #corta \n",
      "Time elapsed from the beginning: 8.66999983788 sec \n",
      "\n",
      "Tweet #9: Created at Tue Dec 29 15:15:49 +0000 2015 \n",
      " Police on alert for bomb threat in Vienna https://t.co/ZAs1q6V13t #FOX #News #world \n",
      "Time elapsed from the beginning: 9.76300001144 sec \n",
      "\n",
      "Tweet #10: Created at Tue Dec 29 15:15:49 +0000 2015 \n",
      " Я завершил задание \"Здоровье жителей п...\" в игре Big Business Deluxe для iOS! https://t.co/qvKrpzXH \n",
      "Time elapsed from the beginning: 10.3680000305 sec \n",
      "\n",
      "Tweet #11: Created at Tue Dec 29 15:15:50 +0000 2015 \n",
      " United States 95. Where Are Ü Now (with Justin Bieber) - Skrillex &amp; Diplo  https://t.co/9xLFURSc \n",
      "Time elapsed from the beginning: 10.7070000172 sec \n",
      "\n",
      "Tweet #12: Created at Tue Dec 29 15:15:50 +0000 2015 \n",
      " Я собрал 2 962 золотых монет! Кто из вас сможет больше? https://t.co/2hO9XoNODo #iphone, #iphonegame \n",
      "Time elapsed from the beginning: 10.7100000381 sec \n",
      "\n",
      "Tweet #13: Created at Tue Dec 29 15:15:50 +0000 2015 \n",
      " Урожай собран - 994 еды! Ты тоже проверь свои грядки!  https://t.co/2hO9XoNODo #iphone, #iphonegames \n",
      "Time elapsed from the beginning: 10.7189998627 sec \n",
      "\n",
      "Tweet #14: Created at Tue Dec 29 15:15:50 +0000 2015 \n",
      " Now free for #iphone !! #copter style game #pequenonicolas https://t.co/sdwhTbvSCS #ios #gamer #gami \n",
      "Time elapsed from the beginning: 10.8669998646 sec \n",
      "\n",
      "Tweet #15: Created at Tue Dec 29 15:15:51 +0000 2015 \n",
      " Я собрал 23 180 золотых монет! Кто из вас сможет больше? https://t.co/kZOnrpPdrn #iphone, #iphonegam \n",
      "Time elapsed from the beginning: 12.1419999599 sec \n",
      "\n",
      "Tweet #16: Created at Tue Dec 29 15:15:52 +0000 2015 \n",
      " Make sure you download the @DigitalKingpins #APP #Iphone https://t.co/Q4zoveDgCS #android https://t. \n",
      "Time elapsed from the beginning: 13.2979998589 sec \n",
      "\n"
     ]
    },
    {
     "ename": "KeyboardInterrupt",
     "evalue": "",
     "output_type": "error",
     "traceback": [
      "\u001b[1;31m---------------------------------------------------------------------------\u001b[0m",
      "\u001b[1;31mKeyboardInterrupt\u001b[0m                         Traceback (most recent call last)",
      "\u001b[1;32m<ipython-input-21-c3d29dc8d4ba>\u001b[0m in \u001b[0;36m<module>\u001b[1;34m()\u001b[0m\n\u001b[0;32m     25\u001b[0m \u001b[1;33m\u001b[0m\u001b[0m\n\u001b[0;32m     26\u001b[0m \u001b[0mtwitter_stream\u001b[0m \u001b[1;33m=\u001b[0m \u001b[0mStream\u001b[0m\u001b[1;33m(\u001b[0m\u001b[0mauth\u001b[0m\u001b[1;33m,\u001b[0m \u001b[0mMyListener\u001b[0m\u001b[1;33m(\u001b[0m\u001b[1;33m)\u001b[0m\u001b[1;33m)\u001b[0m\u001b[1;33m\u001b[0m\u001b[0m\n\u001b[1;32m---> 27\u001b[1;33m \u001b[0mtwitter_stream\u001b[0m\u001b[1;33m.\u001b[0m\u001b[0mfilter\u001b[0m\u001b[1;33m(\u001b[0m\u001b[0mtrack\u001b[0m\u001b[1;33m=\u001b[0m\u001b[1;33m[\u001b[0m\u001b[1;34m'#iphone'\u001b[0m\u001b[1;33m,\u001b[0m \u001b[1;34m'#windows'\u001b[0m\u001b[1;33m,\u001b[0m \u001b[1;34m'#world'\u001b[0m\u001b[1;33m]\u001b[0m\u001b[1;33m)\u001b[0m\u001b[1;33m\u001b[0m\u001b[0m\n\u001b[0m",
      "\u001b[1;32mC:\\Python27\\lib\\site-packages\\tweepy\\streaming.pyc\u001b[0m in \u001b[0;36mfilter\u001b[1;34m(self, follow, track, async, locations, stall_warnings, languages, encoding, filter_level)\u001b[0m\n\u001b[0;32m    443\u001b[0m         \u001b[0mself\u001b[0m\u001b[1;33m.\u001b[0m\u001b[0msession\u001b[0m\u001b[1;33m.\u001b[0m\u001b[0mparams\u001b[0m \u001b[1;33m=\u001b[0m \u001b[1;33m{\u001b[0m\u001b[1;34m'delimited'\u001b[0m\u001b[1;33m:\u001b[0m \u001b[1;34m'length'\u001b[0m\u001b[1;33m}\u001b[0m\u001b[1;33m\u001b[0m\u001b[0m\n\u001b[0;32m    444\u001b[0m         \u001b[0mself\u001b[0m\u001b[1;33m.\u001b[0m\u001b[0mhost\u001b[0m \u001b[1;33m=\u001b[0m \u001b[1;34m'stream.twitter.com'\u001b[0m\u001b[1;33m\u001b[0m\u001b[0m\n\u001b[1;32m--> 445\u001b[1;33m         \u001b[0mself\u001b[0m\u001b[1;33m.\u001b[0m\u001b[0m_start\u001b[0m\u001b[1;33m(\u001b[0m\u001b[0masync\u001b[0m\u001b[1;33m)\u001b[0m\u001b[1;33m\u001b[0m\u001b[0m\n\u001b[0m\u001b[0;32m    446\u001b[0m \u001b[1;33m\u001b[0m\u001b[0m\n\u001b[0;32m    447\u001b[0m     def sitestream(self, follow, stall_warnings=False,\n",
      "\u001b[1;32mC:\\Python27\\lib\\site-packages\\tweepy\\streaming.pyc\u001b[0m in \u001b[0;36m_start\u001b[1;34m(self, async)\u001b[0m\n\u001b[0;32m    359\u001b[0m             \u001b[0mself\u001b[0m\u001b[1;33m.\u001b[0m\u001b[0m_thread\u001b[0m\u001b[1;33m.\u001b[0m\u001b[0mstart\u001b[0m\u001b[1;33m(\u001b[0m\u001b[1;33m)\u001b[0m\u001b[1;33m\u001b[0m\u001b[0m\n\u001b[0;32m    360\u001b[0m         \u001b[1;32melse\u001b[0m\u001b[1;33m:\u001b[0m\u001b[1;33m\u001b[0m\u001b[0m\n\u001b[1;32m--> 361\u001b[1;33m             \u001b[0mself\u001b[0m\u001b[1;33m.\u001b[0m\u001b[0m_run\u001b[0m\u001b[1;33m(\u001b[0m\u001b[1;33m)\u001b[0m\u001b[1;33m\u001b[0m\u001b[0m\n\u001b[0m\u001b[0;32m    362\u001b[0m \u001b[1;33m\u001b[0m\u001b[0m\n\u001b[0;32m    363\u001b[0m     \u001b[1;32mdef\u001b[0m \u001b[0mon_closed\u001b[0m\u001b[1;33m(\u001b[0m\u001b[0mself\u001b[0m\u001b[1;33m,\u001b[0m \u001b[0mresp\u001b[0m\u001b[1;33m)\u001b[0m\u001b[1;33m:\u001b[0m\u001b[1;33m\u001b[0m\u001b[0m\n",
      "\u001b[1;32mC:\\Python27\\lib\\site-packages\\tweepy\\streaming.pyc\u001b[0m in \u001b[0;36m_run\u001b[1;34m(self)\u001b[0m\n\u001b[0;32m    261\u001b[0m                     \u001b[0mself\u001b[0m\u001b[1;33m.\u001b[0m\u001b[0msnooze_time\u001b[0m \u001b[1;33m=\u001b[0m \u001b[0mself\u001b[0m\u001b[1;33m.\u001b[0m\u001b[0msnooze_time_step\u001b[0m\u001b[1;33m\u001b[0m\u001b[0m\n\u001b[0;32m    262\u001b[0m                     \u001b[0mself\u001b[0m\u001b[1;33m.\u001b[0m\u001b[0mlistener\u001b[0m\u001b[1;33m.\u001b[0m\u001b[0mon_connect\u001b[0m\u001b[1;33m(\u001b[0m\u001b[1;33m)\u001b[0m\u001b[1;33m\u001b[0m\u001b[0m\n\u001b[1;32m--> 263\u001b[1;33m                     \u001b[0mself\u001b[0m\u001b[1;33m.\u001b[0m\u001b[0m_read_loop\u001b[0m\u001b[1;33m(\u001b[0m\u001b[0mresp\u001b[0m\u001b[1;33m)\u001b[0m\u001b[1;33m\u001b[0m\u001b[0m\n\u001b[0m\u001b[0;32m    264\u001b[0m             \u001b[1;32mexcept\u001b[0m \u001b[1;33m(\u001b[0m\u001b[0mTimeout\u001b[0m\u001b[1;33m,\u001b[0m \u001b[0mssl\u001b[0m\u001b[1;33m.\u001b[0m\u001b[0mSSLError\u001b[0m\u001b[1;33m)\u001b[0m \u001b[1;32mas\u001b[0m \u001b[0mexc\u001b[0m\u001b[1;33m:\u001b[0m\u001b[1;33m\u001b[0m\u001b[0m\n\u001b[0;32m    265\u001b[0m                 \u001b[1;31m# This is still necessary, as a SSLError can actually be\u001b[0m\u001b[1;33m\u001b[0m\u001b[1;33m\u001b[0m\u001b[0m\n",
      "\u001b[1;32mC:\\Python27\\lib\\site-packages\\tweepy\\streaming.pyc\u001b[0m in \u001b[0;36m_read_loop\u001b[1;34m(self, resp)\u001b[0m\n\u001b[0;32m    311\u001b[0m             \u001b[0mlength\u001b[0m \u001b[1;33m=\u001b[0m \u001b[1;36m0\u001b[0m\u001b[1;33m\u001b[0m\u001b[0m\n\u001b[0;32m    312\u001b[0m             \u001b[1;32mwhile\u001b[0m \u001b[1;32mnot\u001b[0m \u001b[0mresp\u001b[0m\u001b[1;33m.\u001b[0m\u001b[0mraw\u001b[0m\u001b[1;33m.\u001b[0m\u001b[0mclosed\u001b[0m\u001b[1;33m:\u001b[0m\u001b[1;33m\u001b[0m\u001b[0m\n\u001b[1;32m--> 313\u001b[1;33m                 \u001b[0mline\u001b[0m \u001b[1;33m=\u001b[0m \u001b[0mbuf\u001b[0m\u001b[1;33m.\u001b[0m\u001b[0mread_line\u001b[0m\u001b[1;33m(\u001b[0m\u001b[1;33m)\u001b[0m\u001b[1;33m.\u001b[0m\u001b[0mstrip\u001b[0m\u001b[1;33m(\u001b[0m\u001b[1;33m)\u001b[0m\u001b[1;33m\u001b[0m\u001b[0m\n\u001b[0m\u001b[0;32m    314\u001b[0m                 \u001b[1;32mif\u001b[0m \u001b[1;32mnot\u001b[0m \u001b[0mline\u001b[0m\u001b[1;33m:\u001b[0m\u001b[1;33m\u001b[0m\u001b[0m\n\u001b[0;32m    315\u001b[0m                     \u001b[0mself\u001b[0m\u001b[1;33m.\u001b[0m\u001b[0mlistener\u001b[0m\u001b[1;33m.\u001b[0m\u001b[0mkeep_alive\u001b[0m\u001b[1;33m(\u001b[0m\u001b[1;33m)\u001b[0m  \u001b[1;31m# keep-alive new lines are expected\u001b[0m\u001b[1;33m\u001b[0m\u001b[0m\n",
      "\u001b[1;32mC:\\Python27\\lib\\site-packages\\tweepy\\streaming.pyc\u001b[0m in \u001b[0;36mread_line\u001b[1;34m(self, sep)\u001b[0m\n\u001b[0;32m    177\u001b[0m             \u001b[1;32melse\u001b[0m\u001b[1;33m:\u001b[0m\u001b[1;33m\u001b[0m\u001b[0m\n\u001b[0;32m    178\u001b[0m                 \u001b[0mstart\u001b[0m \u001b[1;33m=\u001b[0m \u001b[0mlen\u001b[0m\u001b[1;33m(\u001b[0m\u001b[0mself\u001b[0m\u001b[1;33m.\u001b[0m\u001b[0m_buffer\u001b[0m\u001b[1;33m)\u001b[0m\u001b[1;33m\u001b[0m\u001b[0m\n\u001b[1;32m--> 179\u001b[1;33m             \u001b[0mself\u001b[0m\u001b[1;33m.\u001b[0m\u001b[0m_buffer\u001b[0m \u001b[1;33m+=\u001b[0m \u001b[0mself\u001b[0m\u001b[1;33m.\u001b[0m\u001b[0m_stream\u001b[0m\u001b[1;33m.\u001b[0m\u001b[0mread\u001b[0m\u001b[1;33m(\u001b[0m\u001b[0mself\u001b[0m\u001b[1;33m.\u001b[0m\u001b[0m_chunk_size\u001b[0m\u001b[1;33m)\u001b[0m\u001b[1;33m\u001b[0m\u001b[0m\n\u001b[0m\u001b[0;32m    180\u001b[0m \u001b[1;33m\u001b[0m\u001b[0m\n\u001b[0;32m    181\u001b[0m     \u001b[1;32mdef\u001b[0m \u001b[0m_pop\u001b[0m\u001b[1;33m(\u001b[0m\u001b[0mself\u001b[0m\u001b[1;33m,\u001b[0m \u001b[0mlength\u001b[0m\u001b[1;33m)\u001b[0m\u001b[1;33m:\u001b[0m\u001b[1;33m\u001b[0m\u001b[0m\n",
      "\u001b[1;32mC:\\Python27\\lib\\site-packages\\requests\\packages\\urllib3\\response.pyc\u001b[0m in \u001b[0;36mread\u001b[1;34m(self, amt, decode_content, cache_content)\u001b[0m\n\u001b[0;32m    241\u001b[0m                 \u001b[1;32melse\u001b[0m\u001b[1;33m:\u001b[0m\u001b[1;33m\u001b[0m\u001b[0m\n\u001b[0;32m    242\u001b[0m                     \u001b[0mcache_content\u001b[0m \u001b[1;33m=\u001b[0m \u001b[0mFalse\u001b[0m\u001b[1;33m\u001b[0m\u001b[0m\n\u001b[1;32m--> 243\u001b[1;33m                     \u001b[0mdata\u001b[0m \u001b[1;33m=\u001b[0m \u001b[0mself\u001b[0m\u001b[1;33m.\u001b[0m\u001b[0m_fp\u001b[0m\u001b[1;33m.\u001b[0m\u001b[0mread\u001b[0m\u001b[1;33m(\u001b[0m\u001b[0mamt\u001b[0m\u001b[1;33m)\u001b[0m\u001b[1;33m\u001b[0m\u001b[0m\n\u001b[0m\u001b[0;32m    244\u001b[0m                     \u001b[1;32mif\u001b[0m \u001b[0mamt\u001b[0m \u001b[1;33m!=\u001b[0m \u001b[1;36m0\u001b[0m \u001b[1;32mand\u001b[0m \u001b[1;32mnot\u001b[0m \u001b[0mdata\u001b[0m\u001b[1;33m:\u001b[0m  \u001b[1;31m# Platform-specific: Buggy versions of Python.\u001b[0m\u001b[1;33m\u001b[0m\u001b[0m\n\u001b[0;32m    245\u001b[0m                         \u001b[1;31m# Close the connection when no data is returned\u001b[0m\u001b[1;33m\u001b[0m\u001b[1;33m\u001b[0m\u001b[0m\n",
      "\u001b[1;32mC:\\Python27\\lib\\httplib.pyc\u001b[0m in \u001b[0;36mread\u001b[1;34m(self, amt)\u001b[0m\n\u001b[0;32m    586\u001b[0m \u001b[1;33m\u001b[0m\u001b[0m\n\u001b[0;32m    587\u001b[0m         \u001b[1;32mif\u001b[0m \u001b[0mself\u001b[0m\u001b[1;33m.\u001b[0m\u001b[0mchunked\u001b[0m\u001b[1;33m:\u001b[0m\u001b[1;33m\u001b[0m\u001b[0m\n\u001b[1;32m--> 588\u001b[1;33m             \u001b[1;32mreturn\u001b[0m \u001b[0mself\u001b[0m\u001b[1;33m.\u001b[0m\u001b[0m_read_chunked\u001b[0m\u001b[1;33m(\u001b[0m\u001b[0mamt\u001b[0m\u001b[1;33m)\u001b[0m\u001b[1;33m\u001b[0m\u001b[0m\n\u001b[0m\u001b[0;32m    589\u001b[0m \u001b[1;33m\u001b[0m\u001b[0m\n\u001b[0;32m    590\u001b[0m         \u001b[1;32mif\u001b[0m \u001b[0mamt\u001b[0m \u001b[1;32mis\u001b[0m \u001b[0mNone\u001b[0m\u001b[1;33m:\u001b[0m\u001b[1;33m\u001b[0m\u001b[0m\n",
      "\u001b[1;32mC:\\Python27\\lib\\httplib.pyc\u001b[0m in \u001b[0;36m_read_chunked\u001b[1;34m(self, amt)\u001b[0m\n\u001b[0;32m    628\u001b[0m         \u001b[1;32mwhile\u001b[0m \u001b[0mTrue\u001b[0m\u001b[1;33m:\u001b[0m\u001b[1;33m\u001b[0m\u001b[0m\n\u001b[0;32m    629\u001b[0m             \u001b[1;32mif\u001b[0m \u001b[0mchunk_left\u001b[0m \u001b[1;32mis\u001b[0m \u001b[0mNone\u001b[0m\u001b[1;33m:\u001b[0m\u001b[1;33m\u001b[0m\u001b[0m\n\u001b[1;32m--> 630\u001b[1;33m                 \u001b[0mline\u001b[0m \u001b[1;33m=\u001b[0m \u001b[0mself\u001b[0m\u001b[1;33m.\u001b[0m\u001b[0mfp\u001b[0m\u001b[1;33m.\u001b[0m\u001b[0mreadline\u001b[0m\u001b[1;33m(\u001b[0m\u001b[0m_MAXLINE\u001b[0m \u001b[1;33m+\u001b[0m \u001b[1;36m1\u001b[0m\u001b[1;33m)\u001b[0m\u001b[1;33m\u001b[0m\u001b[0m\n\u001b[0m\u001b[0;32m    631\u001b[0m                 \u001b[1;32mif\u001b[0m \u001b[0mlen\u001b[0m\u001b[1;33m(\u001b[0m\u001b[0mline\u001b[0m\u001b[1;33m)\u001b[0m \u001b[1;33m>\u001b[0m \u001b[0m_MAXLINE\u001b[0m\u001b[1;33m:\u001b[0m\u001b[1;33m\u001b[0m\u001b[0m\n\u001b[0;32m    632\u001b[0m                     \u001b[1;32mraise\u001b[0m \u001b[0mLineTooLong\u001b[0m\u001b[1;33m(\u001b[0m\u001b[1;34m\"chunk size\"\u001b[0m\u001b[1;33m)\u001b[0m\u001b[1;33m\u001b[0m\u001b[0m\n",
      "\u001b[1;32mC:\\Python27\\lib\\socket.pyc\u001b[0m in \u001b[0;36mreadline\u001b[1;34m(self, size)\u001b[0m\n\u001b[0;32m    478\u001b[0m             \u001b[1;32mwhile\u001b[0m \u001b[0mTrue\u001b[0m\u001b[1;33m:\u001b[0m\u001b[1;33m\u001b[0m\u001b[0m\n\u001b[0;32m    479\u001b[0m                 \u001b[1;32mtry\u001b[0m\u001b[1;33m:\u001b[0m\u001b[1;33m\u001b[0m\u001b[0m\n\u001b[1;32m--> 480\u001b[1;33m                     \u001b[0mdata\u001b[0m \u001b[1;33m=\u001b[0m \u001b[0mself\u001b[0m\u001b[1;33m.\u001b[0m\u001b[0m_sock\u001b[0m\u001b[1;33m.\u001b[0m\u001b[0mrecv\u001b[0m\u001b[1;33m(\u001b[0m\u001b[0mself\u001b[0m\u001b[1;33m.\u001b[0m\u001b[0m_rbufsize\u001b[0m\u001b[1;33m)\u001b[0m\u001b[1;33m\u001b[0m\u001b[0m\n\u001b[0m\u001b[0;32m    481\u001b[0m                 \u001b[1;32mexcept\u001b[0m \u001b[0merror\u001b[0m\u001b[1;33m,\u001b[0m \u001b[0me\u001b[0m\u001b[1;33m:\u001b[0m\u001b[1;33m\u001b[0m\u001b[0m\n\u001b[0;32m    482\u001b[0m                     \u001b[1;32mif\u001b[0m \u001b[0me\u001b[0m\u001b[1;33m.\u001b[0m\u001b[0margs\u001b[0m\u001b[1;33m[\u001b[0m\u001b[1;36m0\u001b[0m\u001b[1;33m]\u001b[0m \u001b[1;33m==\u001b[0m \u001b[0mEINTR\u001b[0m\u001b[1;33m:\u001b[0m\u001b[1;33m\u001b[0m\u001b[0m\n",
      "\u001b[1;32mC:\\Python27\\lib\\ssl.pyc\u001b[0m in \u001b[0;36mrecv\u001b[1;34m(self, buflen, flags)\u001b[0m\n\u001b[0;32m    732\u001b[0m                     \u001b[1;34m\"non-zero flags not allowed in calls to recv() on %s\"\u001b[0m \u001b[1;33m%\u001b[0m\u001b[1;33m\u001b[0m\u001b[0m\n\u001b[0;32m    733\u001b[0m                     self.__class__)\n\u001b[1;32m--> 734\u001b[1;33m             \u001b[1;32mreturn\u001b[0m \u001b[0mself\u001b[0m\u001b[1;33m.\u001b[0m\u001b[0mread\u001b[0m\u001b[1;33m(\u001b[0m\u001b[0mbuflen\u001b[0m\u001b[1;33m)\u001b[0m\u001b[1;33m\u001b[0m\u001b[0m\n\u001b[0m\u001b[0;32m    735\u001b[0m         \u001b[1;32melse\u001b[0m\u001b[1;33m:\u001b[0m\u001b[1;33m\u001b[0m\u001b[0m\n\u001b[0;32m    736\u001b[0m             \u001b[1;32mreturn\u001b[0m \u001b[0mself\u001b[0m\u001b[1;33m.\u001b[0m\u001b[0m_sock\u001b[0m\u001b[1;33m.\u001b[0m\u001b[0mrecv\u001b[0m\u001b[1;33m(\u001b[0m\u001b[0mbuflen\u001b[0m\u001b[1;33m,\u001b[0m \u001b[0mflags\u001b[0m\u001b[1;33m)\u001b[0m\u001b[1;33m\u001b[0m\u001b[0m\n",
      "\u001b[1;32mC:\\Python27\\lib\\ssl.pyc\u001b[0m in \u001b[0;36mread\u001b[1;34m(self, len, buffer)\u001b[0m\n\u001b[0;32m    619\u001b[0m                 \u001b[0mv\u001b[0m \u001b[1;33m=\u001b[0m \u001b[0mself\u001b[0m\u001b[1;33m.\u001b[0m\u001b[0m_sslobj\u001b[0m\u001b[1;33m.\u001b[0m\u001b[0mread\u001b[0m\u001b[1;33m(\u001b[0m\u001b[0mlen\u001b[0m\u001b[1;33m,\u001b[0m \u001b[0mbuffer\u001b[0m\u001b[1;33m)\u001b[0m\u001b[1;33m\u001b[0m\u001b[0m\n\u001b[0;32m    620\u001b[0m             \u001b[1;32melse\u001b[0m\u001b[1;33m:\u001b[0m\u001b[1;33m\u001b[0m\u001b[0m\n\u001b[1;32m--> 621\u001b[1;33m                 \u001b[0mv\u001b[0m \u001b[1;33m=\u001b[0m \u001b[0mself\u001b[0m\u001b[1;33m.\u001b[0m\u001b[0m_sslobj\u001b[0m\u001b[1;33m.\u001b[0m\u001b[0mread\u001b[0m\u001b[1;33m(\u001b[0m\u001b[0mlen\u001b[0m \u001b[1;32mor\u001b[0m \u001b[1;36m1024\u001b[0m\u001b[1;33m)\u001b[0m\u001b[1;33m\u001b[0m\u001b[0m\n\u001b[0m\u001b[0;32m    622\u001b[0m             \u001b[1;32mreturn\u001b[0m \u001b[0mv\u001b[0m\u001b[1;33m\u001b[0m\u001b[0m\n\u001b[0;32m    623\u001b[0m         \u001b[1;32mexcept\u001b[0m \u001b[0mSSLError\u001b[0m \u001b[1;32mas\u001b[0m \u001b[0mx\u001b[0m\u001b[1;33m:\u001b[0m\u001b[1;33m\u001b[0m\u001b[0m\n",
      "\u001b[1;31mKeyboardInterrupt\u001b[0m: "
     ]
    }
   ],
   "source": [
    "import time\n",
    "\n",
    "from tweepy.streaming import StreamListener\n",
    "from tweepy import Stream\n",
    "\n",
    "class MyListener(StreamListener):\n",
    "     \n",
    "    def __init__(self):\n",
    "        self.counter = 0\n",
    "        self.begin_time = time.time()\n",
    "        \n",
    "    def on_data(self, data):\n",
    "        try:\n",
    "            self.counter += 1\n",
    "            data = json.loads(data)\n",
    "            # we will cut the tweet text\n",
    "            print(\"Tweet )#{0}: Created at {1} \\n {2} \\nTime elapsed from the beginning: {3} sec \\n\".\\\n",
    "                  format(self.counter, data['created_at'], data['text'][:100].encode('utf-8'), time.time()-self.begin_time)\n",
    "        except BaseException as e:\n",
    "            print(\"Error on_data: %s\" % str(e))\n",
    "        return True\n",
    " \n",
    "    def on_error(self, status):\n",
    "        print(status)\n",
    "        return True\n",
    "\n",
    "twitter_stream = Stream(auth, MyListener())\n",
    "twitter_stream.filter(track=['#iphone', '#windows', '#android'])"
   ]
  },
  {
   "cell_type": "code",
   "execution_count": null,
   "metadata": {
    "collapsed": true
   },
   "outputs": [],
   "source": []
  }
 ],
 "metadata": {
  "kernelspec": {
   "display_name": "Python 3",
   "language": "python",
   "name": "python3"
  },
  "language_info": {
   "codemirror_mode": {
    "name": "ipython",
    "version": 3
   },
   "file_extension": ".py",
   "mimetype": "text/x-python",
   "name": "python",
   "nbconvert_exporter": "python",
   "pygments_lexer": "ipython3",
   "version": "3.5.2"
  }
 },
 "nbformat": 4,
 "nbformat_minor": 0
}
