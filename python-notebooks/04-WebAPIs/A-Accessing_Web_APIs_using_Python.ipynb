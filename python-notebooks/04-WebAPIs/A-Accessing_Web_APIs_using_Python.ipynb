{
 "cells": [
  {
   "cell_type": "markdown",
   "metadata": {},
   "source": [
    "## Interacting with Web APIs\n",
    "\n",
    "In our first class, we examined how to use `curl` to issue requests against web services. We will now see how to achieve the same in Python:"
   ]
  },
  {
   "cell_type": "code",
   "execution_count": 4,
   "metadata": {},
   "outputs": [],
   "source": [
    "# !sudo -H pip3 install -U requests\n",
    "# import requests\n",
    "# requests.__version__"
   ]
  },
  {
   "cell_type": "code",
   "execution_count": null,
   "metadata": {},
   "outputs": [],
   "source": [
    "# We first import the requests library\n",
    "import requests\n",
    "url = 'http://freegeoip.net/json/'\n",
    "resp = requests.get(url)"
   ]
  },
  {
   "cell_type": "code",
   "execution_count": null,
   "metadata": {},
   "outputs": [],
   "source": [
    "# The resp object encapsulates the \"response\" of the server\n",
    "# Notice the status code that is displayed. \n",
    "# Code 200 means that things went fine\n",
    "# Code 404 means that the URL was not found\n",
    "# Codes 5xx mean that something went wrong\n",
    "resp"
   ]
  },
  {
   "cell_type": "code",
   "execution_count": null,
   "metadata": {},
   "outputs": [],
   "source": [
    "if (resp.status_code == 200):\n",
    "    print(\"Everything was ok:\", resp.status_code)\n",
    "else:\n",
    "    print(\"There was a problem:\", resp.status_code)"
   ]
  },
  {
   "cell_type": "code",
   "execution_count": null,
   "metadata": {},
   "outputs": [],
   "source": [
    "# Let's see the content of the response\n",
    "# As you can see, it contain the JSON response\n",
    "data = resp.text"
   ]
  },
  {
   "cell_type": "code",
   "execution_count": null,
   "metadata": {},
   "outputs": [],
   "source": [
    "# We want to transform the JSON file into a Python dictionary object\n",
    "# We use the response.json() command to get back a dictionary\n",
    "data = resp.json()"
   ]
  },
  {
   "cell_type": "code",
   "execution_count": null,
   "metadata": {},
   "outputs": [],
   "source": [
    "# Now data is a Python dictionary\n",
    "data"
   ]
  },
  {
   "cell_type": "code",
   "execution_count": null,
   "metadata": {},
   "outputs": [],
   "source": [
    "# And we can access the fields of the JSON as we normally access Python dictionary entries\n",
    "print(\"Lon:\", data[\"longitude\"], \"Lat:\", data[\"latitude\"])"
   ]
  },
  {
   "cell_type": "markdown",
   "metadata": {},
   "source": [
    "And in one piece:"
   ]
  },
  {
   "cell_type": "code",
   "execution_count": null,
   "metadata": {},
   "outputs": [],
   "source": [
    "import requests\n",
    "url = 'http://freegeoip.net/json/'\n",
    "resp = requests.get(url)\n",
    "data = resp.json()\n",
    "print(\"Lon:\", data[\"longitude\"], \"Lat:\", data[\"latitude\"])"
   ]
  },
  {
   "cell_type": "markdown",
   "metadata": {},
   "source": [
    "### Parameters \n",
    "\n",
    "The first API call that we tried was very simple. We just fetched a URL. Now let's see a URL that accepts as input a set of **parameters**. We have already seen this concept with functions; the parameters of the API calls are the exact equivalent but for Web APIs, which are, at their core, functions that we call over the web. "
   ]
  },
  {
   "cell_type": "markdown",
   "metadata": {},
   "source": [
    "### Example: OpenWeatherMap\n",
    "\n",
    "Let's try to query OpenWeatherMap now, to get data about the weather. [Documentation](http://openweathermap.org/current#geo). Below you can find the URL that you can copy and paste in your browser, to get the weather for New York. You will notice that it contains parameters as part of the URL, including an `appid` which is a key that is used to limit the number of calls that can be issued by a single application. \n",
    "\n",
    "Try the URL in your browser. Also try to change the query parameter `q` and change it from `New%20York,NY` to something different. (Note: The `%20` is a transformation for the space (` `) character in URLs.)"
   ]
  },
  {
   "cell_type": "raw",
   "metadata": {},
   "source": [
    "http://api.openweathermap.org/data/2.5/weather?q=New%20York,NY,USA&units=imperial&mode=json&appid=ffb7b9808e07c9135bdcc7d1e867253d"
   ]
  },
  {
   "cell_type": "markdown",
   "metadata": {},
   "source": [
    "Below you can find the same code, but now we have a Python dictionary to organize and list the parameters."
   ]
  },
  {
   "cell_type": "code",
   "execution_count": null,
   "metadata": {},
   "outputs": [],
   "source": [
    "import requests\n",
    "\n",
    "openweathermap_url = \"http://api.openweathermap.org/data/2.5/weather\"\n",
    "parameters = {\n",
    "    'q'     : 'New York, NY, USA',\n",
    "    'units' : 'imperial',\n",
    "    'mode'  : 'json',\n",
    "    'appid' : 'ffb7b9808e07c9135bdcc7d1e867253d'\n",
    "}\n",
    "resp = requests.get(openweathermap_url, params=parameters)\n",
    "data = resp.json()\n",
    "data"
   ]
  },
  {
   "cell_type": "markdown",
   "metadata": {},
   "source": [
    "#### Exercise \n",
    "\n",
    "* Extract the current temperature from the returned JSON response.\n",
    "* Extract the description of the current weather\n",
    "* Try to change the units to `metric` and repeat\n",
    "* Get the weather for San Francisco, CA\n",
    "\n"
   ]
  },
  {
   "cell_type": "code",
   "execution_count": null,
   "metadata": {
    "collapsed": true
   },
   "outputs": [],
   "source": []
  },
  {
   "cell_type": "markdown",
   "metadata": {},
   "source": [
    "#### Exercise\n",
    "\n",
    "* Study the documentation of the API ([Documentation](http://openweathermap.org/current#geo)). Change the API call to use the longitute and latitude."
   ]
  },
  {
   "cell_type": "code",
   "execution_count": null,
   "metadata": {
    "collapsed": true
   },
   "outputs": [],
   "source": []
  },
  {
   "cell_type": "markdown",
   "metadata": {},
   "source": [
    "#### Exercise\n",
    "\n",
    "Read the location of your computer using the GeoIP API. Then use the OpenWeatherMap to query the API and fetch the temperature for the location returned by the GeoIP API. For this exercise, you will need to learn to read variables from a Web API (freegeoip) and use them as input in another (openweathermap)"
   ]
  },
  {
   "cell_type": "code",
   "execution_count": null,
   "metadata": {},
   "outputs": [],
   "source": [
    "#your code here\n"
   ]
  },
  {
   "cell_type": "markdown",
   "metadata": {},
   "source": [
    "### Solution for Exercise"
   ]
  },
  {
   "cell_type": "code",
   "execution_count": null,
   "metadata": {
    "scrolled": true
   },
   "outputs": [],
   "source": [
    "import requests\n",
    "freegeoip_url = 'http://freegeoip.net/json/'\n",
    "resp = requests.get(freegeoip_url)\n",
    "data = resp.json()\n",
    "lon = data[\"longitude\"]\n",
    "lat = data[\"latitude\"]\n",
    "\n",
    "openweathermap_url = \"http://api.openweathermap.org/data/2.5/weather\"\n",
    "parameters = {\n",
    "    'lat'   : str(lat),\n",
    "    'lon'   : str(lon),\n",
    "    'units' : 'imperial',\n",
    "    'mode'  : 'json',\n",
    "    'appid' : 'ffb7b9808e07c9135bdcc7d1e867253d'\n",
    "}\n",
    "resp = requests.get(openweathermap_url, params=parameters)\n",
    "data = resp.json()\n",
    "data"
   ]
  }
 ],
 "metadata": {
  "kernelspec": {
   "display_name": "Python 3",
   "language": "python",
   "name": "python3"
  },
  "language_info": {
   "codemirror_mode": {
    "name": "ipython",
    "version": 3
   },
   "file_extension": ".py",
   "mimetype": "text/x-python",
   "name": "python",
   "nbconvert_exporter": "python",
   "pygments_lexer": "ipython3",
   "version": "3.6.3"
  }
 },
 "nbformat": 4,
 "nbformat_minor": 1
}
