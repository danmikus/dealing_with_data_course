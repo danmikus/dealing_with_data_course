{
 "cells": [
  {
   "cell_type": "markdown",
   "metadata": {},
   "source": [
    "### Running our own Python-based web server: Flask"
   ]
  },
  {
   "cell_type": "markdown",
   "metadata": {},
   "source": [
    "As you can see from the above \"flow\", in OAuth2 authentication, we will need to have our own web server, to receive the answers that come back from the API. Python can do that using Flask, a very lightweight webserver. Below you can find a small example of a webserver that will run on your machine at port 5000. \n",
    "\n",
    "**Please note that we have configured this webserver to shutdown after a responding to a single call (we added the \"stop\\_server()\" function call in call responses). In general, we do not do that, and we leave the server running.**\n",
    "\n",
    "Once you run the call, visit http://yourIP:5000/ or http://yourIP:5000/testNYU to see the results. The server will stop immediately after, and the cell will stop being in \"Busy\" status."
   ]
  },
  {
   "cell_type": "code",
   "execution_count": 1,
   "metadata": {},
   "outputs": [
    {
     "name": "stderr",
     "output_type": "stream",
     "text": [
      " * Running on http://0.0.0.0:5000/ (Press CTRL+C to quit)\n"
     ]
    }
   ],
   "source": [
    "# In this cell, we configure our example web server. \n",
    "# We will show in the next cell how to configure this\n",
    "# web server to handle the OAuth2 calls.\n",
    "\n",
    "# Flask is a webserver\n",
    "from flask import Flask, request\n",
    "\n",
    "# We add a global variable that will be used to count the visitors to a specific URL\n",
    "visitor_counter = 0\n",
    "# Initialize the embedded web server\n",
    "webserver = Flask(\"MyFirstWebServer\")\n",
    "\n",
    "import datetime\n",
    "import time\n",
    "# Go to http://<your IP>:5000/ to see the response\n",
    "@webserver.route('/')\n",
    "def hello_world():\n",
    "    # stop_server()\n",
    "    return 'Hello Panos, it is now ' + str(datetime.date.today()) \n",
    "\n",
    "# Go to http://<your IP>:5000/testNYU to see the different message\n",
    "@webserver.route('/testNYU')\n",
    "def hello_nyu():\n",
    "    # stop_server()\n",
    "    global visitor_counter\n",
    "    visitor_counter += 1\n",
    "    return 'Hello! You are visitor #{i}'.format(i=visitor_counter)\n",
    "\n",
    "def start_server():\n",
    "    global visitor_counter\n",
    "    visitor_counter = 0\n",
    "    webserver.run(host='0.0.0.0', port=5000)\n",
    "    return\n",
    "    \n",
    "def stop_server():\n",
    "    shutdown_after_request = request.environ.get('werkzeug.server.shutdown')\n",
    "    shutdown_after_request()\n",
    "    return\n",
    "\n",
    "start_server()"
   ]
  },
  {
   "cell_type": "markdown",
   "metadata": {},
   "source": [
    "#### Exercise\n",
    "\n",
    "Consult the notes in 1/D, and figure out how to run the server in the background."
   ]
  },
  {
   "cell_type": "code",
   "execution_count": null,
   "metadata": {
    "collapsed": true
   },
   "outputs": [],
   "source": []
  }
 ],
 "metadata": {
  "kernelspec": {
   "display_name": "Python 3",
   "language": "python",
   "name": "python3"
  },
  "language_info": {
   "codemirror_mode": {
    "name": "ipython",
    "version": 3
   },
   "file_extension": ".py",
   "mimetype": "text/x-python",
   "name": "python",
   "nbconvert_exporter": "python",
   "pygments_lexer": "ipython3",
   "version": "3.5.2"
  }
 },
 "nbformat": 4,
 "nbformat_minor": 1
}
