{
 "cells": [
  {
   "cell_type": "markdown",
   "metadata": {},
   "source": [
    "### Executing R commands within a Python notebook\n",
    "\n",
    "The examples below mix Python and R commands in the same notebook, using the Rpy2 \"cell magic\". Such notebooks are called *polyglot* notebooks as they combine multiple languages as part of a single analysis."
   ]
  },
  {
   "cell_type": "markdown",
   "metadata": {},
   "source": [
    "* Install R"
   ]
  },
  {
   "cell_type": "code",
   "execution_count": null,
   "metadata": {
    "collapsed": true
   },
   "outputs": [],
   "source": [
    "!sudo -H apt-get -y install r-base"
   ]
  },
  {
   "cell_type": "markdown",
   "metadata": {},
   "source": [
    "* Install the rpy2 package"
   ]
  },
  {
   "cell_type": "code",
   "execution_count": null,
   "metadata": {
    "collapsed": false
   },
   "outputs": [],
   "source": [
    "!sudo -H pip3 install -U rpy2"
   ]
  },
  {
   "cell_type": "code",
   "execution_count": 2,
   "metadata": {
    "collapsed": false
   },
   "outputs": [],
   "source": [
    "# First we load the R magic command\n",
    "# Documentation at http://rpy.sourceforge.net/rpy2/doc-2.4/html/interactive.html#module-rpy2.ipython.rmagic\n",
    "%reload_ext rpy2.ipython"
   ]
  },
  {
   "cell_type": "markdown",
   "metadata": {},
   "source": [
    "By adding the `%R` we execute R commands:"
   ]
  },
  {
   "cell_type": "code",
   "execution_count": 3,
   "metadata": {
    "collapsed": false
   },
   "outputs": [],
   "source": [
    "%R X=c(1,4,5,7); "
   ]
  },
  {
   "cell_type": "code",
   "execution_count": 4,
   "metadata": {
    "collapsed": false
   },
   "outputs": [
    {
     "data": {
      "text/plain": [
       "array([ 2.5])"
      ]
     },
     "execution_count": 4,
     "metadata": {},
     "output_type": "execute_result"
    }
   ],
   "source": [
    "%R sd(X)"
   ]
  },
  {
   "cell_type": "code",
   "execution_count": 5,
   "metadata": {
    "collapsed": false
   },
   "outputs": [
    {
     "data": {
      "text/plain": [
       "array([ 4.25])"
      ]
     },
     "execution_count": 5,
     "metadata": {},
     "output_type": "execute_result"
    }
   ],
   "source": [
    "%R mean(X)"
   ]
  },
  {
   "cell_type": "code",
   "execution_count": 6,
   "metadata": {
    "collapsed": false
   },
   "outputs": [
    {
     "data": {
      "text/plain": [
       "array([ 2.5])"
      ]
     },
     "execution_count": 6,
     "metadata": {},
     "output_type": "execute_result"
    }
   ],
   "source": [
    "%R X=c(1,4,5,7); sd(X)"
   ]
  },
  {
   "cell_type": "code",
   "execution_count": 7,
   "metadata": {
    "collapsed": false
   },
   "outputs": [
    {
     "ename": "NameError",
     "evalue": "name 'X' is not defined",
     "output_type": "error",
     "traceback": [
      "\u001b[0;31m---------------------------------------------------------------------------\u001b[0m",
      "\u001b[0;31mNameError\u001b[0m                                 Traceback (most recent call last)",
      "\u001b[0;32m<ipython-input-7-692c0879c3a7>\u001b[0m in \u001b[0;36m<module>\u001b[0;34m()\u001b[0m\n\u001b[1;32m      1\u001b[0m \u001b[0;31m# Notice that we cannot directly access the R variables in Python...\u001b[0m\u001b[0;34m\u001b[0m\u001b[0;34m\u001b[0m\u001b[0m\n\u001b[0;32m----> 2\u001b[0;31m \u001b[0mprint\u001b[0m\u001b[0;34m(\u001b[0m\u001b[0mlen\u001b[0m\u001b[0;34m(\u001b[0m\u001b[0mX\u001b[0m\u001b[0;34m)\u001b[0m\u001b[0;34m)\u001b[0m\u001b[0;34m\u001b[0m\u001b[0m\n\u001b[0m\u001b[1;32m      3\u001b[0m \u001b[0mprint\u001b[0m\u001b[0;34m(\u001b[0m\u001b[0msum\u001b[0m\u001b[0;34m(\u001b[0m\u001b[0mX\u001b[0m\u001b[0;34m)\u001b[0m\u001b[0;34m)\u001b[0m\u001b[0;34m\u001b[0m\u001b[0m\n",
      "\u001b[0;31mNameError\u001b[0m: name 'X' is not defined"
     ]
    }
   ],
   "source": [
    "# Notice that we cannot directly access the R variables in Python...\n",
    "print(len(X))\n",
    "print(sum(X))"
   ]
  },
  {
   "cell_type": "code",
   "execution_count": 8,
   "metadata": {
    "collapsed": false
   },
   "outputs": [
    {
     "name": "stdout",
     "output_type": "stream",
     "text": [
      "4\n",
      "17.0\n"
     ]
    }
   ],
   "source": [
    "# but we can use the Rpull command to fetch the variable from R to Python\n",
    "%Rpull X\n",
    "print(len(X))\n",
    "print(sum(X))"
   ]
  },
  {
   "cell_type": "code",
   "execution_count": 9,
   "metadata": {
    "collapsed": false
   },
   "outputs": [
    {
     "data": {
      "text/plain": [
       "5.0"
      ]
     },
     "execution_count": 9,
     "metadata": {},
     "output_type": "execute_result"
    }
   ],
   "source": [
    "import numpy as np\n",
    "Z = np.array([1,4,5,10])\n",
    "Z.mean()"
   ]
  },
  {
   "cell_type": "code",
   "execution_count": 10,
   "metadata": {
    "collapsed": false
   },
   "outputs": [
    {
     "name": "stdout",
     "output_type": "stream",
     "text": [
      "\n",
      "Error in mean(Z) : object 'Z' not found\n"
     ]
    },
    {
     "name": "stderr",
     "output_type": "stream",
     "text": [
      "/usr/local/lib/python3.5/dist-packages/rpy2/rinterface/__init__.py:186: RRuntimeWarning: Error in mean(Z) : object 'Z' not found\n",
      "\n",
      "  warnings.warn(x, RRuntimeWarning)\n"
     ]
    }
   ],
   "source": [
    "%R mean(Z)"
   ]
  },
  {
   "cell_type": "code",
   "execution_count": 11,
   "metadata": {
    "collapsed": false
   },
   "outputs": [
    {
     "data": {
      "text/plain": [
       "array([ 5.])"
      ]
     },
     "execution_count": 11,
     "metadata": {},
     "output_type": "execute_result"
    }
   ],
   "source": [
    "%Rpush Z\n",
    "%R mean(Z)"
   ]
  },
  {
   "cell_type": "markdown",
   "metadata": {},
   "source": [
    "Objects can be passed back and forth between rpy2 and python via the -i -o flags in line:"
   ]
  },
  {
   "cell_type": "code",
   "execution_count": 12,
   "metadata": {
    "collapsed": false
   },
   "outputs": [
    {
     "data": {
      "text/plain": [
       "array([ 5.])"
      ]
     },
     "execution_count": 12,
     "metadata": {},
     "output_type": "execute_result"
    }
   ],
   "source": [
    "%R -i Z mean(Z)"
   ]
  },
  {
   "cell_type": "code",
   "execution_count": null,
   "metadata": {
    "collapsed": false
   },
   "outputs": [
    {
     "name": "stderr",
     "output_type": "stream",
     "text": [
      "/usr/local/lib/python3.5/dist-packages/rpy2/rinterface/__init__.py:186: RRuntimeWarning: Installing package into ‘/usr/local/lib/R/site-library’\n",
      "(as ‘lib’ is unspecified)\n",
      "\n",
      "  warnings.warn(x, RRuntimeWarning)\n"
     ]
    },
    {
     "name": "stdout",
     "output_type": "stream",
     "text": [
      "Selection: 1\n"
     ]
    },
    {
     "name": "stderr",
     "output_type": "stream",
     "text": [
      "/usr/local/lib/python3.5/dist-packages/rpy2/rinterface/__init__.py:186: RRuntimeWarning: also installing the dependencies ‘stringi’, ‘magrittr’, ‘colorspace’, ‘Rcpp’, ‘stringr’, ‘RColorBrewer’, ‘dichromat’, ‘munsell’, ‘labeling’, ‘assertthat’, ‘digest’, ‘gtable’, ‘plyr’, ‘reshape2’, ‘scales’, ‘tibble’, ‘lazyeval’\n",
      "\n",
      "\n",
      "  warnings.warn(x, RRuntimeWarning)\n",
      "/usr/local/lib/python3.5/dist-packages/rpy2/rinterface/__init__.py:186: RRuntimeWarning: trying URL 'https://cloud.r-project.org/src/contrib/stringi_1.1.2.tar.gz'\n",
      "\n",
      "  warnings.warn(x, RRuntimeWarning)\n",
      "/usr/local/lib/python3.5/dist-packages/rpy2/rinterface/__init__.py:186: RRuntimeWarning: Content type 'application/x-gzip'\n",
      "  warnings.warn(x, RRuntimeWarning)\n",
      "/usr/local/lib/python3.5/dist-packages/rpy2/rinterface/__init__.py:186: RRuntimeWarning:  length 3644855 bytes (3.5 MB)\n",
      "\n",
      "  warnings.warn(x, RRuntimeWarning)\n",
      "/usr/local/lib/python3.5/dist-packages/rpy2/rinterface/__init__.py:186: RRuntimeWarning: =\n",
      "  warnings.warn(x, RRuntimeWarning)\n",
      "/usr/local/lib/python3.5/dist-packages/rpy2/rinterface/__init__.py:186: RRuntimeWarning: \n",
      "\n",
      "  warnings.warn(x, RRuntimeWarning)\n",
      "/usr/local/lib/python3.5/dist-packages/rpy2/rinterface/__init__.py:186: RRuntimeWarning: downloaded 3.5 MB\n",
      "\n",
      "\n",
      "  warnings.warn(x, RRuntimeWarning)\n",
      "/usr/local/lib/python3.5/dist-packages/rpy2/rinterface/__init__.py:186: RRuntimeWarning: trying URL 'https://cloud.r-project.org/src/contrib/magrittr_1.5.tar.gz'\n",
      "\n",
      "  warnings.warn(x, RRuntimeWarning)\n",
      "/usr/local/lib/python3.5/dist-packages/rpy2/rinterface/__init__.py:186: RRuntimeWarning:  length 200504 bytes (195 KB)\n",
      "\n",
      "  warnings.warn(x, RRuntimeWarning)\n",
      "/usr/local/lib/python3.5/dist-packages/rpy2/rinterface/__init__.py:186: RRuntimeWarning: downloaded 195 KB\n",
      "\n",
      "\n",
      "  warnings.warn(x, RRuntimeWarning)\n",
      "/usr/local/lib/python3.5/dist-packages/rpy2/rinterface/__init__.py:186: RRuntimeWarning: trying URL 'https://cloud.r-project.org/src/contrib/colorspace_1.3-2.tar.gz'\n",
      "\n",
      "  warnings.warn(x, RRuntimeWarning)\n",
      "/usr/local/lib/python3.5/dist-packages/rpy2/rinterface/__init__.py:186: RRuntimeWarning:  length 293433 bytes (286 KB)\n",
      "\n",
      "  warnings.warn(x, RRuntimeWarning)\n",
      "/usr/local/lib/python3.5/dist-packages/rpy2/rinterface/__init__.py:186: RRuntimeWarning: downloaded 286 KB\n",
      "\n",
      "\n",
      "  warnings.warn(x, RRuntimeWarning)\n",
      "/usr/local/lib/python3.5/dist-packages/rpy2/rinterface/__init__.py:186: RRuntimeWarning: trying URL 'https://cloud.r-project.org/src/contrib/Rcpp_0.12.8.tar.gz'\n",
      "\n",
      "  warnings.warn(x, RRuntimeWarning)\n",
      "/usr/local/lib/python3.5/dist-packages/rpy2/rinterface/__init__.py:186: RRuntimeWarning:  length 2435852 bytes (2.3 MB)\n",
      "\n",
      "  warnings.warn(x, RRuntimeWarning)\n",
      "/usr/local/lib/python3.5/dist-packages/rpy2/rinterface/__init__.py:186: RRuntimeWarning: downloaded 2.3 MB\n",
      "\n",
      "\n",
      "  warnings.warn(x, RRuntimeWarning)\n",
      "/usr/local/lib/python3.5/dist-packages/rpy2/rinterface/__init__.py:186: RRuntimeWarning: trying URL 'https://cloud.r-project.org/src/contrib/stringr_1.1.0.tar.gz'\n",
      "\n",
      "  warnings.warn(x, RRuntimeWarning)\n",
      "/usr/local/lib/python3.5/dist-packages/rpy2/rinterface/__init__.py:186: RRuntimeWarning:  length 63174 bytes (61 KB)\n",
      "\n",
      "  warnings.warn(x, RRuntimeWarning)\n",
      "/usr/local/lib/python3.5/dist-packages/rpy2/rinterface/__init__.py:186: RRuntimeWarning: downloaded 61 KB\n",
      "\n",
      "\n",
      "  warnings.warn(x, RRuntimeWarning)\n",
      "/usr/local/lib/python3.5/dist-packages/rpy2/rinterface/__init__.py:186: RRuntimeWarning: trying URL 'https://cloud.r-project.org/src/contrib/RColorBrewer_1.1-2.tar.gz'\n",
      "\n",
      "  warnings.warn(x, RRuntimeWarning)\n",
      "/usr/local/lib/python3.5/dist-packages/rpy2/rinterface/__init__.py:186: RRuntimeWarning:  length 11532 bytes (11 KB)\n",
      "\n",
      "  warnings.warn(x, RRuntimeWarning)\n",
      "/usr/local/lib/python3.5/dist-packages/rpy2/rinterface/__init__.py:186: RRuntimeWarning: downloaded 11 KB\n",
      "\n",
      "\n",
      "  warnings.warn(x, RRuntimeWarning)\n",
      "/usr/local/lib/python3.5/dist-packages/rpy2/rinterface/__init__.py:186: RRuntimeWarning: trying URL 'https://cloud.r-project.org/src/contrib/dichromat_2.0-0.tar.gz'\n",
      "\n",
      "  warnings.warn(x, RRuntimeWarning)\n",
      "/usr/local/lib/python3.5/dist-packages/rpy2/rinterface/__init__.py:186: RRuntimeWarning:  length 84320 bytes (82 KB)\n",
      "\n",
      "  warnings.warn(x, RRuntimeWarning)\n",
      "/usr/local/lib/python3.5/dist-packages/rpy2/rinterface/__init__.py:186: RRuntimeWarning: downloaded 82 KB\n",
      "\n",
      "\n",
      "  warnings.warn(x, RRuntimeWarning)\n",
      "/usr/local/lib/python3.5/dist-packages/rpy2/rinterface/__init__.py:186: RRuntimeWarning: trying URL 'https://cloud.r-project.org/src/contrib/munsell_0.4.3.tar.gz'\n",
      "\n",
      "  warnings.warn(x, RRuntimeWarning)\n",
      "/usr/local/lib/python3.5/dist-packages/rpy2/rinterface/__init__.py:186: RRuntimeWarning:  length 97244 bytes (94 KB)\n",
      "\n",
      "  warnings.warn(x, RRuntimeWarning)\n",
      "/usr/local/lib/python3.5/dist-packages/rpy2/rinterface/__init__.py:186: RRuntimeWarning: downloaded 94 KB\n",
      "\n",
      "\n",
      "  warnings.warn(x, RRuntimeWarning)\n",
      "/usr/local/lib/python3.5/dist-packages/rpy2/rinterface/__init__.py:186: RRuntimeWarning: trying URL 'https://cloud.r-project.org/src/contrib/labeling_0.3.tar.gz'\n",
      "\n",
      "  warnings.warn(x, RRuntimeWarning)\n",
      "/usr/local/lib/python3.5/dist-packages/rpy2/rinterface/__init__.py:186: RRuntimeWarning:  length 10722 bytes (10 KB)\n",
      "\n",
      "  warnings.warn(x, RRuntimeWarning)\n",
      "/usr/local/lib/python3.5/dist-packages/rpy2/rinterface/__init__.py:186: RRuntimeWarning: downloaded 10 KB\n",
      "\n",
      "\n",
      "  warnings.warn(x, RRuntimeWarning)\n",
      "/usr/local/lib/python3.5/dist-packages/rpy2/rinterface/__init__.py:186: RRuntimeWarning: trying URL 'https://cloud.r-project.org/src/contrib/assertthat_0.1.tar.gz'\n",
      "\n",
      "  warnings.warn(x, RRuntimeWarning)\n",
      "/usr/local/lib/python3.5/dist-packages/rpy2/rinterface/__init__.py:186: RRuntimeWarning:  length 10187 bytes\n",
      "\n",
      "  warnings.warn(x, RRuntimeWarning)\n",
      "/usr/local/lib/python3.5/dist-packages/rpy2/rinterface/__init__.py:186: RRuntimeWarning: downloaded 10187 bytes\n",
      "\n",
      "\n",
      "  warnings.warn(x, RRuntimeWarning)\n",
      "/usr/local/lib/python3.5/dist-packages/rpy2/rinterface/__init__.py:186: RRuntimeWarning: trying URL 'https://cloud.r-project.org/src/contrib/digest_0.6.11.tar.gz'\n",
      "\n",
      "  warnings.warn(x, RRuntimeWarning)\n",
      "/usr/local/lib/python3.5/dist-packages/rpy2/rinterface/__init__.py:186: RRuntimeWarning:  length 119700 bytes (116 KB)\n",
      "\n",
      "  warnings.warn(x, RRuntimeWarning)\n",
      "/usr/local/lib/python3.5/dist-packages/rpy2/rinterface/__init__.py:186: RRuntimeWarning: downloaded 116 KB\n",
      "\n",
      "\n",
      "  warnings.warn(x, RRuntimeWarning)\n",
      "/usr/local/lib/python3.5/dist-packages/rpy2/rinterface/__init__.py:186: RRuntimeWarning: trying URL 'https://cloud.r-project.org/src/contrib/gtable_0.2.0.tar.gz'\n",
      "\n",
      "  warnings.warn(x, RRuntimeWarning)\n",
      "/usr/local/lib/python3.5/dist-packages/rpy2/rinterface/__init__.py:186: RRuntimeWarning:  length 24157 bytes (23 KB)\n",
      "\n",
      "  warnings.warn(x, RRuntimeWarning)\n",
      "/usr/local/lib/python3.5/dist-packages/rpy2/rinterface/__init__.py:186: RRuntimeWarning: downloaded 23 KB\n",
      "\n",
      "\n",
      "  warnings.warn(x, RRuntimeWarning)\n",
      "/usr/local/lib/python3.5/dist-packages/rpy2/rinterface/__init__.py:186: RRuntimeWarning: trying URL 'https://cloud.r-project.org/src/contrib/plyr_1.8.4.tar.gz'\n",
      "\n",
      "  warnings.warn(x, RRuntimeWarning)\n",
      "/usr/local/lib/python3.5/dist-packages/rpy2/rinterface/__init__.py:186: RRuntimeWarning:  length 392451 bytes (383 KB)\n",
      "\n",
      "  warnings.warn(x, RRuntimeWarning)\n",
      "/usr/local/lib/python3.5/dist-packages/rpy2/rinterface/__init__.py:186: RRuntimeWarning: downloaded 383 KB\n",
      "\n",
      "\n",
      "  warnings.warn(x, RRuntimeWarning)\n",
      "/usr/local/lib/python3.5/dist-packages/rpy2/rinterface/__init__.py:186: RRuntimeWarning: trying URL 'https://cloud.r-project.org/src/contrib/reshape2_1.4.2.tar.gz'\n",
      "\n",
      "  warnings.warn(x, RRuntimeWarning)\n",
      "/usr/local/lib/python3.5/dist-packages/rpy2/rinterface/__init__.py:186: RRuntimeWarning:  length 34688 bytes (33 KB)\n",
      "\n",
      "  warnings.warn(x, RRuntimeWarning)\n",
      "/usr/local/lib/python3.5/dist-packages/rpy2/rinterface/__init__.py:186: RRuntimeWarning: downloaded 33 KB\n",
      "\n",
      "\n",
      "  warnings.warn(x, RRuntimeWarning)\n",
      "/usr/local/lib/python3.5/dist-packages/rpy2/rinterface/__init__.py:186: RRuntimeWarning: trying URL 'https://cloud.r-project.org/src/contrib/scales_0.4.1.tar.gz'\n",
      "\n",
      "  warnings.warn(x, RRuntimeWarning)\n",
      "/usr/local/lib/python3.5/dist-packages/rpy2/rinterface/__init__.py:186: RRuntimeWarning:  length 57703 bytes (56 KB)\n",
      "\n",
      "  warnings.warn(x, RRuntimeWarning)\n",
      "/usr/local/lib/python3.5/dist-packages/rpy2/rinterface/__init__.py:186: RRuntimeWarning: downloaded 56 KB\n",
      "\n",
      "\n",
      "  warnings.warn(x, RRuntimeWarning)\n",
      "/usr/local/lib/python3.5/dist-packages/rpy2/rinterface/__init__.py:186: RRuntimeWarning: trying URL 'https://cloud.r-project.org/src/contrib/tibble_1.2.tar.gz'\n",
      "\n",
      "  warnings.warn(x, RRuntimeWarning)\n",
      "/usr/local/lib/python3.5/dist-packages/rpy2/rinterface/__init__.py:186: RRuntimeWarning:  length 54517 bytes (53 KB)\n",
      "\n",
      "  warnings.warn(x, RRuntimeWarning)\n",
      "/usr/local/lib/python3.5/dist-packages/rpy2/rinterface/__init__.py:186: RRuntimeWarning: downloaded 53 KB\n",
      "\n",
      "\n",
      "  warnings.warn(x, RRuntimeWarning)\n",
      "/usr/local/lib/python3.5/dist-packages/rpy2/rinterface/__init__.py:186: RRuntimeWarning: trying URL 'https://cloud.r-project.org/src/contrib/lazyeval_0.2.0.tar.gz'\n",
      "\n",
      "  warnings.warn(x, RRuntimeWarning)\n",
      "/usr/local/lib/python3.5/dist-packages/rpy2/rinterface/__init__.py:186: RRuntimeWarning:  length 317272 bytes (309 KB)\n",
      "\n",
      "  warnings.warn(x, RRuntimeWarning)\n",
      "/usr/local/lib/python3.5/dist-packages/rpy2/rinterface/__init__.py:186: RRuntimeWarning: downloaded 309 KB\n",
      "\n",
      "\n",
      "  warnings.warn(x, RRuntimeWarning)\n",
      "/usr/local/lib/python3.5/dist-packages/rpy2/rinterface/__init__.py:186: RRuntimeWarning: trying URL 'https://cloud.r-project.org/src/contrib/ggplot2_2.2.1.tar.gz'\n",
      "\n",
      "  warnings.warn(x, RRuntimeWarning)\n",
      "/usr/local/lib/python3.5/dist-packages/rpy2/rinterface/__init__.py:186: RRuntimeWarning:  length 2213308 bytes (2.1 MB)\n",
      "\n",
      "  warnings.warn(x, RRuntimeWarning)\n"
     ]
    }
   ],
   "source": [
    "%%R\n",
    "install.packages('ggplot2')"
   ]
  },
  {
   "cell_type": "code",
   "execution_count": 15,
   "metadata": {
    "collapsed": false
   },
   "outputs": [],
   "source": [
    "%%R\n",
    "library(ggplot2)\n",
    "mtcars$gear <- factor(mtcars$gear,levels=c(3,4,5), labels=c(\"3gears\",\"4gears\",\"5gears\")) ;\n",
    "mtcars$am <- factor(mtcars$am,levels=c(0,1), labels=c(\"Automatic\",\"Manual\")) ;\n",
    "mtcars$cyl <- factor(mtcars$cyl,levels=c(4,6,8), labels=c(\"4cyl\",\"6cyl\",\"8cyl\")) ;"
   ]
  },
  {
   "cell_type": "code",
   "execution_count": 14,
   "metadata": {
    "collapsed": false
   },
   "outputs": [
    {
     "data": {
      "image/png": "[encoded data removed]"
     },
     "metadata": {},
     "output_type": "display_data"
    }
   ],
   "source": [
    "%%R\n",
    "qplot(mpg, data=mtcars, geom=\"density\", fill=gear, alpha=I(.5), \n",
    "   main=\"Distribution of Gas Milage\", xlab=\"Miles Per Gallon\", \n",
    "   ylab=\"Density\")\n"
   ]
  },
  {
   "cell_type": "code",
   "execution_count": null,
   "metadata": {
    "collapsed": true
   },
   "outputs": [],
   "source": []
  }
 ],
 "metadata": {
  "kernelspec": {
   "display_name": "Python 3",
   "language": "python",
   "name": "python3"
  },
  "language_info": {
   "codemirror_mode": {
    "name": "ipython",
    "version": 3
   },
   "file_extension": ".py",
   "mimetype": "text/x-python",
   "name": "python",
   "nbconvert_exporter": "python",
   "pygments_lexer": "ipython3",
   "version": "3.5.2"
  }
 },
 "nbformat": 4,
 "nbformat_minor": 0
}
