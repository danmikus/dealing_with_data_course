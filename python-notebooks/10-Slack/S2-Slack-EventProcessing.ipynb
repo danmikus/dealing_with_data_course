{
 "cells": [
  {
   "cell_type": "markdown",
   "metadata": {},
   "source": [
    "## Building a Chat Bot\n",
    "\n",
    "In the examples below, we will build a very simple application that creates a simple chat bot. The bot is monitoring the actions that are happening on Slack, and posts some acknowledgement messages every time someone types a message.\n",
    "\n",
    "\n",
    "#### Authentication\n",
    "\n",
    "We start first by authenticating our application. (See notes in S1). We read the `slack_secret.json` file, and we instantiate then our SlackClient."
   ]
  },
  {
   "cell_type": "code",
   "execution_count": null,
   "metadata": {},
   "outputs": [],
   "source": [
    "# Read the access token from the file\n",
    "import json\n",
    "\n",
    "secrets_file = 'slack_secret.json'\n",
    "f = open(secrets_file, 'r') \n",
    "content = f.read()\n",
    "f.close()\n",
    "\n",
    "auth_info = json.loads(content)\n",
    "token = auth_info[\"access_token\"]"
   ]
  },
  {
   "cell_type": "code",
   "execution_count": null,
   "metadata": {},
   "outputs": [],
   "source": [
    "# If you happen not to have the slackclient library installed, \n",
    "# you can uncomment and run the code below\n",
    "!sudo -H python3 -m pip install -U slackclient"
   ]
  },
  {
   "cell_type": "code",
   "execution_count": null,
   "metadata": {},
   "outputs": [],
   "source": [
    "from slackclient import SlackClient\n",
    "sc = SlackClient(token)\n",
    "response = sc.api_call(\"users.info\", user=auth_info[\"user_id\"])\n",
    "user = response['user']\n",
    "print(\"The username of the authenticated user is\", user.get('name'))\n",
    "print(\"The email of the authenticated user is\", user.get('profile').get('email'))\n",
    "print(\"The email of the authenticated user is\", user.get('profile').get('real_name'))"
   ]
  },
  {
   "cell_type": "markdown",
   "metadata": {},
   "source": [
    "### Implementing the bot\n",
    "\n",
    "The code below continuously monitors the various events on Slack. Of course, the bot can be programmed to react to any type of event. In this particular example, the bot monitors for user messages, and posts a \"thank you\" note to each user into the #bots channel."
   ]
  },
  {
   "cell_type": "code",
   "execution_count": null,
   "metadata": {},
   "outputs": [],
   "source": [
    "import time\n",
    "import re\n",
    "\n",
    "if sc.rtm_connect():\n",
    "    # We are going to be polling the Slack API for recent events continuously\n",
    "    while True:\n",
    "        # We are going to wait 1 second between monitoring attempts\n",
    "        time.sleep(1)\n",
    "        # If there are any new events, we will get a response. If there are no events, the response will be empty\n",
    "        response = sc.rtm_read()\n",
    "        for item in response:\n",
    "            event_type = item.get(\"type\")\n",
    "            # If the event is a message and the message is written by a user (and not a bot)\n",
    "            if event_type == 'message' and item.get(\"user\")!=None:\n",
    "                print(item)\n",
    "                print(\"=========================\")\n",
    "                message = \"Thank you user {u} for participating in channel {c}\".format(u=item[\"user\"], c=item[\"channel\"])\n",
    "                sc.api_call(\"chat.postMessage\", channel=\"#bots\", text=message)"
   ]
  },
  {
   "cell_type": "markdown",
   "metadata": {
    "collapsed": true
   },
   "source": [
    "#### Exercises \n",
    "\n",
    "* Change the code above to retrieve the actual user name of the user, instead of the user id\n",
    "* Chagne the code above to retrieve the actual name of the channel instead of the channel id\n",
    "* Change the code above to post the answer to the channel where the user posted, instead of the '#bots' channel"
   ]
  },
  {
   "cell_type": "code",
   "execution_count": null,
   "metadata": {},
   "outputs": [],
   "source": []
  },
  {
   "cell_type": "code",
   "execution_count": null,
   "metadata": {},
   "outputs": [],
   "source": []
  }
 ],
 "metadata": {
  "kernelspec": {
   "display_name": "Python 3",
   "language": "python",
   "name": "python3"
  },
  "language_info": {
   "codemirror_mode": {
    "name": "ipython",
    "version": 3
   },
   "file_extension": ".py",
   "mimetype": "text/x-python",
   "name": "python",
   "nbconvert_exporter": "python",
   "pygments_lexer": "ipython3",
   "version": "3.5.2"
  }
 },
 "nbformat": 4,
 "nbformat_minor": 1
}
