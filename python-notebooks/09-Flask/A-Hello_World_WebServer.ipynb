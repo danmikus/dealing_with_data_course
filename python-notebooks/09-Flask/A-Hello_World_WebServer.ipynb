{
 "cells": [
  {
   "cell_type": "markdown",
   "metadata": {},
   "source": [
    "# Creating a Simple Web Server using Flask\n"
   ]
  },
  {
   "cell_type": "markdown",
   "metadata": {},
   "source": [
    "<img src=\"images/logo.png\" width=50%>"
   ]
  },
  {
   "cell_type": "markdown",
   "metadata": {},
   "source": [
    "## What is Flask?\n",
    "\n",
    "Flask is a **micro web framework** written in Python and based on the [Werkzeug toolkit](werkzeug.pocoo.org/) and [Jinja2 template engine](jinja.pocoo.org/). \n",
    "\n",
    "Flask is called a micro framework because it does not require particular tools or libraries. It has no database abstraction layer, form validation, or any other components where pre-existing third-party libraries provide common functions. However, Flask supports extensions that can add application features as if they were implemented in Flask itself. Extensions exist for object-relational mappers, form validation, upload handling, various open authentication technologies and several common framework related tools. Extensions are updated far more regularly than the core Flask program.\n",
    "\n",
    "More information about Flask can be found on [official web site](http://flask.pocoo.org/).\n",
    "\n",
    "\n",
    "You can install Flask using the command below:\n"
   ]
  },
  {
   "cell_type": "code",
   "execution_count": null,
   "metadata": {},
   "outputs": [],
   "source": [
    "!sudo pip3 install -U Flask"
   ]
  },
  {
   "cell_type": "markdown",
   "metadata": {},
   "source": [
    "## Hello World Example\n",
    "\n",
    "We are going to use Flask to create at first a relatively simple web application that will display \"Hello World!\" message and then we will use more advanced functionality, HTML templates and SQL database.\n",
    "\n",
    "To do this we will use the current IPython notebook, where we will describe all steps, explain and execute the web application's code. \n",
    "\n",
    "> In general, a Flask application may be run using command shell; we also also provide an instruction how to run it using the shell, but here we will execute all scripts using IPython notebooks's magic functions, especially, `%run`.  \n"
   ]
  },
  {
   "cell_type": "markdown",
   "metadata": {},
   "source": [
    "The \"Hello World!\" message displaying in a browser window is as simple as possible first application that we will create. Let's do this!"
   ]
  },
  {
   "cell_type": "markdown",
   "metadata": {},
   "source": [
    "### Creating a \"Hello World!\" application\n",
    "\n",
    "Firstly, create a new text file in the folder where the current notebook lies (see the next picture how to do this)\n",
    "\n",
    "<img src=\"images/file1.jpg\">\n",
    "\n",
    "After that in the just opened new browser window rename it to `\"webserver.py\"` (see the screenshot; you may call it as you wish, but it must have `\".py\"` extension and than you will need to use your own name where this file will be mentioned)\n",
    "\n",
    "<img src=\"images/file2.jpg\">\n"
   ]
  },
  {
   "cell_type": "markdown",
   "metadata": {},
   "source": [
    "\n",
    "Than add the following code to the created `\"webserver.py\"` file\n",
    "```python\n",
    "from flask import Flask\n",
    " \n",
    "app = Flask(__name__)\n",
    "\n",
    "@app.route(\"/\")\n",
    "def home():\n",
    "    return \"Hello World!\"\n",
    "\n",
    "app.run(host='0.0.0.0', port=5000, debug=True)\n",
    "```\n",
    "\n",
    "and save it."
   ]
  },
  {
   "cell_type": "markdown",
   "metadata": {},
   "source": [
    "Here we import Flask and create an instance. Then we define a _route_ `\"/\"` which means the default web address. We also specify that the server will run on `port 5000`, and anybody `(0.0.0.0)` can connect to it.\n",
    "\n",
    "If you enable debug support the server will reload itself on code changes, and it will also provide you with a helpful debugger if things go wrong. That is why we used `app.run(debug=True)`.\n",
    "\n",
    "We can now start our server by doing the following: "
   ]
  },
  {
   "cell_type": "markdown",
   "metadata": {},
   "source": [
    "* On the command prompt, go to your working directory and run the script:\n",
    "```bash\n",
    "$  python3 webserver.py\n",
    "```\n",
    "* Then open a web browser and go to `http://your_ip_address:5000/`"
   ]
  },
  {
   "cell_type": "markdown",
   "metadata": {},
   "source": [
    "Now, you can see the result at  http://your_ip_address:5000/. \n",
    "\n",
    "<img src=\"images/helloworld.jpg\" width=50%>\n"
   ]
  },
  {
   "cell_type": "markdown",
   "metadata": {
    "collapsed": true
   },
   "source": [
    "### Version 2 of Hello World"
   ]
  },
  {
   "cell_type": "markdown",
   "metadata": {},
   "source": [
    "Now let's expand our server a bit. Let's modify the file `webserver.py` with the following content, and then run it. (Remember to stop the previous cell, if it is still running.)\n",
    "\n",
    "```python\n",
    "from flask import Flask\n",
    "from datetime import datetime\n",
    "\n",
    "app = Flask(__name__)\n",
    "\n",
    "# We add a global variable that will be used to count the visitors to a specific URL\n",
    "visitor_counter = 0\n",
    "\n",
    "def get_time_message():\n",
    "    datetime.now().strftime('%Y-%m-%d %H:%M:%S')\n",
    "    date = datetime.now().strftime('%Y-%m-%d')\n",
    "    time = datetime.now().strftime('%H:%M:%S')\n",
    "    message = \"<P>The date is {d}<P>The time is {t}</H1>\"\n",
    "    return message.format(d=date, t=time)\n",
    "    \n",
    "@app.route(\"/\")\n",
    "def home():\n",
    "    message = get_time_message()\n",
    "    return \"<H1>Hello World!\" + message +\"</H1>\"\n",
    "\n",
    "\n",
    "# Go to http://<your IP>:5000/hello to see the message\n",
    "@app.route('/hello')\n",
    "def hello_visitor():\n",
    "    global visitor_counter\n",
    "    visitor_counter += 1\n",
    "    return '<H1>Hello! You are visitor #{i}</H1>'.format(i=visitor_counter)\n",
    "\n",
    "\n",
    "app.run(host='0.0.0.0', port=5000, debug=True)\n",
    "```\n",
    "\n",
    "You will see a few new things here:\n",
    "* We return a message with the date and time.\n",
    "* We how have a second URL, under `/hello` that returns a different message. You need to go to `http://<your IP>:5000/hello` to see the message.\n",
    "* We have a \"global\" variable, that gets updated every time someone visits the `/hello`\n"
   ]
  },
  {
   "cell_type": "code",
   "execution_count": null,
   "metadata": {},
   "outputs": [],
   "source": []
  }
 ],
 "metadata": {
  "anaconda-cloud": {},
  "kernelspec": {
   "display_name": "Python 3",
   "language": "python",
   "name": "python3"
  },
  "language_info": {
   "codemirror_mode": {
    "name": "ipython",
    "version": 3
   },
   "file_extension": ".py",
   "mimetype": "text/x-python",
   "name": "python",
   "nbconvert_exporter": "python",
   "pygments_lexer": "ipython3",
   "version": "3.5.2"
  },
  "widgets": {
   "application/vnd.jupyter.widget-state+json": {
    "state": {},
    "version_major": 2,
    "version_minor": 0
   }
  }
 },
 "nbformat": 4,
 "nbformat_minor": 2
}
