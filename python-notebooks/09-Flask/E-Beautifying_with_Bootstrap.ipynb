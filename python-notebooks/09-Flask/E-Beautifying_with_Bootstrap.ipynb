{
 "cells": [
  {
   "cell_type": "markdown",
   "metadata": {},
   "source": [
    "# Beautifying the app using Bootstrap\n",
    "\n",
    "Honestly, the build HTML pages are not beautiful. Moreover, such way of web development usually brings a lot of problems when large and complex HTML pages are creating. [Twitter's Bootstrap](http://getbootstrap.com/) is an excellent set of carefully crafted user interface elements, layouts and JavaScript tools, easily available to use in your web design project. All you need is to create a link to the [Bootstrap resources](http://getbootstrap.com/getting-started/#download-cdn) in the HTML head and use the predefined CSS styles.\n"
   ]
  },
  {
   "cell_type": "markdown",
   "metadata": {},
   "source": [
    "Let's change the HTML in the `templates/citibike.html` file, to add a few Bootstrap elements:\n",
    "\n",
    "```html\n",
    "<!DOCTYPE html>\n",
    "<html>\n",
    "<head>\n",
    "    <link rel=\"stylesheet\" href=\"https://maxcdn.bootstrapcdn.com/bootstrap/3.3.7/css/bootstrap.min.css\" integrity=\"sha384-BVYiiSIFeK1dGmJRAkycuHAHRg32OmUcww7on3RYdg4Va+PmSTsz/K68vbdEjh4u\" crossorigin=\"anonymous\">\n",
    "</head>\n",
    "<body>  \n",
    "    <div class=\"container\">\n",
    "        <div class=\"panel panel-info\">\n",
    "            <div class=\"panel-heading\">\n",
    "                <h1 class=\"panel-title\">Citibike Stations</h1>\n",
    "            </div>\n",
    "            <table  class=\"table table-striped table-bordered table-hover\">\n",
    "                <thead>\n",
    "                    <tr> \n",
    "                        <th>Station ID</th>\n",
    "                        <th>Address</th>\n",
    "                        <th>Capacity</th>\n",
    "                        <th>Lon / Lat</th>\n",
    "                    </tr>\n",
    "                </thead>\n",
    "                <tbody>\n",
    "                    {% for station in stations %}    <!-- Fill table rows for each station --> \n",
    "                        <tr>\n",
    "                            <td>{{ station.station_id }}</td>\n",
    "                            <td>{{ station.name }}</td>\n",
    "                            <td>{{ station.capacity }}</td>\n",
    "                            <td>{{ station.lon }}, {{ station.lat }}</td>\n",
    "                        </tr>\n",
    "                    {% endfor %}\n",
    "                 </tbody>\n",
    "            </table>\n",
    "        </div>\n",
    "    </div>\n",
    "</body>\n",
    "</html>\n",
    "```"
   ]
  },
  {
   "cell_type": "markdown",
   "metadata": {},
   "source": [
    "And similarly for \n",
    "\n",
    "```html\n",
    "<!DOCTYPE html>\n",
    "<html>\n",
    "<head>\n",
    "    <link rel=\"stylesheet\" href=\"https://maxcdn.bootstrapcdn.com/bootstrap/3.3.7/css/bootstrap.min.css\" integrity=\"sha384-BVYiiSIFeK1dGmJRAkycuHAHRg32OmUcww7on3RYdg4Va+PmSTsz/K68vbdEjh4u\" crossorigin=\"anonymous\">\n",
    "</head>\n",
    "<body>   <!-- This is a comment in HTML -->\n",
    "    <div class=\"container\">\n",
    "        <div class=\"panel panel-info\">\n",
    "            <div class=\"panel-heading\">\n",
    "                <h1 class=\"panel-title\">Citibike Station {{station_id}} Status Over Time </h1>\n",
    "            </div>\n",
    "            <table  class=\"table table-striped table-bordered table-hover\">\n",
    "                <thead>\n",
    "                    <tr>    <!-- Construct table header -->\n",
    "                            <th> Time </th>\n",
    "                            <th> Bikes available </th>\n",
    "                            <th> Docks available </th>\n",
    "                            <th> Bikes disabled </th>\n",
    "                            <th> Docks disabled </th>\n",
    "                    </tr>\n",
    "                </thead>\n",
    "                <tbody>\n",
    "                    {% for status in statuses %}    <!-- Fill table rows for each station --> \n",
    "                        <tr>\n",
    "                            <td>{{ status.last_reported }}</td>\n",
    "                            <td>{{ status.num_bikes_available }}</td>\n",
    "                            <td>{{ status.num_docks_available }}</td>\n",
    "                            <td>{{ status.num_bikes_disabled }}</td>\n",
    "                            <td>{{ status.num_docks_disabled }}</td>\n",
    "                        </tr>\n",
    "                    {% endfor %}\n",
    "                 </tbody>\n",
    "            </table>\n",
    "        </div>\n",
    "    </div>\n",
    "</body>\n",
    "</html>\n",
    "```"
   ]
  },
  {
   "cell_type": "markdown",
   "metadata": {},
   "source": [
    "\n",
    "We are not going to teach Bootstrap in this lesson. We will simply show an example of the main page customization with the help of Bootstrap classes (see below). If you would like to use more components from Bootstrap, we recommend using the official resources: ([this](http://getbootstrap.com/css/) and [this](http://getbootstrap.com/components/)).\n",
    "        \n"
   ]
  },
  {
   "cell_type": "markdown",
   "metadata": {},
   "source": [
    "### Exercise\n",
    "\n",
    "Learn Bootstrap and add some components and classes to pretify all other pages to yor taste."
   ]
  },
  {
   "cell_type": "code",
   "execution_count": null,
   "metadata": {},
   "outputs": [],
   "source": []
  }
 ],
 "metadata": {
  "kernelspec": {
   "display_name": "Python 3",
   "language": "python",
   "name": "python3"
  },
  "language_info": {
   "codemirror_mode": {
    "name": "ipython",
    "version": 3
   },
   "file_extension": ".py",
   "mimetype": "text/x-python",
   "name": "python",
   "nbconvert_exporter": "python",
   "pygments_lexer": "ipython3",
   "version": "3.5.2"
  }
 },
 "nbformat": 4,
 "nbformat_minor": 2
}
