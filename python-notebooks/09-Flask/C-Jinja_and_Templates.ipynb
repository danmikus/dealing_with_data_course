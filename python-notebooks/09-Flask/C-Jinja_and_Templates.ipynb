{
 "cells": [
  {
   "cell_type": "markdown",
   "metadata": {},
   "source": [
    "# Jinja Templates\n",
    "\n",
    "We now discuss how to use _data_ within our _templates_. We will be using a template engine called `Jinja` which can be installed as follows:"
   ]
  },
  {
   "cell_type": "code",
   "execution_count": null,
   "metadata": {},
   "outputs": [],
   "source": [
    "!sudo -H pip3 install -U Jinja2"
   ]
  },
  {
   "cell_type": "markdown",
   "metadata": {},
   "source": [
    "## Using Jinja for making HTML structure creation more flexible\n",
    "\n",
    "Above we have mentioned that the `render_template` function may have a list of variables with template arguments that will be put in HTML structure of a web page. \n",
    "\n",
    "Let's look at a simple example. Replace the code between `<body>` tags in `\"index.html\"` by \n",
    "\n",
    "```html\n",
    "    <h1>Hello, {{ username }}!</h1>\n",
    "    <h1>Today is {{ today }}</h1>\n",
    "```\n",
    "\n",
    "and change the `webserver.py` function to\n",
    "\n",
    "```python\n",
    "from flask import Flask, render_template\n",
    "import datetime\n",
    "\n",
    "app = Flask(__name__)\n",
    "\n",
    "@app.route(\"/\")\n",
    "def home():\n",
    "    today = datetime.date.today()\n",
    "    return render_template(\"index.html\", username=\"Panos Ipeirotis\", today=today)\n",
    "\n",
    "app.run(host='0.0.0.0', port=5000, debug=True)\n",
    "```\n",
    "\n",
    "and refresh.\n",
    "\n",
    "As you may see both keys (`username` and `today`) written in `{{ }}` brackets were replaced by their values defined in the `render_template` function (`\"Panos Ipeirotis\"` and respective today's date).\n",
    "\n",
    "Under the covers, the `render_template` function invokes the [Jinja2](http://jinja.pocoo.org/) templating engine that is part of the Flask framework. Jinja2 substitutes `{{ ... }}` blocks with the corresponding values provided as template arguments.\n"
   ]
  },
  {
   "cell_type": "markdown",
   "metadata": {},
   "source": [
    "#### Now let's start our server:\n",
    "\n",
    "\n",
    "\n",
    "```bash\n",
    "$  python3 webserver.py\n",
    "```"
   ]
  },
  {
   "cell_type": "markdown",
   "metadata": {},
   "source": [
    "## Jinja iterators\n",
    "\n",
    "The Jinja2 templates also support control statements (`if - else`) and `for`-loops, given inside `{% ... %}` blocks. \n",
    "\n",
    "For example, here is a `for` loop, that displays a list of persons name and their age provided in the varaible `persons` ([HTML tags `<ul>` and  `<li>`](https://www.w3schools.com/tags/tag_li.asp) are using for lists creation in HTML structure):\n",
    "\n",
    "    Modify \"webserver.py\" file with the usual web server code, and add the following function:\n",
    "\n",
    "```python\n",
    "@app.route(\"/actors\")\n",
    "def actors():\n",
    "    persons = [\n",
    "        {\"name\": \"Robert De Niro\", \"age\": 73},\n",
    "        {\"name\": \"Leonardo DiCaprio\", \"age\": 42},\n",
    "        {\"name\": \"Tom Hanks\", \"age\": 60},\n",
    "        {\"name\": \"Tom Cruise\", \"age\": 54}\n",
    "    ]\n",
    "    return render_template('actors.html', title=\"My favorite actors\", actors=persons)\n",
    "```\n",
    "\n",
    "    And create a file in \"actors.html\" in under the `templates` folder.\n",
    "\n",
    "```html\n",
    "<body>\n",
    "    <h2>{{ title }}</h2>\n",
    "    <ul>\n",
    "        {% for i in actors %}\n",
    "        <li>Name: {{ i.name }}; age: {{ i.age }}</li>\n",
    "        {% endfor %}\n",
    "    </ul>\n",
    "</body>\n",
    "```\n",
    "\n",
    "The logic is very similar to Python's one, but pay attention that `for` loop must be closed by `endfor` clause. <br/>\n",
    "Let's demonstrate how to use `if`-statements and in the above template make bold all rows where actor is elder than 50 and underline actors who is 60 years old.\n",
    "\n",
    "```html\n",
    "<body>\n",
    "    <h2>{{ title }}</h2>\n",
    "    <ul>\n",
    "        {% for i in actors %}\n",
    "            <li>\n",
    "                {% if i.age == 60 %}\n",
    "                    <u>Name: {{ i.name }}; age: {{ i.age }}</u>\n",
    "                {% elif i.age > 50 %}\n",
    "                    <strong>Name: {{ i.name }}; age: {{ i.age }}</strong>\n",
    "                {% else %}\n",
    "                    Name: {{ i.name }}; age: {{ i.age }}\n",
    "                {% endif %}\n",
    "            </li>\n",
    "        {% endfor %}\n",
    "    </ul>\n",
    "</body>\n",
    "```\n",
    "\n",
    "Also `if`-statement should be closed by `endif` command. <br/>\n",
    "The capabilities proposing by Jinja2 usage are more wide than we have shown, but it will be absolutely enough for majority of templates creation. More information you may find [here](http://jinja.pocoo.org/docs/2.9/templates/)."
   ]
  },
  {
   "cell_type": "markdown",
   "metadata": {},
   "source": [
    "#### Now let's start our server:\n",
    "\n",
    "\n",
    "\n",
    "```bash\n",
    "$  python3 webserver.py\n",
    "```"
   ]
  },
  {
   "cell_type": "markdown",
   "metadata": {},
   "source": [
    "### Exercise \n",
    "\n",
    "There is a list with food name and calories \n",
    "\n",
    ">```python\n",
    "food = [\n",
    "    {\"food\": \"Apple pie, 1 piece\", \"calories\": 405, \"protein\": 3, \"fat\": 18, \"carbohydrate\": 60},\n",
    "    {\"food\": \"Banana\", \"calories\": 105, \"protein\": 1, \"fat\": 0, \"carbohydrate\": 27},  \n",
    "    {\"food\": \"Beaf steak\", \"calories\": 240, \"protein\": 23, \"fat\": 15, \"carbohydrate\": 0},\n",
    "    {\"food\": \"Carrot\", \"calories\": 30, \"protein\": 1, \"fat\": 0, \"carbohydrate\": 7},\n",
    "    {\"food\": \"Chicken soup, 1 cup\", \"calories\": 60, \"protein\": 4, \"fat\": 2, \"carbohydrate\": 7}\n",
    "]\n",
    "```\n",
    "\n",
    "Using ONLY Jinja2 template syntax display at the new page http://your_ip:5000/food the list of foods. Feel free to add conditional formatting, eg  when the number of calories exceeds a limit.\n",
    "\n",
    "**Hint:** You need to create a new HTML template and a new view function in `\"webserver.py\"` and set fot it the respective URL."
   ]
  },
  {
   "cell_type": "code",
   "execution_count": null,
   "metadata": {},
   "outputs": [],
   "source": []
  }
 ],
 "metadata": {
  "anaconda-cloud": {},
  "kernelspec": {
   "display_name": "Python 3",
   "language": "python",
   "name": "python3"
  },
  "language_info": {
   "codemirror_mode": {
    "name": "ipython",
    "version": 3
   },
   "file_extension": ".py",
   "mimetype": "text/x-python",
   "name": "python",
   "nbconvert_exporter": "python",
   "pygments_lexer": "ipython3",
   "version": "3.5.2"
  }
 },
 "nbformat": 4,
 "nbformat_minor": 2
}
