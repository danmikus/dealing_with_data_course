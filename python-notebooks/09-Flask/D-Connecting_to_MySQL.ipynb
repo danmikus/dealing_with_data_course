{
 "cells": [
  {
   "cell_type": "markdown",
   "metadata": {},
   "source": [
    "# Creating of a Flask application showing Citibike stations\n",
    "\n",
    "\n",
    "In this segment we will create a basic app, where we will connect to the Citibike database, and display the list of stations. \n",
    "\n",
    "Let's remember first how to get data from the database."
   ]
  },
  {
   "cell_type": "code",
   "execution_count": 1,
   "metadata": {},
   "outputs": [],
   "source": [
    "# This code creates a connection to the database\n",
    "import MySQLdb as mdb\n",
    "\n",
    "con = mdb.connect(host = 'ipython.ipeirotis.com', \n",
    "                  user = 'root',\n",
    "                  database = 'citibike_new',\n",
    "                  passwd = 'dwdstudent2015', \n",
    "                  charset='utf8', use_unicode=True);"
   ]
  },
  {
   "cell_type": "code",
   "execution_count": 2,
   "metadata": {},
   "outputs": [
    {
     "name": "stdout",
     "output_type": "stream",
     "text": [
      "{'station_id': 72, 'lon': -73.9939, 'capacity': 39, 'name': 'W 52 St & 11 Ave', 'lat': 40.7673}\n",
      "-----\n",
      "{'station_id': 79, 'lon': -74.0067, 'capacity': 33, 'name': 'Franklin St & W Broadway', 'lat': 40.7191}\n",
      "-----\n",
      "{'station_id': 82, 'lon': -74.0002, 'capacity': 27, 'name': 'St James Pl & Pearl St', 'lat': 40.7112}\n",
      "-----\n",
      "{'station_id': 83, 'lon': -73.9763, 'capacity': 62, 'name': 'Atlantic Ave & Fort Greene Pl', 'lat': 40.6838}\n",
      "-----\n",
      "{'station_id': 116, 'lon': -74.0015, 'capacity': 39, 'name': 'W 17 St & 8 Ave', 'lat': 40.7418}\n",
      "-----\n"
     ]
    }
   ],
   "source": [
    "cur = con.cursor(mdb.cursors.DictCursor)\n",
    "cur.execute(\"SELECT station_id, name, capacity, lon, lat FROM Stations LIMIT 5\")\n",
    "stations = cur.fetchall()\n",
    "cur.close()\n",
    "\n",
    "for s in stations:\n",
    "    print(s)\n",
    "    print(\"-----\")"
   ]
  },
  {
   "cell_type": "markdown",
   "metadata": {},
   "source": [
    "## Displaying the database results in HTML"
   ]
  },
  {
   "cell_type": "markdown",
   "metadata": {},
   "source": [
    "Now, we are going to display these data in HTML page in a table format. An HTML table is defined with the [`<table>` tag](https://www.w3schools.com/html/html_tables.asp). Each table row is defined with the `<tr>` tag. A table header is defined with the `<th>` tag. By default, table headings are bold and centered. A table data/cell is defined with the `<td>` tag. \n"
   ]
  },
  {
   "cell_type": "markdown",
   "metadata": {},
   "source": [
    "Let's transfer the code for records retrieving to the `\"webserver.py\"` file:\n",
    "\n",
    "```python\n",
    "from flask import Flask, render_template\n",
    "import MySQLdb as mdb\n",
    "\n",
    "app = Flask(__name__)\n",
    "    \n",
    "@app.route('/citibike')\n",
    "def citibike_stations():\n",
    "    \n",
    "    con = mdb.connect(host = 'localhost', \n",
    "                  user = 'root',\n",
    "                  database = 'citibike_new',\n",
    "                  passwd = 'dwdstudent2015', \n",
    "                  charset='utf8', use_unicode=True);\n",
    "    \n",
    "    cur = con.cursor(mdb.cursors.DictCursor)\n",
    "    cur.execute(\"SELECT station_id, name, capacity, lon, lat FROM Stations\")\n",
    "    stations = cur.fetchall()\n",
    "    cur.close()\n",
    "    con.close()\n",
    "\n",
    "    return render_template('citibike.html', stations=stations)\n",
    "\n",
    "if __name__ == '__main__':\n",
    "    app.run(host='0.0.0.0', port=5000, debug=True)\n",
    "```\n",
    "\n"
   ]
  },
  {
   "cell_type": "markdown",
   "metadata": {},
   "source": [
    "and add the following code to the `\"templates/citibike.html\"` file\n",
    "\n",
    "```html\n",
    "<!DOCTYPE html>\n",
    "<html>\n",
    "<body>   <!-- This is a comment in HTML -->\n",
    "    <table>\n",
    "        <thead>\n",
    "            <tr>    <!-- Construct table header -->\n",
    "                <th>Station ID</th>\n",
    "                <th>Address</th>\n",
    "                <th>Capacity</th>\n",
    "                <th>Lon / Lat</th>\n",
    "            </tr>\n",
    "        </thead>\n",
    "        <tbody>\n",
    "            {% for station in stations %}    <!-- Fill table rows for each station --> \n",
    "                <tr>\n",
    "                    <td>{{ station.station_id }}</td>\n",
    "                    <td>{{ station.name }}</td>\n",
    "                    <td>{{ station.capacity }}</td>\n",
    "                    <td>{{ station.lon }}, {{ station.lat }}</td>\n",
    "           \n",
    "                </tr>\n",
    "            {% endfor %}\n",
    "         </tbody>\n",
    "    </table>\n",
    "</body>\n",
    "</html>\n",
    "```\n",
    "\n",
    "Run this code to see how the table looks."
   ]
  },
  {
   "cell_type": "markdown",
   "metadata": {},
   "source": [
    "#### Now let's start our server:\n",
    "\n",
    "\n",
    "\n",
    "```bash\n",
    "$  python3 webserver.py\n",
    "```"
   ]
  },
  {
   "cell_type": "markdown",
   "metadata": {},
   "source": [
    "## Getting Parameters\n",
    "\n",
    "Now let's see how we can query for the status of a Citibike station over time.\n",
    "\n",
    "For this part, we want to create a new function, where we will pass the `station_id` as a **parameter**. Then our code will read the value of the parameter `station_id` and then will query the database to get the status of that station.\n",
    "\n",
    "The related pieces of code for reading a parameter are the following\n",
    "\n",
    "> `from flask import request`\n",
    "\n",
    "> `station_id = request.args.get('station_id')`"
   ]
  },
  {
   "cell_type": "markdown",
   "metadata": {},
   "source": [
    "Now, let's add the import command `from flask import request` into the `webserver.py` and also add the function below that adds an extra URL `station_status`. \n",
    "\n",
    "```python\n",
    "@app.route('/station_status')\n",
    "def station_status():\n",
    "    \n",
    "    station_id = int(request.args.get('station_id'))\n",
    "    \n",
    "    con = mdb.connect(host = 'localhost', \n",
    "                  user = 'root',\n",
    "                  database = 'citibike_new',\n",
    "                  passwd = 'dwdstudent2015', \n",
    "                  charset='utf8', use_unicode=True);\n",
    "    \n",
    "    cur = con.cursor(mdb.cursors.DictCursor)\n",
    "    query = '''SELECT num_bikes_available, \n",
    "                      num_docks_available, \n",
    "                      num_bikes_disabled, \n",
    "                      num_docks_disabled, \n",
    "                      last_reported \n",
    "               FROM Status\n",
    "               WHERE station_id = %s'''\n",
    "    cur.execute(query, (station_id,) )\n",
    "    status = cur.fetchall()\n",
    "    cur.close()\n",
    "    con.close()\n",
    "\n",
    "    return render_template('station_status.html', station_id = station_id, statuses=status)\n",
    "```"
   ]
  },
  {
   "cell_type": "markdown",
   "metadata": {},
   "source": [
    "And we can create the corresponding template file under `templates/station_status.html` for showing the results:\n",
    "    \n",
    "```html\n",
    "<!DOCTYPE html>\n",
    "<html>\n",
    "<body> \n",
    "    <table>\n",
    "        <thead>\n",
    "            <tr>    <!-- Construct table header -->\n",
    "                    <th> Time </th>\n",
    "                    <th> Bikes available </th>\n",
    "                    <th> Docks available </th>\n",
    "                    <th> Bikes disabled </th>\n",
    "                    <th> Docks disabled </th>\n",
    "            </tr>\n",
    "        </thead>\n",
    "        <tbody>\n",
    "            {% for status in statuses %}\n",
    "                <tr>\n",
    "                    <td>{{ status.last_reported }}</td>\n",
    "                    <td>{{ status.num_bikes_available }}</td>\n",
    "                    <td>{{ status.num_docks_available }}</td>\n",
    "                    <td>{{ status.num_bikes_disabled }}</td>\n",
    "                    <td>{{ status.num_docks_disabled }}</td>\n",
    "                </tr>\n",
    "            {% endfor %}\n",
    "         </tbody>\n",
    "    </table>\n",
    "</body>\n",
    "</html>\n",
    "```"
   ]
  },
  {
   "cell_type": "markdown",
   "metadata": {},
   "source": [
    "This function creates a new URL, to which we can pass a parameter `station_id` as follows:\n",
    "\n",
    "> http://your_ip_address:5000/station_status?station_id=72\n",
    "\n"
   ]
  },
  {
   "cell_type": "markdown",
   "metadata": {},
   "source": [
    "#### Now let's start our server:\n",
    "\n",
    "\n",
    "\n",
    "```bash\n",
    "$  python3 webserver.py\n",
    "```"
   ]
  }
 ],
 "metadata": {
  "anaconda-cloud": {},
  "kernelspec": {
   "display_name": "Python 3",
   "language": "python",
   "name": "python3"
  },
  "language_info": {
   "codemirror_mode": {
    "name": "ipython",
    "version": 3
   },
   "file_extension": ".py",
   "mimetype": "text/x-python",
   "name": "python",
   "nbconvert_exporter": "python",
   "pygments_lexer": "ipython3",
   "version": "3.5.2"
  }
 },
 "nbformat": 4,
 "nbformat_minor": 2
}
