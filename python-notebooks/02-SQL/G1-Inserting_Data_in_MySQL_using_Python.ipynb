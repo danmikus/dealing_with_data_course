{
 "cells": [
  {
   "cell_type": "markdown",
   "metadata": {},
   "source": [
    "## Inserting data in MySQL using Python\n",
    "\n",
    "First let's start with a basic piece of code that fetches the data that we want to insert in the database. For our example, we will get the data about the Citibike stations, using the correspoding API call provided by the Citibike website:"
   ]
  },
  {
   "cell_type": "code",
   "execution_count": null,
   "metadata": {
    "collapsed": true
   },
   "outputs": [],
   "source": [
    "import requests"
   ]
  },
  {
   "cell_type": "code",
   "execution_count": null,
   "metadata": {
    "collapsed": true
   },
   "outputs": [],
   "source": [
    "# Let's get the data from the Citibike API\n",
    "url = 'http://www.citibikenyc.com/stations/json'\n",
    "results = requests.get(url).json() "
   ]
  },
  {
   "cell_type": "code",
   "execution_count": null,
   "metadata": {
    "collapsed": true
   },
   "outputs": [],
   "source": [
    "# We only need a subset of the data in the JSON returned by the Citibike API, so we keep only we need\n",
    "data = results[\"stationBeanList\"]"
   ]
  },
  {
   "cell_type": "code",
   "execution_count": null,
   "metadata": {
    "collapsed": true
   },
   "outputs": [],
   "source": [
    "len(data)"
   ]
  },
  {
   "cell_type": "markdown",
   "metadata": {},
   "source": [
    "Now we will connect to our MySQL server. We will use the pymysql library of Python.\n"
   ]
  },
  {
   "cell_type": "code",
   "execution_count": null,
   "metadata": {
    "collapsed": true
   },
   "outputs": [],
   "source": [
    "import pymysql as mdb\n",
    "\n",
    "con = mdb.connect(host = 'localhost', \n",
    "                  user = 'root', \n",
    "                  passwd = 'dwdstudent2015', \n",
    "                  charset='utf8', use_unicode=True);"
   ]
  },
  {
   "cell_type": "markdown",
   "metadata": {},
   "source": [
    "Once we have connected successfully, we need to create our database:"
   ]
  },
  {
   "cell_type": "code",
   "execution_count": null,
   "metadata": {
    "collapsed": true
   },
   "outputs": [],
   "source": [
    "# Query to create a database\n",
    "db_name = 'citibike_mysql_test'\n",
    "create_db_query = \"CREATE DATABASE IF NOT EXISTS {db} DEFAULT CHARACTER SET 'utf8'\".format(db=db_name)\n",
    "\n",
    "# Create a database\n",
    "cursor = con.cursor()\n",
    "cursor.execute(create_db_query)\n",
    "cursor.close()"
   ]
  },
  {
   "cell_type": "markdown",
   "metadata": {},
   "source": [
    "Then we create the table where we will store our data. For our example, we will just import three fields in the database: station_id, station_name, and number_of_docks"
   ]
  },
  {
   "cell_type": "code",
   "execution_count": null,
   "metadata": {
    "collapsed": true
   },
   "outputs": [],
   "source": [
    "cursor = con.cursor()\n",
    "table_name = 'Docks'\n",
    "# Create a table\n",
    "# The {db} and {table} are placeholders for the parameters in the format(....) statement\n",
    "create_table_query = '''CREATE TABLE IF NOT EXISTS {db}.{table} \n",
    "                                (station_id int, \n",
    "                                station_name varchar(250), \n",
    "                                number_of_docks int,\n",
    "                                available_docks int,\n",
    "                                date datetime,\n",
    "                                PRIMARY KEY(station_id, date)\n",
    "                                )'''.format(db=db_name, table=table_name)\n",
    "cursor.execute(create_table_query)\n",
    "cursor.close()"
   ]
  },
  {
   "cell_type": "markdown",
   "metadata": {},
   "source": [
    "Finally, we import the data into our table, using the INSERT command. "
   ]
  },
  {
   "cell_type": "code",
   "execution_count": null,
   "metadata": {
    "collapsed": true
   },
   "outputs": [],
   "source": [
    "from datetime import date, datetime, timedelta\n",
    "\n",
    "query_template = '''INSERT INTO {db}.{table}(station_id, \n",
    "                                            station_name, \n",
    "                                            number_of_docks, \n",
    "                                            available_docks, \n",
    "                                            date) \n",
    "                    VALUES (%s, %s, %s, %s, %s)'''.format(db=db_name, table=table_name)\n",
    "cursor = con.cursor()\n",
    "\n",
    "# THIS IS PROHIBITED\n",
    "# query = \"INSERT INTO citibike.Docks(station_id, station_name, number_of_docks) VALUES (\"+entry[\"id\"]+\", \"+entry[\"stationName\"]+\", \"+entry[\"totalDocks\"]+\")\"\n",
    "for entry in data:\n",
    "    dockid = entry[\"id\"]\n",
    "    addr = entry[\"stationName\"]\n",
    "    docks = entry[\"totalDocks\"]\n",
    "    available = entry[\"availableDocks\"]\n",
    "    # date =  datetime.now()\n",
    "    # lastcommunicationtime is a string of \n",
    "    # the form \"2016-02-09 10:16:49 AM\"\n",
    "    # See https://docs.python.org/2/library/datetime.html#strftime-and-strptime-behavior\n",
    "    # to see the documentation on how to parse \n",
    "    date = datetime.strptime(entry[\"lastCommunicationTime\"], \n",
    "                             '%Y-%m-%d %I:%M:%S %p')\n",
    "    print(\"Inserting station\", dockid, \"at\", addr)\n",
    "    query_parameters = (dockid, addr, docks, available, date)\n",
    "    cursor.execute(query_template, query_parameters)\n",
    "\n",
    "con.commit()\n",
    "cursor.close()"
   ]
  },
  {
   "cell_type": "code",
   "execution_count": null,
   "metadata": {
    "collapsed": true,
    "scrolled": false
   },
   "outputs": [],
   "source": [
    "cur = con.cursor(mdb.cursors.DictCursor)\n",
    "cur.execute(\"SELECT * FROM {db}.{table}\".format(db=db_name, table=table_name))\n",
    "rows = cur.fetchall()\n",
    "cur.close()"
   ]
  },
  {
   "cell_type": "code",
   "execution_count": null,
   "metadata": {
    "collapsed": true
   },
   "outputs": [],
   "source": [
    "for row in rows:\n",
    "    print(\"Station ID:\", row[\"station_id\"])\n",
    "    print(\"Station Name:\", row[\"station_name\"])\n",
    "    print(\"Number of Docks:\", row[\"number_of_docks\"])\n",
    "    print(\"Available Docks:\", row[\"available_docks\"])\n",
    "    print(\"Last Communication:\", row[\"date\"])\n",
    "    print(\"=============================================\")\n",
    "    \n"
   ]
  },
  {
   "cell_type": "code",
   "execution_count": null,
   "metadata": {
    "collapsed": true
   },
   "outputs": [],
   "source": []
  },
  {
   "cell_type": "markdown",
   "metadata": {},
   "source": [
    "We can, of course, transform the results back into a DataFrame (see below) or we can use the data directly from the rows object (which is a tuple, containing one dictionary object for each line of the results)."
   ]
  },
  {
   "cell_type": "code",
   "execution_count": null,
   "metadata": {
    "collapsed": true
   },
   "outputs": [],
   "source": [
    "import pandas as pd\n",
    "cur = con.cursor(mdb.cursors.DictCursor)\n",
    "cur.execute(\"SELECT * FROM {db}.{table}\".format(db=db_name, table=table_name))\n",
    "rows = cur.fetchall()\n",
    "cur.close()"
   ]
  },
  {
   "cell_type": "code",
   "execution_count": null,
   "metadata": {
    "collapsed": true
   },
   "outputs": [],
   "source": [
    "df_from_sql = pd.DataFrame(list(rows))\n",
    "df_from_sql"
   ]
  },
  {
   "cell_type": "code",
   "execution_count": null,
   "metadata": {
    "collapsed": true
   },
   "outputs": [],
   "source": [
    "# We can then compute functions directly on the dataframe\n",
    "sum(df_from_sql[\"number_of_docks\"])"
   ]
  },
  {
   "cell_type": "code",
   "execution_count": null,
   "metadata": {
    "collapsed": true
   },
   "outputs": [],
   "source": [
    "# We can then compute functions directly on the dataframe\n",
    "sum(df_from_sql[\"available_docks\"])"
   ]
  },
  {
   "cell_type": "code",
   "execution_count": null,
   "metadata": {
    "collapsed": true
   },
   "outputs": [],
   "source": [
    "# And we can also create \n",
    "df_from_sql[\"bikes_docked\"] = df_from_sql[\"number_of_docks\"] - df_from_sql[\"available_docks\"]"
   ]
  },
  {
   "cell_type": "code",
   "execution_count": null,
   "metadata": {
    "collapsed": true
   },
   "outputs": [],
   "source": [
    "sum(df_from_sql['bikes_docked'])"
   ]
  },
  {
   "cell_type": "markdown",
   "metadata": {},
   "source": [
    "Finally, let's clean up and close our database connection."
   ]
  },
  {
   "cell_type": "code",
   "execution_count": null,
   "metadata": {
    "collapsed": true
   },
   "outputs": [],
   "source": [
    "create_db_query = \"DROP DATABASE IF EXISTS {db}\".format(db=db_name)\n",
    "\n",
    "# Create a database\n",
    "cursor = con.cursor()\n",
    "cursor.execute(create_db_query)\n",
    "cursor.close()"
   ]
  },
  {
   "cell_type": "code",
   "execution_count": null,
   "metadata": {
    "collapsed": true
   },
   "outputs": [],
   "source": [
    "con.close()"
   ]
  }
 ],
 "metadata": {
  "kernelspec": {
   "display_name": "Python 3",
   "language": "python",
   "name": "python3"
  },
  "language_info": {
   "codemirror_mode": {
    "name": "ipython",
    "version": 3
   },
   "file_extension": ".py",
   "mimetype": "text/x-python",
   "name": "python",
   "nbconvert_exporter": "python",
   "pygments_lexer": "ipython3",
   "version": "3.6.3"
  }
 },
 "nbformat": 4,
 "nbformat_minor": 1
}
