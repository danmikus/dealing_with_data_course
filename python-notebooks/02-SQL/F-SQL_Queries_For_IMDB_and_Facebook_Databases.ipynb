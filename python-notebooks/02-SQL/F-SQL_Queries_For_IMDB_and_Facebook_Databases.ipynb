{
 "cells": [
  {
   "cell_type": "markdown",
   "metadata": {},
   "source": [
    "## SQL Queries\n",
    "\n",
    "To be able to execute SQL queries from within a Jupyter notebook, we will use the `sql_magic` extension (https://github.com/pivotal/sql_magic)."
   ]
  },
  {
   "cell_type": "code",
   "execution_count": null,
   "metadata": {
    "collapsed": true
   },
   "outputs": [],
   "source": [
    "from sqlalchemy import create_engine"
   ]
  },
  {
   "cell_type": "code",
   "execution_count": null,
   "metadata": {},
   "outputs": [],
   "source": [
    "conn_string = 'mysql+pymysql://{user}:{password}@{host}/?charset=utf8'.format(\n",
    "    host = 'db.ipeirotis.org', \n",
    "    user = 'student',\n",
    "    password = 'dwdstudent2015',\n",
    "    encoding = 'utf-8')\n",
    "engine = create_engine(conn_string)"
   ]
  },
  {
   "cell_type": "code",
   "execution_count": null,
   "metadata": {},
   "outputs": [],
   "source": [
    "%reload_ext sql_magic"
   ]
  },
  {
   "cell_type": "code",
   "execution_count": null,
   "metadata": {
    "collapsed": true
   },
   "outputs": [],
   "source": [
    "%config SQL.conn_name = 'engine'"
   ]
  },
  {
   "cell_type": "code",
   "execution_count": null,
   "metadata": {},
   "outputs": [],
   "source": [
    "%%read_sql\n",
    "show databases"
   ]
  },
  {
   "cell_type": "code",
   "execution_count": null,
   "metadata": {},
   "outputs": [],
   "source": [
    "%%read_sql\n",
    "use imdb"
   ]
  },
  {
   "cell_type": "code",
   "execution_count": null,
   "metadata": {},
   "outputs": [],
   "source": [
    "%%read_sql\n",
    "show tables"
   ]
  },
  {
   "cell_type": "code",
   "execution_count": null,
   "metadata": {},
   "outputs": [],
   "source": [
    "%%read_sql\n",
    "describe actors"
   ]
  },
  {
   "cell_type": "code",
   "execution_count": null,
   "metadata": {},
   "outputs": [],
   "source": [
    "%%read_sql\n",
    "describe roles"
   ]
  },
  {
   "cell_type": "markdown",
   "metadata": {},
   "source": [
    "### SELECT Queries (IMDB database)"
   ]
  },
  {
   "cell_type": "code",
   "execution_count": null,
   "metadata": {
    "collapsed": true
   },
   "outputs": [],
   "source": []
  },
  {
   "cell_type": "code",
   "execution_count": null,
   "metadata": {},
   "outputs": [],
   "source": [
    "%%read_sql\n",
    "USE imdb"
   ]
  },
  {
   "cell_type": "markdown",
   "metadata": {},
   "source": [
    "#### Find all movie titles with id less than 100."
   ]
  },
  {
   "cell_type": "code",
   "execution_count": null,
   "metadata": {
    "scrolled": true
   },
   "outputs": [],
   "source": [
    "%%read_sql\n",
    "SELECT * \n",
    "FROM movies \n",
    "WHERE id<100"
   ]
  },
  {
   "cell_type": "markdown",
   "metadata": {},
   "source": [
    "#### Find all information about movies that were released before 1895 (excl)"
   ]
  },
  {
   "cell_type": "code",
   "execution_count": null,
   "metadata": {},
   "outputs": [],
   "source": [
    "%%read_sql\n",
    "SELECT *\n",
    "FROM movies \n",
    "WHERE year<1895"
   ]
  },
  {
   "cell_type": "markdown",
   "metadata": {},
   "source": [
    "#### Find all information about movies that were released before 1895 and after 2006 (inclusive)"
   ]
  },
  {
   "cell_type": "code",
   "execution_count": null,
   "metadata": {},
   "outputs": [],
   "source": [
    "%%read_sql\n",
    "SELECT *\n",
    "FROM movies \n",
    "WHERE year<=1895 OR year>=2006"
   ]
  },
  {
   "cell_type": "markdown",
   "metadata": {},
   "source": [
    "#### Find all information about movies released between 1895 and 1898 (excl)"
   ]
  },
  {
   "cell_type": "code",
   "execution_count": null,
   "metadata": {},
   "outputs": [],
   "source": [
    "%%read_sql\n",
    "SELECT *\n",
    "FROM movies \n",
    "WHERE year>1895 AND year<1898"
   ]
  },
  {
   "cell_type": "markdown",
   "metadata": {},
   "source": [
    "#### Find all information about *actresses* who are have first name Skyler"
   ]
  },
  {
   "cell_type": "code",
   "execution_count": null,
   "metadata": {},
   "outputs": [],
   "source": [
    "%%read_sql\n",
    "SELECT *\n",
    "FROM actors\n",
    "WHERE first_name = 'Skyler' AND gender = 'F';"
   ]
  },
  {
   "cell_type": "markdown",
   "metadata": {},
   "source": [
    "#### Find the director ID of Steven Spielberg"
   ]
  },
  {
   "cell_type": "code",
   "execution_count": null,
   "metadata": {},
   "outputs": [],
   "source": [
    "%%read_sql\n",
    "SELECT id\n",
    "FROM directors\n",
    "WHERE first_name = 'Steven' AND last_name = 'Spielberg';"
   ]
  },
  {
   "cell_type": "markdown",
   "metadata": {},
   "source": [
    "#### Find the director IDs and the first and last names of directors with the last name Spielberg and Hitchcock"
   ]
  },
  {
   "cell_type": "code",
   "execution_count": null,
   "metadata": {},
   "outputs": [],
   "source": [
    "%%read_sql\n",
    "SELECT id, first_name, last_name\n",
    "FROM directors\n",
    "WHERE last_name = 'Spielberg' OR last_name = 'Hitchcock';"
   ]
  },
  {
   "cell_type": "markdown",
   "metadata": {},
   "source": [
    "#### Find all genres of films and the corresponding probabilities for the director ID that corresponds to Steven Spielberg. Sort the results by probability."
   ]
  },
  {
   "cell_type": "code",
   "execution_count": null,
   "metadata": {},
   "outputs": [],
   "source": [
    "%%read_sql\n",
    "SELECT genre, prob\n",
    "FROM directors_genres\n",
    "WHERE director_id = '75380' # the id of Spielberg FROM above\n",
    "ORDER BY prob DESC"
   ]
  },
  {
   "cell_type": "markdown",
   "metadata": {},
   "source": [
    "#### Find the id of the movie Schindler's List."
   ]
  },
  {
   "cell_type": "code",
   "execution_count": null,
   "metadata": {},
   "outputs": [],
   "source": [
    "%%read_sql\n",
    "SELECT *\n",
    "FROM movies\n",
    "WHERE name = \"Schindler's List\""
   ]
  },
  {
   "cell_type": "markdown",
   "metadata": {},
   "source": [
    "#### List all the roles for the movie with id 290070. Sort them alphabetically"
   ]
  },
  {
   "cell_type": "code",
   "execution_count": null,
   "metadata": {},
   "outputs": [],
   "source": [
    "%%read_sql\n",
    "SELECT *\n",
    "FROM roles\n",
    "WHERE movie_id = '290070'"
   ]
  },
  {
   "cell_type": "markdown",
   "metadata": {},
   "source": [
    "### SELECT Queries (Facebook database)"
   ]
  },
  {
   "cell_type": "code",
   "execution_count": null,
   "metadata": {},
   "outputs": [],
   "source": [
    "%%read_sql\n",
    "USE facebook"
   ]
  },
  {
   "cell_type": "markdown",
   "metadata": {},
   "source": [
    "#### Find all names of students FROM the Profiles table"
   ]
  },
  {
   "cell_type": "code",
   "execution_count": null,
   "metadata": {},
   "outputs": [],
   "source": [
    "%%read_sql\n",
    "SELECT name\n",
    "FROM Profiles"
   ]
  },
  {
   "cell_type": "markdown",
   "metadata": {},
   "source": [
    "#### Get the names and sex of all liberal students"
   ]
  },
  {
   "cell_type": "code",
   "execution_count": null,
   "metadata": {},
   "outputs": [],
   "source": [
    "%%read_sql\n",
    "SELECT name, sex\n",
    "FROM Profiles\n",
    "WHERE PoliticalViews ='Liberal'"
   ]
  },
  {
   "cell_type": "markdown",
   "metadata": {},
   "source": [
    "#### Get the High Schools of the students in the database"
   ]
  },
  {
   "cell_type": "code",
   "execution_count": null,
   "metadata": {},
   "outputs": [],
   "source": [
    "%%read_sql\n",
    "SELECT HighSchool\n",
    "FROM Profiles"
   ]
  },
  {
   "cell_type": "markdown",
   "metadata": {},
   "source": [
    "#### Find all the possible political views, eliminating duplicate entries"
   ]
  },
  {
   "cell_type": "code",
   "execution_count": null,
   "metadata": {},
   "outputs": [],
   "source": [
    "%%read_sql\n",
    "SELECT DISTINCT PoliticalViews\n",
    "FROM Profiles"
   ]
  },
  {
   "cell_type": "markdown",
   "metadata": {},
   "source": [
    "#### Find all possible relationship statuses"
   ]
  },
  {
   "cell_type": "code",
   "execution_count": null,
   "metadata": {},
   "outputs": [],
   "source": [
    "%%read_sql\n",
    "SELECT DISTINCT Status\n",
    "FROM Relationship"
   ]
  },
  {
   "cell_type": "markdown",
   "metadata": {},
   "source": [
    "#### Find all possible values for the “status” attribute in Profiles "
   ]
  },
  {
   "cell_type": "code",
   "execution_count": null,
   "metadata": {},
   "outputs": [],
   "source": [
    "%%read_sql\n",
    "SELECT DISTINCT Status\n",
    "FROM Profiles"
   ]
  },
  {
   "cell_type": "markdown",
   "metadata": {},
   "source": [
    "#### Find all possible values for the “Residence” attribute in Profiles, eliminating duplicates"
   ]
  },
  {
   "cell_type": "code",
   "execution_count": null,
   "metadata": {},
   "outputs": [],
   "source": [
    "%%read_sql\n",
    "SELECT DISTINCT Residence\n",
    "FROM Profiles"
   ]
  },
  {
   "cell_type": "markdown",
   "metadata": {},
   "source": [
    "#### Find all students living in Palladium"
   ]
  },
  {
   "cell_type": "code",
   "execution_count": null,
   "metadata": {},
   "outputs": [],
   "source": [
    "%%read_sql\n",
    "SELECT Name, Residence\n",
    "FROM Profiles\n",
    "WHERE Residence LIKE 'Palladium%%'"
   ]
  },
  {
   "cell_type": "markdown",
   "metadata": {},
   "source": [
    "#### Find all students who attended Stuyvesant"
   ]
  },
  {
   "cell_type": "code",
   "execution_count": null,
   "metadata": {},
   "outputs": [],
   "source": [
    "%%read_sql\n",
    "SELECT *\n",
    "FROM Profiles\n",
    "WHERE HighSchool LIKE 'Stuyvesant%%'"
   ]
  },
  {
   "cell_type": "markdown",
   "metadata": {},
   "source": [
    "#### Find all names that contain a digit"
   ]
  },
  {
   "cell_type": "code",
   "execution_count": null,
   "metadata": {},
   "outputs": [],
   "source": [
    "%%read_sql\n",
    "SELECT * \n",
    "FROM Profiles \n",
    "WHERE name REGEXP '[0-9]+'"
   ]
  },
  {
   "cell_type": "markdown",
   "metadata": {},
   "source": [
    "#### Find all students with a name that contains a non-letter character, other than \\- and \\."
   ]
  },
  {
   "cell_type": "code",
   "execution_count": null,
   "metadata": {},
   "outputs": [],
   "source": [
    "%%read_sql\n",
    "SELECT * \n",
    "FROM Profiles \n",
    "WHERE name NOT REGEXP '^[A-z \\-\\.]+$'"
   ]
  },
  {
   "cell_type": "markdown",
   "metadata": {},
   "source": [
    "### Aggregation Queries (IMDB Database)"
   ]
  },
  {
   "cell_type": "code",
   "execution_count": null,
   "metadata": {},
   "outputs": [],
   "source": [
    "%%read_sql\n",
    "USE imdb;"
   ]
  },
  {
   "cell_type": "markdown",
   "metadata": {},
   "source": [
    "#### Number of movies for each director"
   ]
  },
  {
   "cell_type": "code",
   "execution_count": null,
   "metadata": {},
   "outputs": [],
   "source": [
    "%%read_sql\n",
    "SELECT director_id, count(*) AS NumberOfMovies\n",
    "FROM movies_directors \n",
    "GROUP BY director_id\n",
    "LIMIT 100;"
   ]
  },
  {
   "cell_type": "markdown",
   "metadata": {},
   "source": [
    "#### Rank directors by the number of movies they directed"
   ]
  },
  {
   "cell_type": "code",
   "execution_count": null,
   "metadata": {},
   "outputs": [],
   "source": [
    "%%read_sql\n",
    "SELECT director_id, count(*) AS NumberOfMovies\n",
    "FROM movies_directors \n",
    "GROUP BY director_id\n",
    "ORDER BY count(*) desc"
   ]
  },
  {
   "cell_type": "markdown",
   "metadata": {},
   "source": [
    "#### Find the number of actors in each movie"
   ]
  },
  {
   "cell_type": "code",
   "execution_count": null,
   "metadata": {},
   "outputs": [],
   "source": [
    "%%read_sql\n",
    "SELECT movie_id, count(*) \n",
    "FROM roles \n",
    "GROUP BY movie_id"
   ]
  },
  {
   "cell_type": "markdown",
   "metadata": {},
   "source": [
    "#### Find the movies with more than 100 actors"
   ]
  },
  {
   "cell_type": "code",
   "execution_count": null,
   "metadata": {},
   "outputs": [],
   "source": [
    "%%read_sql\n",
    "SELECT movie_id, count(*) \n",
    "FROM roles \n",
    "GROUP BY movie_id\n",
    "HAVING count(*) > 100;"
   ]
  },
  {
   "cell_type": "markdown",
   "metadata": {},
   "source": [
    "#### Find the most popular genres (basd on the number of movies)"
   ]
  },
  {
   "cell_type": "code",
   "execution_count": null,
   "metadata": {},
   "outputs": [],
   "source": [
    "%%read_sql\n",
    "SELECT genre, count(*) \n",
    "FROM movies_genres\n",
    "GROUP BY genre\n",
    "ORDER BY count(*) desc"
   ]
  },
  {
   "cell_type": "markdown",
   "metadata": {},
   "source": [
    "#### Find the average rank of the movies in the database, per year of release"
   ]
  },
  {
   "cell_type": "code",
   "execution_count": null,
   "metadata": {},
   "outputs": [],
   "source": [
    "%%read_sql\n",
    "SELECT year, avg(rank) \n",
    "FROM movies\n",
    "GROUP BY year"
   ]
  },
  {
   "cell_type": "markdown",
   "metadata": {},
   "source": [
    "### Aggregation Queries (Facebook database)"
   ]
  },
  {
   "cell_type": "code",
   "execution_count": null,
   "metadata": {},
   "outputs": [],
   "source": [
    "%%read_sql\n",
    "USE facebook"
   ]
  },
  {
   "cell_type": "markdown",
   "metadata": {},
   "source": [
    "#### List the number of males and females"
   ]
  },
  {
   "cell_type": "code",
   "execution_count": null,
   "metadata": {},
   "outputs": [],
   "source": [
    "%%read_sql\n",
    "SELECT sex, count(*) \n",
    "FROM Profiles \n",
    "GROUP BY sex"
   ]
  },
  {
   "cell_type": "markdown",
   "metadata": {},
   "source": [
    "#### List the number of students for each political view"
   ]
  },
  {
   "cell_type": "code",
   "execution_count": null,
   "metadata": {},
   "outputs": [],
   "source": [
    "%%read_sql\n",
    "SELECT PoliticalViews, count(*) \n",
    "FROM Profiles \n",
    "GROUP BY PoliticalViews"
   ]
  },
  {
   "cell_type": "markdown",
   "metadata": {},
   "source": [
    "#### List the number of males and female students for each political view"
   ]
  },
  {
   "cell_type": "code",
   "execution_count": null,
   "metadata": {},
   "outputs": [],
   "source": [
    "%%read_sql\n",
    "SELECT Sex, PoliticalViews, count(*) \n",
    "FROM Profiles \n",
    "WHERE Sex is not null and PoliticalViews is not null\n",
    "GROUP BY Sex, PoliticalViews"
   ]
  },
  {
   "cell_type": "markdown",
   "metadata": {},
   "source": [
    "#### List the number of students per each birth year: Use the Year(date) function to get the year value FROM a dateime column List only years that have at least 10 students"
   ]
  },
  {
   "cell_type": "code",
   "execution_count": null,
   "metadata": {},
   "outputs": [],
   "source": [
    "%%read_sql\n",
    "SELECT YEAR(birthday), count(*) \n",
    "FROM Profiles \n",
    "WHERE birthday is not null\n",
    "GROUP BY YEAR(birthday)\n",
    "HAVING count(*) > 10"
   ]
  },
  {
   "cell_type": "markdown",
   "metadata": {},
   "source": [
    "#### Find the most popular tv shows and books"
   ]
  },
  {
   "cell_type": "code",
   "execution_count": null,
   "metadata": {},
   "outputs": [],
   "source": [
    "%%read_sql\n",
    "SELECT TVShow, count(*) \n",
    "FROM FavoriteTVShows \n",
    "WHERE TVShow is not null \n",
    "GROUP BY TVShow\n",
    "ORDER BY count(*) desc"
   ]
  },
  {
   "cell_type": "code",
   "execution_count": null,
   "metadata": {},
   "outputs": [],
   "source": [
    "%%read_sql\n",
    "SELECT Book, count(*) \n",
    "FROM FavoriteBooks\n",
    "WHERE Book is not null \n",
    "GROUP BY Book\n",
    "ORDER BY count(*) desc"
   ]
  },
  {
   "cell_type": "markdown",
   "metadata": {},
   "source": [
    "#### Find the number of students in various relationship statuses"
   ]
  },
  {
   "cell_type": "code",
   "execution_count": null,
   "metadata": {},
   "outputs": [],
   "source": [
    "%%read_sql\n",
    "SELECT Status, count(*) \n",
    "FROM Relationship\n",
    "GROUP BY Status"
   ]
  },
  {
   "cell_type": "markdown",
   "metadata": {},
   "source": [
    "#### Find the most popular majors (concentrations)"
   ]
  },
  {
   "cell_type": "code",
   "execution_count": null,
   "metadata": {},
   "outputs": [],
   "source": [
    "%%read_sql\n",
    "SELECT Concentration,count(*) FROM Concentration\n",
    "WHERE Concentration is not null\n",
    "GROUP BY Concentration\n",
    "ORDER BY count(*) desc;"
   ]
  },
  {
   "cell_type": "markdown",
   "metadata": {},
   "source": [
    "### JOINS"
   ]
  },
  {
   "cell_type": "code",
   "execution_count": null,
   "metadata": {},
   "outputs": [],
   "source": [
    "%%read_sql\n",
    "USE imdb"
   ]
  },
  {
   "cell_type": "code",
   "execution_count": null,
   "metadata": {},
   "outputs": [],
   "source": [
    "%%read_sql\n",
    "# List all the movies from year 2000\n",
    "SELECT *\n",
    "FROM movies M\n",
    "WHERE M.year = 2000;"
   ]
  },
  {
   "cell_type": "markdown",
   "metadata": {},
   "source": [
    "#### List all the movies from year 2000 and their genres"
   ]
  },
  {
   "cell_type": "code",
   "execution_count": null,
   "metadata": {},
   "outputs": [],
   "source": [
    "%%read_sql\n",
    "SELECT *\n",
    "FROM movies M INNER JOIN movies_genres MG ON M.id=MG.movie_id\n",
    "WHERE M.year = 2000;"
   ]
  },
  {
   "cell_type": "markdown",
   "metadata": {},
   "source": [
    "#### List all the Drama movies from year 2000"
   ]
  },
  {
   "cell_type": "code",
   "execution_count": null,
   "metadata": {},
   "outputs": [],
   "source": [
    "%%read_sql\n",
    "\n",
    "SELECT *\n",
    "FROM movies M INNER JOIN movies_genres MG ON M.id=MG.movie_id\n",
    "WHERE M.year = 2000 AND MG.genre = 'Drama';"
   ]
  },
  {
   "cell_type": "markdown",
   "metadata": {},
   "source": [
    "#### List all the movies from year 2000 and their average rating broken down by genre"
   ]
  },
  {
   "cell_type": "code",
   "execution_count": null,
   "metadata": {},
   "outputs": [],
   "source": [
    "%%read_sql\n",
    "SELECT AVG(M.rank), MG.genre\n",
    "FROM movies M INNER JOIN movies_genres MG ON M.id=MG.movie_id\n",
    "WHERE M.year = 2000\n",
    "GROUP BY MG.genre;"
   ]
  },
  {
   "cell_type": "code",
   "execution_count": null,
   "metadata": {},
   "outputs": [],
   "source": [
    "%%read_sql\n",
    "# List the average ratings for the movies broken down by genre\n",
    "SELECT AVG(M.rank) AS avg_rating, MG.genre\n",
    "FROM movies M INNER JOIN movies_genres MG ON M.id=MG.movie_id\n",
    "GROUP BY MG.genre\n",
    "ORDER BY avg_rating DESC"
   ]
  },
  {
   "cell_type": "code",
   "execution_count": null,
   "metadata": {},
   "outputs": [],
   "source": [
    "%%read_sql\n",
    "SELECT distinct a.first_name, a.last_name \n",
    "FROM actors a INNER JOIN roles r ON a.id = r.actor_id\n",
    "    INNER JOIN movies_directors md ON r.movie_id = md.movie_id\n",
    "    INNER JOIN directors d ON d.id = md.director_id\n",
    "WHERE d.first_name = 'Steven' and d.last_name='Spielberg'; "
   ]
  },
  {
   "cell_type": "markdown",
   "metadata": {},
   "source": [
    "#### List all the actors that worked with Steven Spielberg"
   ]
  },
  {
   "cell_type": "markdown",
   "metadata": {},
   "source": [
    "#### Compute the average rank for the movies direcred by steven spielberg"
   ]
  },
  {
   "cell_type": "code",
   "execution_count": null,
   "metadata": {},
   "outputs": [],
   "source": [
    "%%read_sql\n",
    "SELECT avg(rank) \n",
    "FROM movies m \n",
    "    INNER JOIN movies_directors md ON m.id = md.movie_id\n",
    "    INNER JOIN directors d ON d.id = md.director_id\n",
    "WHERE d.first_name = 'Steven' and d.last_name='Spielberg'; \n"
   ]
  },
  {
   "cell_type": "markdown",
   "metadata": {},
   "source": [
    "#### List the movies of Brad Pitt - exclude those that he plays himself"
   ]
  },
  {
   "cell_type": "code",
   "execution_count": null,
   "metadata": {},
   "outputs": [],
   "source": [
    "%%read_sql\n",
    "SELECT m.name \n",
    "FROM movies m \n",
    "    INNER JOIN roles r on m.id = r.movie_id \n",
    "    INNER JOIN actors a on r.actor_id = a.id\n",
    "WHERE r.role not like '%%Himself%%' and a.first_name = 'Brad' and a.last_name = 'Pitt' "
   ]
  },
  {
   "cell_type": "markdown",
   "metadata": {},
   "source": [
    "#### Average rank of Brad Pitt's movies"
   ]
  },
  {
   "cell_type": "code",
   "execution_count": null,
   "metadata": {},
   "outputs": [],
   "source": [
    "%%read_sql\n",
    "SELECT avg(rank) \n",
    "FROM movies m \n",
    "    INNER JOIN roles r on m.id = r.movie_id \n",
    "    INNER JOIN actors a on r.actor_id = a.id\n",
    "WHERE r.role not like '%%Himself%%' and a.first_name = 'Brad' and a.last_name = 'Pitt' \n",
    "\n"
   ]
  },
  {
   "cell_type": "markdown",
   "metadata": {},
   "source": [
    "#### List the genre of the movies where Sean Connery appears, and rank them in descending order by count"
   ]
  },
  {
   "cell_type": "code",
   "execution_count": null,
   "metadata": {},
   "outputs": [],
   "source": [
    "%%read_sql\n",
    "SELECT mg.genre, count(*) \n",
    "FROM movies_genres mg \n",
    "    INNER JOIN movies m ON m.id =mg.movie_id\n",
    "    INNER JOIN roles r ON m.id = r.movie_id \n",
    "    INNER JOIN actors a ON r.actor_id = a.id\n",
    "WHERE r.role not like '%%Himself%%' and a.first_name = 'Sean' and a.last_name = 'Connery'\n",
    "GROUP BY genre\n",
    "ORDER BY count(*) desc\n",
    "\n"
   ]
  },
  {
   "cell_type": "markdown",
   "metadata": {},
   "source": [
    "#### Compute the average rank for the movies of each actor and rank the actors in descending order based on that rank. List only actors with at least 20 rated movies."
   ]
  },
  {
   "cell_type": "code",
   "execution_count": null,
   "metadata": {},
   "outputs": [],
   "source": [
    "%%read_sql\n",
    "SELECT a.*, avg(rank) as avg_rating, count(m.id) as num_movies, count(m.rank) as rated_movies\n",
    "FROM movies m \n",
    "    INNER JOIN roles r on m.id = r.movie_id \n",
    "    INNER JOIN actors a ON a.id = r.actor_id\n",
    "GROUP BY a.id\n",
    "HAVING count(m.rank)>=20\n",
    "ORDER BY avg(rank) desc"
   ]
  },
  {
   "cell_type": "markdown",
   "metadata": {},
   "source": [
    "### Subqueries"
   ]
  },
  {
   "cell_type": "markdown",
   "metadata": {},
   "source": [
    "#### List all the actors that have not worked with Francis Ford Coppola. "
   ]
  },
  {
   "cell_type": "code",
   "execution_count": null,
   "metadata": {},
   "outputs": [],
   "source": [
    "%%read_sql \n",
    "SELECT * \n",
    "FROM actors \n",
    "WHERE id NOT IN (\n",
    "    SELECT DISTINCT R.actor_id\n",
    "    FROM roles R \n",
    "        INNER JOIN movies_directors MD ON R.movie_id=MD.movie_id\n",
    "        INNER JOIN directors D ON MD.director_id=D.id \n",
    "    WHERE D.first_name = 'Francis Ford' and D.last_name = 'Coppola'\n",
    ")"
   ]
  },
  {
   "cell_type": "markdown",
   "metadata": {},
   "source": [
    "#### Find the average number of movies directed by each director "
   ]
  },
  {
   "cell_type": "code",
   "execution_count": null,
   "metadata": {},
   "outputs": [],
   "source": [
    "%%read_sql\n",
    "SELECT avg(noMovies)\n",
    "FROM \n",
    "    (\n",
    "    SELECT director_id, count(*) as noMovies \n",
    "    FROM movies_directors dm \n",
    "    GROUP BY director_id\n",
    "    ) r;"
   ]
  },
  {
   "cell_type": "markdown",
   "metadata": {},
   "source": [
    "#### Report how many directors have directed one movie, two movies, three movies, etc. (in other words, create a the distribution for the variable \"number of movies directed by a given director\")"
   ]
  },
  {
   "cell_type": "code",
   "execution_count": null,
   "metadata": {},
   "outputs": [],
   "source": [
    "%%read_sql\n",
    "SELECT NumMovies, COUNT(director_id) as NumDirectors\n",
    "FROM \n",
    "    (\n",
    "    SELECT director_id, count(*) as NumMovies \n",
    "    FROM movies_directors dm \n",
    "    GROUP BY director_id\n",
    "    ) r\n",
    "GROUP BY NumMovies\n",
    "ORDER BY NumMovies;"
   ]
  },
  {
   "cell_type": "markdown",
   "metadata": {},
   "source": [
    "#### Find the average number of movies played by each actor"
   ]
  },
  {
   "cell_type": "code",
   "execution_count": null,
   "metadata": {},
   "outputs": [],
   "source": [
    "%%read_sql\n",
    "SELECT avg(noMovies) \n",
    "FROM\n",
    "(\n",
    "SELECT actor_id, count(distinct movie_id) as noMovies \n",
    "FROM roles \n",
    "GROUP BY actor_id\n",
    ") r;"
   ]
  },
  {
   "cell_type": "code",
   "execution_count": null,
   "metadata": {},
   "outputs": [],
   "source": [
    "%%read_sql\n",
    "SELECT NumMovies, COUNT(actor_id) as NumActors\n",
    "FROM \n",
    "    (\n",
    "    SELECT actor_id, count(*) as NumMovies \n",
    "    FROM roles r \n",
    "    GROUP BY actor_id\n",
    "    ) r\n",
    "GROUP BY NumMovies\n",
    "ORDER BY NumMovies;"
   ]
  },
  {
   "cell_type": "markdown",
   "metadata": {},
   "source": [
    "#### Find the maximum number of genres associated with a movie"
   ]
  },
  {
   "cell_type": "code",
   "execution_count": null,
   "metadata": {},
   "outputs": [],
   "source": [
    "%%read_sql\n",
    "SELECT max(noGenres) FROM (\n",
    "SELECT count(*) as noGenres\n",
    "FROM movies_genres\n",
    "GROUP BY movie_id) r;"
   ]
  },
  {
   "cell_type": "code",
   "execution_count": null,
   "metadata": {},
   "outputs": [],
   "source": [
    "%%read_sql\n",
    "SELECT max(noMovies)FROM (\n",
    "SELECT count(*) as noMovies, director_id as director\n",
    "FROM movies_directors\n",
    "GROUP BY director_id\n",
    ") r;"
   ]
  },
  {
   "cell_type": "code",
   "execution_count": null,
   "metadata": {},
   "outputs": [],
   "source": [
    "%%read_sql\n",
    "SELECT count(*) as noMovies, director_id as director\n",
    "FROM movies_directors\n",
    "GROUP BY director_id\n",
    ";"
   ]
  },
  {
   "cell_type": "markdown",
   "metadata": {},
   "source": [
    "#### Compare the favorite books of liberal and conservative students"
   ]
  },
  {
   "cell_type": "code",
   "execution_count": null,
   "metadata": {},
   "outputs": [],
   "source": [
    "%%read_sql\n",
    "\n",
    "USE facebook;\n",
    "\n",
    "SELECT BC.Book, \n",
    "    BC.C AS cons,\n",
    "    BL.L AS libs,\n",
    "    BC.C/C.NC AS perc_cons, \n",
    "    BL.L/L.NL AS perc_libs,\n",
    "    (BC.C/C.NC)/(BL.L/L.NL) AS lift_cons,\n",
    "    (BL.L/L.NL)/(BC.C/C.NC) AS lift_libs\n",
    "FROM \n",
    "    (\n",
    "    SELECT B.Book, COUNT(P.ProfileID) AS C\n",
    "    FROM Profiles AS P \n",
    "        INNER JOIN FavoriteBooks AS B ON P.ProfileID = B.ProfileId\n",
    "    WHERE PoliticalViews = 'Conservative'\n",
    "    GROUP BY B.Book\n",
    "    ) BC \n",
    "JOIN \n",
    "    (\n",
    "    SELECT B.Book, COUNT(P.ProfileID) AS L\n",
    "    FROM Profiles AS P \n",
    "        INNER JOIN FavoriteBooks AS B ON P.ProfileID = B.ProfileId\n",
    "    WHERE PoliticalViews = 'Liberal'\n",
    "    GROUP BY B.Book\n",
    "    ) BL ON BC.Book = BL.Book \n",
    "JOIN\n",
    "    (\n",
    "    SELECT COUNT(*) AS NC \n",
    "    FROM Profiles \n",
    "    WHERE PoliticalViews = 'Conservative'\n",
    "    ) C \n",
    "JOIN \n",
    "    (\n",
    "    SELECT COUNT(*) AS NL\n",
    "    FROM Profiles \n",
    "    WHERE PoliticalViews = 'Liberal'\n",
    "    ) L\n",
    "WHERE BC.C > 5 AND BL.L > 5\n",
    "ORDER BY lift_cons DESC\n",
    "\n"
   ]
  }
 ],
 "metadata": {
  "kernelspec": {
   "display_name": "Python 3",
   "language": "python",
   "name": "python3"
  },
  "language_info": {
   "codemirror_mode": {
    "name": "ipython",
    "version": 3
   },
   "file_extension": ".py",
   "mimetype": "text/x-python",
   "name": "python",
   "nbconvert_exporter": "python",
   "pygments_lexer": "ipython3",
   "version": "3.6.3"
  }
 },
 "nbformat": 4,
 "nbformat_minor": 1
}
