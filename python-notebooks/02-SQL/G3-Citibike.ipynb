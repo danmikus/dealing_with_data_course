{
 "cells": [
  {
   "cell_type": "code",
   "execution_count": null,
   "metadata": {
    "collapsed": true
   },
   "outputs": [],
   "source": [
    "import requests\n",
    "import pymysql as mdb\n",
    "\n",
    "# This gives information for each station that remains stable over time\n",
    "url_stations = 'https://gbfs.citibikenyc.com/gbfs/en/station_information.json'\n",
    "\n",
    "# This gives the live status of all the stations (e.g., bikes available etc)\n",
    "url_status = 'https://gbfs.citibikenyc.com/gbfs/en/station_status.json'\n",
    "\n"
   ]
  },
  {
   "cell_type": "code",
   "execution_count": null,
   "metadata": {
    "collapsed": true
   },
   "outputs": [],
   "source": [
    "# This code creates a connection to the database\n",
    "\n",
    "con = mdb.connect(host = 'localhost', \n",
    "                  user = 'root', \n",
    "                  passwd = 'dwdstudent2015', \n",
    "                  charset='utf8', use_unicode=True);"
   ]
  },
  {
   "cell_type": "code",
   "execution_count": null,
   "metadata": {
    "collapsed": true
   },
   "outputs": [],
   "source": [
    "# Run a query to create a database that will hold the data\n",
    "db_name = 'citibike_new'\n",
    "create_db_query = \"CREATE DATABASE IF NOT EXISTS {db} DEFAULT CHARACTER SET 'utf8'\".format(db=db_name)\n",
    "\n",
    "# Create a database\n",
    "cursor = con.cursor()\n",
    "cursor.execute(create_db_query)\n",
    "cursor.close()"
   ]
  },
  {
   "cell_type": "code",
   "execution_count": null,
   "metadata": {
    "collapsed": true
   },
   "outputs": [],
   "source": [
    "# Create the two tables. One for storing the time-invariant station data\n",
    "# and another table to store the time-varying station status data\n",
    "cursor = con.cursor()\n",
    "table_name = 'Stations'\n",
    "create_table_query = '''CREATE TABLE IF NOT EXISTS {db}.{table} \n",
    "                                (station_id int, \n",
    "                                name varchar(250), \n",
    "                                capacity int,\n",
    "                                lat float,\n",
    "                                lon float,\n",
    "                                region_id int,\n",
    "                                short_name varchar(250),\n",
    "                                rental_url varchar(250),\n",
    "                                eightd_has_key_dispenser bool,\n",
    "                                PRIMARY KEY(station_id)\n",
    "                                )'''.format(db=db_name, table=table_name)\n",
    "cursor.execute(create_table_query)\n",
    "cursor.close()"
   ]
  },
  {
   "cell_type": "code",
   "execution_count": null,
   "metadata": {
    "collapsed": true
   },
   "outputs": [],
   "source": [
    "# Create the time-varying table\n",
    "cursor = con.cursor()\n",
    "table_name = 'Status'\n",
    "create_table_query = '''CREATE TABLE IF NOT EXISTS {db}.{table} \n",
    "                                (station_id int, \n",
    "                                last_reported datetime,\n",
    "                                num_bikes_available int,\n",
    "                                num_bikes_disabled int,\n",
    "                                num_docks_available int,\n",
    "                                num_docks_disabled int,\n",
    "                                is_installed bool,\n",
    "                                is_renting bool,\n",
    "                                is_returning bool,\n",
    "                                eightd_has_available_keys bool,\n",
    "                                PRIMARY KEY(station_id, last_reported)\n",
    "                                )'''.format(db=db_name, table=table_name)\n",
    "cursor.execute(create_table_query)\n",
    "cursor.close()"
   ]
  },
  {
   "cell_type": "code",
   "execution_count": null,
   "metadata": {
    "collapsed": true
   },
   "outputs": [],
   "source": [
    "# We fetch for now just the time-invariant data\n",
    "# Notice that we have the INSERT IGNORE so that even when we add the same entry\n",
    "# again, we do not get an error that the line exists. We do get warnings\n",
    "# but this is expected\n",
    "results = requests.get(url_stations).json() \n",
    "data = results[\"data\"][\"stations\"]\n",
    "\n",
    "table_name = 'Stations'\n",
    "query_template = '''INSERT IGNORE INTO {db}.{table}(station_id, name,\n",
    "                                        capacity, lat, lon,\n",
    "                                        region_id,\n",
    "                                        short_name,\n",
    "                                        rental_url,\n",
    "                                        eightd_has_key_dispenser) \n",
    "                    VALUES (%s, %s, %s, %s, %s, %s, %s, %s, %s)'''.format(db=db_name, table=table_name)\n",
    "cursor = con.cursor()\n",
    "\n",
    "for entry in data:\n",
    "    station_id = int(entry['station_id'])\n",
    "    name = entry['name']\n",
    "    capacity = entry['capacity']\n",
    "    lat = entry['lat']\n",
    "    lon = entry['lon']\n",
    "    region_id = entry.get('region_id')\n",
    "    short_name = entry['short_name']\n",
    "    rental_url = entry['rental_url']\n",
    "    eightd_has_key_dispenser = entry['eightd_has_key_dispenser']\n",
    "                       \n",
    "    print(\"Inserting station\", station_id, \"at\", name)\n",
    "    query_parameters = (station_id, name, capacity, lat, lon,\n",
    "                        region_id, short_name, rental_url, eightd_has_key_dispenser)\n",
    "    cursor.execute(query_template, query_parameters)\n",
    "\n",
    "con.commit()\n",
    "cursor.close()"
   ]
  },
  {
   "cell_type": "code",
   "execution_count": null,
   "metadata": {
    "collapsed": true
   },
   "outputs": [],
   "source": [
    "# Now we fetch the data about the time varying elements of the citibike stations\n",
    "from datetime import datetime\n",
    "results = requests.get(url_status).json() \n",
    "data = results[\"data\"][\"stations\"]\n",
    "\n",
    "table_name = 'Status'\n",
    "query_template = '''INSERT IGNORE INTO {db}.{table}(station_id, \n",
    "                                            num_bikes_available,\n",
    "                                            num_bikes_disabled,\n",
    "                                            num_docks_available,\n",
    "                                            num_docks_disabled,\n",
    "                                            is_installed,\n",
    "                                            is_renting,\n",
    "                                            is_returning,\n",
    "                                            last_reported,\n",
    "                                            eightd_has_available_keys) \n",
    "                    VALUES (%s, %s, %s, %s, %s, %s, %s, %s, %s, %s)'''.format(db=db_name, table=table_name)\n",
    "cursor = con.cursor()\n",
    "\n",
    "for entry in data:\n",
    "    station_id = int(entry['station_id'])\n",
    "    num_bikes_available = entry['num_bikes_available']\n",
    "    num_bikes_disabled = entry['num_bikes_disabled']\n",
    "    num_docks_available = entry['num_docks_available']\n",
    "    num_docks_disabled = entry['num_docks_disabled']\n",
    "    is_installed = entry['is_installed']\n",
    "    is_renting = entry['is_renting']\n",
    "    is_returning = entry['is_returning']\n",
    "    last_reported = datetime.fromtimestamp(entry['last_reported']) \n",
    "    eightd_has_available_keys = entry['eightd_has_available_keys']\n",
    "                       \n",
    "    print(\"Inserting station\", station_id)\n",
    "    query_parameters = (station_id, num_bikes_available, num_bikes_disabled,\n",
    "                        num_docks_available, num_docks_disabled, is_installed, is_renting,\n",
    "                        is_returning, last_reported, eightd_has_available_keys)\n",
    "    cursor.execute(query_template, query_parameters)\n",
    "\n",
    "con.commit()\n",
    "cursor.close()"
   ]
  },
  {
   "cell_type": "code",
   "execution_count": null,
   "metadata": {
    "collapsed": true
   },
   "outputs": [],
   "source": [
    "con.close()\n"
   ]
  },
  {
   "cell_type": "code",
   "execution_count": null,
   "metadata": {
    "collapsed": true
   },
   "outputs": [],
   "source": []
  }
 ],
 "metadata": {
  "kernelspec": {
   "display_name": "Python 3",
   "language": "python",
   "name": "python3"
  },
  "language_info": {
   "codemirror_mode": {
    "name": "ipython",
    "version": 3
   },
   "file_extension": ".py",
   "mimetype": "text/x-python",
   "name": "python",
   "nbconvert_exporter": "python",
   "pygments_lexer": "ipython3",
   "version": "3.6.3"
  }
 },
 "nbformat": 4,
 "nbformat_minor": 2
}
