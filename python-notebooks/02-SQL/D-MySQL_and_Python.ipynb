{
 "cells": [
  {
   "cell_type": "markdown",
   "metadata": {},
   "source": [
    "### Python pymysql module"
   ]
  },
  {
   "cell_type": "markdown",
   "metadata": {},
   "source": [
    "To enable Python to access a MySQL database, we need to use the package `pymysql`."
   ]
  },
  {
   "cell_type": "markdown",
   "metadata": {},
   "source": [
    "Now, let's try our first connection to the database:"
   ]
  },
  {
   "cell_type": "code",
   "execution_count": null,
   "metadata": {
    "collapsed": true
   },
   "outputs": [],
   "source": [
    "import pymysql as mdb\n",
    "\n",
    "# The connect() method has four parameters. \n",
    "# The first parameter is the host, where the MySQL database is located. \n",
    "# In our case it is a localhost, e.g. our computer. \n",
    "# The second parameter is the database user name. \n",
    "# It is followed by the user's account password. \n",
    "# The final parameter is the database name.\n",
    "host = 'db.ipeirotis.org'\n",
    "username = 'student'\n",
    "password = 'dwdstudent2015'\n",
    "database = 'imdb'\n",
    "\n",
    "con = mdb.connect(host, username, password, database, \n",
    "                charset='utf8', use_unicode=True);\n",
    "cur = con.cursor()\n",
    "cur.execute(\"SELECT VERSION()\")\n",
    "ver = cur.fetchone()\n",
    "print(\"Database version:\", ver)\n",
    "cur.close()\n",
    "con.close()"
   ]
  },
  {
   "cell_type": "markdown",
   "metadata": {},
   "source": [
    "And let's try our first query. You will use the `fetchall` command, which returns all the results."
   ]
  },
  {
   "cell_type": "code",
   "execution_count": null,
   "metadata": {
    "collapsed": true,
    "scrolled": true
   },
   "outputs": [],
   "source": [
    "import pymysql as mdb\n",
    "\n",
    "con = mdb.connect(host, username, password, database, charset='utf8', use_unicode=True);\n",
    "\n",
    "cur = con.cursor()\n",
    "cur.execute(\"SELECT * FROM actors LIMIT 100\")\n",
    "results = cur.fetchall()\n",
    "cur.close()\n",
    "con.close()\n",
    "\n",
    "print(results)"
   ]
  },
  {
   "cell_type": "markdown",
   "metadata": {},
   "source": [
    "Now, let's fetch the data line by line, to avoid having long execution times when fetching the results"
   ]
  },
  {
   "cell_type": "code",
   "execution_count": null,
   "metadata": {
    "collapsed": true
   },
   "outputs": [],
   "source": [
    "import pymysql as mdb\n",
    "\n",
    "con = mdb.connect(host, username, password, database, charset='utf8', use_unicode=True);\n",
    "\n",
    "# Returning all data at a time may not be feasible. We can fetch rows one by one.\n",
    "cur = con.cursor()\n",
    "cur.execute(\"SELECT * FROM actors LIMIT 100\")\n",
    "# We fetch the rows one by one using the fetchone() method. \n",
    "# The rowcount property gives the number of rows returned by the SQL statement.\n",
    "for i in range(cur.rowcount):\n",
    "    row = cur.fetchone()\n",
    "    print(row[0], row[1], row[2])\n",
    "cur.close()\n",
    "con.close()"
   ]
  },
  {
   "cell_type": "markdown",
   "metadata": {},
   "source": [
    "**The dictionary cursor:** There are multiple cursor types in the pymysql module. The default cursor returns the data in a tuple of tuples. When we use a dictionary cursor (`mdb.cursors.DictCursor`), the data is placed in a Python dictionary, which allows us to refer to the data by their column names."
   ]
  },
  {
   "cell_type": "code",
   "execution_count": null,
   "metadata": {
    "collapsed": true
   },
   "outputs": [],
   "source": [
    "import pymysql as mdb\n",
    "\n",
    "# The dictionary cursor\n",
    "# There are multiple cursor types in the pymysql module. \n",
    "# The default cursor returns the data in a tuple of tuples. \n",
    "# When we use a dictionary cursor, the data is sent in a form of Python dictionaries. \n",
    "# This way we can refer to the data by their column names.\n",
    "\n",
    "con = mdb.connect(host, username, password, database, charset='utf8', use_unicode=True);\n",
    "    \n",
    "sql_query = \"SELECT * FROM actors LIMIT 100\"\n",
    "\n",
    "cur = con.cursor(mdb.cursors.DictCursor)\n",
    "cur.execute(sql_query)\n",
    "rows = cur.fetchall()\n",
    "for row in rows:\n",
    "    print(row)\n",
    "    print(row[\"id\"], row[\"first_name\"], row[\"last_name\"])\n",
    "    \n",
    "cur.close()\n",
    "con.close()"
   ]
  },
  {
   "cell_type": "code",
   "execution_count": null,
   "metadata": {
    "collapsed": true
   },
   "outputs": [],
   "source": []
  }
 ],
 "metadata": {
  "kernelspec": {
   "display_name": "Python 3",
   "language": "python",
   "name": "python3"
  },
  "language_info": {
   "codemirror_mode": {
    "name": "ipython",
    "version": 3
   },
   "file_extension": ".py",
   "mimetype": "text/x-python",
   "name": "python",
   "nbconvert_exporter": "python",
   "pygments_lexer": "ipython3",
   "version": "3.6.3"
  }
 },
 "nbformat": 4,
 "nbformat_minor": 1
}
