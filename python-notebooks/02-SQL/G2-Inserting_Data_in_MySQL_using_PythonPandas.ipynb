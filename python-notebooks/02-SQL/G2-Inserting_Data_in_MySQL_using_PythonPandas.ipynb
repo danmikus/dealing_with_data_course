{
 "cells": [
  {
   "cell_type": "markdown",
   "metadata": {},
   "source": [
    "## Inserting and Reading data from MySQL using Pandas\n",
    "\n",
    "First let's start with a basic piece of code that fetches the data that we want to insert in the database. For our example, we will get the data about the Citibike stations, using the correspoding API call provided by the Citibike website:"
   ]
  },
  {
   "cell_type": "code",
   "execution_count": null,
   "metadata": {
    "collapsed": true
   },
   "outputs": [],
   "source": [
    "import requests"
   ]
  },
  {
   "cell_type": "code",
   "execution_count": null,
   "metadata": {
    "collapsed": true
   },
   "outputs": [],
   "source": [
    "# Let's get the data from the Citibike API\n",
    "\n",
    "# This gives information for each station that remains stable over time\n",
    "url_stations = 'https://gbfs.citibikenyc.com/gbfs/en/station_information.json'\n",
    "# This gives the live status of all the stations (e.g., bikes available etc)\n",
    "url_status = 'https://gbfs.citibikenyc.com/gbfs/en/station_status.json'\n",
    "\n",
    "# We fetch for now just the time-invariant data\n",
    "results = requests.get(url_stations).json() "
   ]
  },
  {
   "cell_type": "code",
   "execution_count": null,
   "metadata": {
    "collapsed": true
   },
   "outputs": [],
   "source": [
    "# We only need a subset of the data in the JSON returned by the Citibike API, so we keep only what we need\n",
    "data = results[\"data\"][\"stations\"]"
   ]
  },
  {
   "cell_type": "code",
   "execution_count": null,
   "metadata": {
    "collapsed": true
   },
   "outputs": [],
   "source": [
    "len(data)"
   ]
  },
  {
   "cell_type": "code",
   "execution_count": null,
   "metadata": {
    "collapsed": true
   },
   "outputs": [],
   "source": [
    "import pandas as pd\n",
    "df = pd.DataFrame(data)\n",
    "df.head(5)"
   ]
  },
  {
   "cell_type": "code",
   "execution_count": null,
   "metadata": {
    "collapsed": true
   },
   "outputs": [],
   "source": [
    "# We drop the 'rental methods' column, as it contains multiple values and \n",
    "# we cannot insert lists in a database cell.\n",
    "df.drop('rental_methods', axis=1, inplace = True)\n",
    "df.head(5)"
   ]
  },
  {
   "cell_type": "markdown",
   "metadata": {},
   "source": [
    "### Writing a Pandas Dataframe in a MySQL Table"
   ]
  },
  {
   "cell_type": "markdown",
   "metadata": {},
   "source": [
    "Now we will connect to our MySQL server. We will use the SQLAlchemy library of Python.\n",
    "\n",
    "If you do not have the library, you need to install it by typing in the shell:"
   ]
  },
  {
   "cell_type": "code",
   "execution_count": null,
   "metadata": {
    "collapsed": true
   },
   "outputs": [],
   "source": [
    "# !sudo -H pip3 install -U sqlalchemy"
   ]
  },
  {
   "cell_type": "code",
   "execution_count": null,
   "metadata": {
    "collapsed": true
   },
   "outputs": [],
   "source": [
    "from sqlalchemy import create_engine\n",
    "\n",
    "conn_string = 'mysql+pymysql://{user}:{password}@{host}/'.format(\n",
    "    host = 'localhost', \n",
    "    user = 'root',\n",
    "    password = 'dwdstudent2015')\n",
    "\n",
    "engine = create_engine(conn_string)\n",
    "con = engine.connect()"
   ]
  },
  {
   "cell_type": "markdown",
   "metadata": {},
   "source": [
    "Once we have connected successfully, we need to create our database:"
   ]
  },
  {
   "cell_type": "code",
   "execution_count": null,
   "metadata": {},
   "outputs": [],
   "source": [
    "# Query to create a database\n",
    "db_name = 'citibike_stations'\n",
    "create_db_query = \"CREATE DATABASE IF NOT EXISTS {db} DEFAULT CHARACTER SET 'utf8'\".format(db=db_name)\n",
    "\n",
    "# Create a database\n",
    "engine.execute(create_db_query)\n",
    "# And lets switch to the database\n",
    "engine.execute(\"USE {db}\".format(db=db_name))"
   ]
  },
  {
   "cell_type": "markdown",
   "metadata": {},
   "source": [
    "Then we create the table where we will store our data. Since we already have the data in a Pandas DataFrame, it is very easy to put the data in a database."
   ]
  },
  {
   "cell_type": "code",
   "execution_count": null,
   "metadata": {
    "collapsed": true
   },
   "outputs": [],
   "source": [
    "# This step is typically optional, but it is good practice to define explicitly the \n",
    "# data types before storing things in a database. In many cases, this can be ommitted, though.\n",
    "import sqlalchemy\n",
    "dtype = {\n",
    "    'capacity': sqlalchemy.types.SMALLINT(),\n",
    "    'eightd_has_key_dispenser':  sqlalchemy.types.BOOLEAN,\n",
    "    'lat': sqlalchemy.types.Float, \n",
    "    'lon': sqlalchemy.types.Float,\n",
    "    'name': sqlalchemy.types.VARCHAR(50),\n",
    "    'region_id': sqlalchemy.types.VARCHAR(5),\n",
    "    'rental_url': sqlalchemy.types.VARCHAR(100),\n",
    "    'short_name': sqlalchemy.types.VARCHAR(10),\n",
    "    'station_id': sqlalchemy.types.SMALLINT()\n",
    "}"
   ]
  },
  {
   "cell_type": "code",
   "execution_count": null,
   "metadata": {
    "collapsed": true
   },
   "outputs": [],
   "source": [
    "table_name = 'Stations'\n",
    "# Create a table\n",
    "# See http://pandas.pydata.org/pandas-docs/stable/generated/pandas.DataFrame.to_sql.html for the documentation\n",
    "df.to_sql(name = table_name, \n",
    "          schema = db_name, \n",
    "          con = engine, \n",
    "          if_exists = 'replace', \n",
    "          index = False, \n",
    "          dtype = dtype)"
   ]
  },
  {
   "cell_type": "code",
   "execution_count": null,
   "metadata": {
    "collapsed": true
   },
   "outputs": [],
   "source": [
    "# Once we have the data in the table, we also specify a primary key\n",
    "# If we had FOREIGN KEYS we can add them in the same way\n",
    "add_key_query = 'ALTER TABLE Stations ADD PRIMARY KEY(station_id)'\n",
    "engine.execute(add_key_query)"
   ]
  },
  {
   "cell_type": "markdown",
   "metadata": {},
   "source": [
    "### Reading from a SQL Database in Python using Pandas"
   ]
  },
  {
   "cell_type": "markdown",
   "metadata": {},
   "source": [
    "We can similarly read from the database using Pandas"
   ]
  },
  {
   "cell_type": "code",
   "execution_count": null,
   "metadata": {
    "collapsed": true,
    "scrolled": false
   },
   "outputs": [],
   "source": [
    "query =  \"SELECT * FROM Stations\"\n",
    "df2 = pd.read_sql(query, con=engine)\n",
    "df2.head(5)"
   ]
  },
  {
   "cell_type": "markdown",
   "metadata": {},
   "source": [
    "And remember that from Pandas it is also possible to export in other formats, such as Excel of CSV."
   ]
  },
  {
   "cell_type": "code",
   "execution_count": null,
   "metadata": {
    "collapsed": true
   },
   "outputs": [],
   "source": [
    "# The necessary library to write in Excel\n",
    "# !sudo pip3 install -U xlwt"
   ]
  },
  {
   "cell_type": "code",
   "execution_count": null,
   "metadata": {
    "collapsed": true
   },
   "outputs": [],
   "source": [
    "df2.to_excel(\"citibike.xls\")\n",
    "df2.to_csv(\"citibike.csv\")"
   ]
  },
  {
   "cell_type": "markdown",
   "metadata": {
    "collapsed": true
   },
   "source": [
    "### Exercise\n",
    "\n",
    "The `url_status = 'https://gbfs.citibikenyc.com/gbfs/en/station_status.json'` URL contains the status of the stations. Write code that reads the results from that API call, and then stores the data in a separate table. Add a \"foreign key\" constraint from the Status table to the Stations table that we created above."
   ]
  },
  {
   "cell_type": "code",
   "execution_count": null,
   "metadata": {
    "collapsed": true
   },
   "outputs": [],
   "source": []
  }
 ],
 "metadata": {
  "kernelspec": {
   "display_name": "Python 3",
   "language": "python",
   "name": "python3"
  },
  "language_info": {
   "codemirror_mode": {
    "name": "ipython",
    "version": 3
   },
   "file_extension": ".py",
   "mimetype": "text/x-python",
   "name": "python",
   "nbconvert_exporter": "python",
   "pygments_lexer": "ipython3",
   "version": "3.6.3"
  }
 },
 "nbformat": 4,
 "nbformat_minor": 1
}
