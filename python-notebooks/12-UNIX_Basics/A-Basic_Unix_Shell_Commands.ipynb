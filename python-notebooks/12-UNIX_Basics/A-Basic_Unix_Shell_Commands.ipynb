{
 "cells": [
  {
   "cell_type": "markdown",
   "metadata": {},
   "source": [
    "Overview\n",
    "--------\n",
    "\n",
    "_Readings: The [Appendix A of Learn Python the Hard Way](http://learnpythonthehardway.org/book/appendixa.html) also discusses the material below._\n",
    "\n",
    "Modern data science is impossible without some understanding of the Unix command line.  Unix is a family of computer operating systems including the Mac’s OS X and Linux (technically, Linux is a Unix clone); Windows has also Unix emulators, which allow running Unix commands.  In our class, we use the Linux (specifically, the Ubuntu distribution), running on the Amazon EC2 cloud infrastructure.\n",
    "\n",
    "Let's start:\n",
    "\n",
    "(_**Note**: In IPython, to call a command line script, you add an exclamation mark before the command. That's why you will see all the commands in this notebook being preceded by a `!` character._)"
   ]
  },
  {
   "cell_type": "markdown",
   "metadata": {},
   "source": [
    "### Understading the folder structure\n",
    "\n",
    "Basic concepts\n",
    "* Hierarchical directory structure\n",
    "* Absolute vs. relative directories\n",
    "* Parent (..) and current (.) directories\n",
    "\n",
    "\n",
    "### `pwd`\n",
    "\n",
    "Prints the current directory. Type `pwd` in the shell prompt. This will tell you your current directory. "
   ]
  },
  {
   "cell_type": "code",
   "execution_count": null,
   "metadata": {
    "collapsed": true,
    "scrolled": true
   },
   "outputs": [],
   "source": [
    "!pwd"
   ]
  },
  {
   "cell_type": "markdown",
   "metadata": {},
   "source": [
    "### `ls`\n",
    "\n",
    "Lists the contents of a directory or provide information about the specified file. Typical usage: \n",
    "\n",
    "`ls [options] [files or directories]`\n",
    "\n",
    "If you want to know the contents of this directory, type `ls -A`. "
   ]
  },
  {
   "cell_type": "code",
   "execution_count": null,
   "metadata": {
    "collapsed": true
   },
   "outputs": [],
   "source": [
    "!ls"
   ]
  },
  {
   "cell_type": "markdown",
   "metadata": {},
   "source": [
    "By default, `ls` simply lists the contents of the current directory. There are several options that when used in conjunction with ls give more detailed information about the files or directories being queried. Here are a sample:\n",
    "\n",
    "+ `-A`: list all of the contents of the queried directory, even hidden files.\n",
    "+ `-l`: detailed format, display additional info for all files and directories.\n",
    "+ `-R`: recursively list the contents of any subdirectories.\n",
    "+ `-t`: sort files by the time of the last modification.\n",
    "+ `-S`: sort files by size.\n",
    "+ `-r`: reverse any sort order.\n",
    "+ `-h`: when used in conjunction with `-l`, gives a more human-readable output.\n",
    "\n"
   ]
  },
  {
   "cell_type": "markdown",
   "metadata": {},
   "source": [
    "Let's try now to execute `ls` with a different set of options:"
   ]
  },
  {
   "cell_type": "code",
   "execution_count": null,
   "metadata": {
    "collapsed": true
   },
   "outputs": [],
   "source": [
    "!ls -lh"
   ]
  },
  {
   "cell_type": "markdown",
   "metadata": {},
   "source": [
    "### `cd`\n",
    "\n",
    "Change the current directory. Usage: \n",
    "\n",
    "`cd [directory to move to]`\n",
    "\n",
    "For example, to change to the `/home/ubuntu` directory:"
   ]
  },
  {
   "cell_type": "code",
   "execution_count": null,
   "metadata": {
    "collapsed": true
   },
   "outputs": [],
   "source": [
    "!cd /home/ubuntu"
   ]
  },
  {
   "cell_type": "markdown",
   "metadata": {},
   "source": [
    "If we want to run two commands in a row, we separate them using the `;` character. For example, to change to a directory and show its contents:"
   ]
  },
  {
   "cell_type": "code",
   "execution_count": null,
   "metadata": {
    "collapsed": true
   },
   "outputs": [],
   "source": [
    "!cd /home/ubuntu; ls -l"
   ]
  },
  {
   "cell_type": "markdown",
   "metadata": {},
   "source": [
    "### `mkdir`\n",
    "\n",
    "Creates a new folder. For example, to create a new folder named `DealingWithData` under the current folder, we type:\n"
   ]
  },
  {
   "cell_type": "code",
   "execution_count": null,
   "metadata": {
    "collapsed": true
   },
   "outputs": [],
   "source": [
    "!mkdir DealingWithData\n",
    "!ls -lA"
   ]
  },
  {
   "cell_type": "markdown",
   "metadata": {},
   "source": [
    "### `rmdir` \n",
    "\n",
    "Removes a folder. (The folder must be empty for the command to succeed.)"
   ]
  },
  {
   "cell_type": "code",
   "execution_count": null,
   "metadata": {
    "collapsed": true
   },
   "outputs": [],
   "source": [
    "!rmdir DealingWithData"
   ]
  },
  {
   "cell_type": "markdown",
   "metadata": {},
   "source": [
    "### `cp` \n",
    "\n",
    "Copies a file. Usage:\n",
    "\n",
    "`cp [source file] [destination file]`\n",
    "\n",
    "It can also be used to copy multiple files into a directory.\n",
    "\n",
    "`cp [source file1] [source file2] ... [destination directory]`\n",
    "\n",
    "For example, to copy the file 'A-Basic_Unix_Shell_Commands.ipynb' and name the file NotebookA.ipynb"
   ]
  },
  {
   "cell_type": "code",
   "execution_count": null,
   "metadata": {
    "collapsed": true
   },
   "outputs": [],
   "source": [
    "!cp A-Basic_Unix_Shell_Commands.ipynb NotebookA.ipynb\n",
    "!ls -l "
   ]
  },
  {
   "cell_type": "markdown",
   "metadata": {},
   "source": [
    "Or we can copy the file to another folder. For example, the following command copies the file `A-Basic_Unix_Shell_Commands.ipynb` to folder `DealingWithData` and names the new file `NotebookA.ipynb`"
   ]
  },
  {
   "cell_type": "code",
   "execution_count": null,
   "metadata": {
    "collapsed": true
   },
   "outputs": [],
   "source": [
    "!mkdir DealingWithData\n",
    "!cp A-Basic_Unix_Shell_Commands.ipynb DealingWithData/NotebookA.ipynb\n",
    "!ls -lA DealingWithData"
   ]
  },
  {
   "cell_type": "markdown",
   "metadata": {},
   "source": [
    "### `rm` \n",
    "\n",
    "The `rm` command is used to delete a file.\n",
    "\n",
    "rm -r : deletes a folder, recursively"
   ]
  },
  {
   "cell_type": "code",
   "execution_count": null,
   "metadata": {
    "collapsed": true
   },
   "outputs": [],
   "source": [
    "!rm DealingWithData/NotebookA.ipynb\n",
    "!rm NotebookA.ipynb"
   ]
  },
  {
   "cell_type": "code",
   "execution_count": null,
   "metadata": {
    "collapsed": true
   },
   "outputs": [],
   "source": [
    "#clean up\n",
    "!rmdir DealingWithData"
   ]
  },
  {
   "cell_type": "markdown",
   "metadata": {},
   "source": [
    "### `mv`\n",
    "\n",
    "The `mv` command is similar to `cp` but it moves the file instead of just copying it. Effectively it performs a `cp` command, followed by an `rm` for the original file"
   ]
  },
  {
   "cell_type": "markdown",
   "metadata": {},
   "source": [
    "## Exercise\n",
    "\n",
    "* Find the current directory, using the `pwd` command.\n",
    "* Create two new directories, `dir1` and `dir2` with the `mkdir` command. \n",
    "* Use `ls` to confirm\n",
    "* Copy the file `../2-Introduction_to_Python/data/baseball.csv` to `dir1` and name it `file1.csv`. (Note: The absolute path for the file is `/home/ubuntu/jupyter/NYU_Notes/2-Introduction_to_Python/data/baseball.csv`. We use the `..` notation to refer to the parent directory of the current one.)\n",
    "* Copy the file `../3-SQL/data/imdb.sql.gz` to dir2 and name it `file2.sql.gz`\n",
    "* Move each file to the other directory (`file1.csv` to `dir2` and `file2.sql.gz` to `dir1`) with the `mv` command.\n",
    "* Delete both directories with the `rm -r` command.\n"
   ]
  },
  {
   "cell_type": "code",
   "execution_count": null,
   "metadata": {
    "collapsed": true
   },
   "outputs": [],
   "source": [
    "# your code here\n"
   ]
  }
 ],
 "metadata": {
  "kernelspec": {
   "display_name": "Python 3",
   "language": "python",
   "name": "python3"
  },
  "language_info": {
   "codemirror_mode": {
    "name": "ipython",
    "version": 3
   },
   "file_extension": ".py",
   "mimetype": "text/x-python",
   "name": "python",
   "nbconvert_exporter": "python",
   "pygments_lexer": "ipython3",
   "version": "3.5.2"
  }
 },
 "nbformat": 4,
 "nbformat_minor": 1
}
