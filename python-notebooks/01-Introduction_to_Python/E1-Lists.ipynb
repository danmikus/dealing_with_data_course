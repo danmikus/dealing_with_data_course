{
 "cells": [
  {
   "cell_type": "markdown",
   "metadata": {},
   "source": [
    "## Data Structures\n",
    "\n",
    "\n",
    "We have covered in detail much of the basics of python's primitive data types. Its now useful to consider how these basic types can be collected in ways that are meaningful and useful for a variety of tasks. Data structures are a fundamental component of programming, a collection of elements of data that adhere to certain properties, depending on the type. In these notes, we'll present three basic data structures, the list, the set, and the dictionary. Python data structures are very rich, and beyond the scope of this simple primer. Please see [the documentation](http://docs.python.org/2/tutorial/datastructures.html) for a more complete view.\n"
   ]
  },
  {
   "cell_type": "markdown",
   "metadata": {},
   "source": [
    "### List:\n",
    "\n",
    "(Readings: LPTHW, Examples 32-34, and 38)\n",
    "\n",
    "A list, sometimes called and array or a vector is an ordered collection of values. The value of a particular element in a list is retrieved by querying for a specific index into an array. Lists allow duplicate values, but but indicies are unique. In python, like most programming languages, list indices start at 0, that is, to get the first element in a list, request the element at index 0. Lists provide very fast access to elements at specific positions, but are inefficient at \"membership queries,\" determining if an element is in the array. \n",
    "\n",
    "In python, lists are specified by square brackets, `[ ]`, containing zero or more values, separated by commas. Lists are the most common data structure, and are often generated as a result of other functions, for instance:\n",
    "\n",
    "`a_string.split(\" \")`\n",
    "\n",
    "will take a string, split it on space, and then return a list of the smaller substrings.\n",
    "\n",
    "To query a specific value from a list, pass in the requested index into square brackets following the name of the list. Negative indices can be used to traverse the list from the right. (Remember the case with strings and accessing the individual characters? It is exactly the same. In fact, strings are treated in Python as lists of characters.)"
   ]
  },
  {
   "cell_type": "code",
   "execution_count": null,
   "metadata": {
    "collapsed": true
   },
   "outputs": [],
   "source": [
    "my_string = \"Wow these data structures make for exciting dinner conversation\"\n",
    "list_of_words = my_string.split(\" \")\n",
    "print(list_of_words)"
   ]
  },
  {
   "cell_type": "code",
   "execution_count": null,
   "metadata": {
    "collapsed": true
   },
   "outputs": [],
   "source": [
    "a_list = [1, 2, 3, 0, 5, 10, 11]\n",
    "print(a_list)"
   ]
  },
  {
   "cell_type": "code",
   "execution_count": null,
   "metadata": {
    "collapsed": true
   },
   "outputs": [],
   "source": [
    "a_list = [\"Panos\", \"Maria\", \"Anna\", \"James\" ]\n",
    "print(a_list)"
   ]
  },
  {
   "cell_type": "code",
   "execution_count": null,
   "metadata": {
    "collapsed": true
   },
   "outputs": [],
   "source": [
    "empty_list = []\n",
    "print(empty_list)"
   ]
  },
  {
   "cell_type": "markdown",
   "metadata": {},
   "source": [
    "#### Accessing parts of a list: Indexing and Slicing revisited"
   ]
  },
  {
   "cell_type": "code",
   "execution_count": null,
   "metadata": {
    "collapsed": true
   },
   "outputs": [],
   "source": [
    "another_list = [\"a\", \"b\", \"c\", \"d\", \"e\"]\n",
    "print(another_list[1])\n",
    "print(another_list[2:4])"
   ]
  },
  {
   "cell_type": "code",
   "execution_count": null,
   "metadata": {
    "collapsed": true
   },
   "outputs": [],
   "source": [
    "a_list = [1, 2, 3, 0, 5, 10, 11]\n",
    "print(a_list[-1]) # indexing from the right"
   ]
  },
  {
   "cell_type": "code",
   "execution_count": null,
   "metadata": {
    "collapsed": true
   },
   "outputs": [],
   "source": [
    "print(a_list[-3:])"
   ]
  },
  {
   "cell_type": "markdown",
   "metadata": {},
   "source": [
    "#### Exercise\n",
    "\n",
    "You are given a list of names (on Slack) as one big, multiline string. \n",
    "* Using the split() command to separate it into lines and get back the list of names. \n",
    "* Extract the 3rd name from the list\n",
    "* Extract the penultimate (second from the last) name\n",
    "* Retrieve the 5th to 10th names from the list\n",
    "* Retrieve the last 10 names."
   ]
  },
  {
   "cell_type": "code",
   "execution_count": null,
   "metadata": {
    "collapsed": true
   },
   "outputs": [],
   "source": []
  },
  {
   "cell_type": "markdown",
   "metadata": {},
   "source": [
    "#### Some common functions for lists\n",
    "\n",
    "+ `list.append(x)`: add an element ot the end of a list\n",
    "+ `list_1.extend(list_2)`: add all elements in the second list to the end of the first list\n",
    "+ `len(list)`: returns the number of elements in the list"
   ]
  },
  {
   "cell_type": "code",
   "execution_count": null,
   "metadata": {
    "collapsed": true
   },
   "outputs": [],
   "source": [
    "# Example of append\n",
    "a_list = [\"Panos\", \"John\", \"Chris\", \"Josh\", \"Mary\", \"Anna\"]\n",
    "a_list.append(\"Elena\")\n",
    "a_list.append(\"Sofia\")\n",
    "print(a_list)"
   ]
  },
  {
   "cell_type": "code",
   "execution_count": null,
   "metadata": {
    "collapsed": true
   },
   "outputs": [],
   "source": [
    "# Compare append vs extend; notice that \"extend\" does not created nesting here\n",
    "a1_list = [\"Panos\", \"John\", \"Chris\", \"Josh\", \"Mary\", \"Anna\"]\n",
    "a2_list = [\"Elena\", \"Sofia\"]\n",
    "a1_list.extend(a2_list)\n",
    "print(a1_list)"
   ]
  },
  {
   "cell_type": "code",
   "execution_count": null,
   "metadata": {
    "collapsed": true
   },
   "outputs": [],
   "source": [
    "# Notice that append will not work as expected when we pass a list\n",
    "# We now created a \"nested\" list. We will examine nested lists later\n",
    "b1_list = [\"Panos\", \"John\", \"Chris\", \"Josh\", \"Mary\", \"Anna\"]\n",
    "b2_list = [\"Elena\", \"Sofia\"]\n",
    "b1_list.append(b2_list)\n",
    "print(b1_list)"
   ]
  },
  {
   "cell_type": "code",
   "execution_count": null,
   "metadata": {
    "collapsed": true
   },
   "outputs": [],
   "source": [
    "# Notice that the two lists have different lengths\n",
    "print(\"Length of a1_list:\", len(a1_list))\n",
    "print(\"Length of b1_list:\", len(b1_list))"
   ]
  },
  {
   "cell_type": "markdown",
   "metadata": {},
   "source": [
    "#### Exercise\n",
    "\n",
    "Find out how many names you had in the list of names that you created earlier."
   ]
  },
  {
   "cell_type": "code",
   "execution_count": null,
   "metadata": {
    "collapsed": true
   },
   "outputs": [],
   "source": []
  },
  {
   "cell_type": "markdown",
   "metadata": {},
   "source": [
    "#### Sorting and reversing lists"
   ]
  },
  {
   "cell_type": "markdown",
   "metadata": {},
   "source": [
    "* `list.sort()`: sorts the list of items\n",
    "* `list.reverse()`: reverses the order of the list"
   ]
  },
  {
   "cell_type": "code",
   "execution_count": null,
   "metadata": {
    "collapsed": true
   },
   "outputs": [],
   "source": [
    "# Sort example\n",
    "b_list = [\"Panos\", \"John\", \"Chris\", \"Josh\", \"Mary\", \"Anna\"]\n",
    "b_list.sort()\n",
    "print(b_list)"
   ]
  },
  {
   "cell_type": "code",
   "execution_count": null,
   "metadata": {
    "collapsed": true
   },
   "outputs": [],
   "source": [
    "# Reverse example\n",
    "b_list = [\"Panos\", \"John\", \"Chris\", \"Josh\", \"Mary\", \"Anna\"]\n",
    "b_list.reverse()\n",
    "print(b_list)"
   ]
  },
  {
   "cell_type": "markdown",
   "metadata": {},
   "source": [
    "#### Exercise\n",
    "\n",
    "* Sort `b_list` in reverse alphabetical order. Use the `sort()` and `reverse()` functions."
   ]
  },
  {
   "cell_type": "code",
   "execution_count": null,
   "metadata": {
    "collapsed": true
   },
   "outputs": [],
   "source": [
    "b_list = [\"Panos\", \"John\", \"Chris\", \"Josh\", \"Mary\", \"Anna\"]\n",
    "# Your code here\n",
    "print(b_list)"
   ]
  },
  {
   "cell_type": "markdown",
   "metadata": {},
   "source": [
    "#### List concatenation and \"multiplication\""
   ]
  },
  {
   "cell_type": "code",
   "execution_count": null,
   "metadata": {
    "collapsed": true
   },
   "outputs": [],
   "source": [
    "# List concatenation. This is similar to \"extend\"\n",
    "a_list = [\"Panos\", \"John\", \"Chris\"]\n",
    "b_list = [\"Josh\", \"Mary\", \"Anna\"]\n",
    "print(a_list + b_list)"
   ]
  },
  {
   "cell_type": "code",
   "execution_count": null,
   "metadata": {
    "collapsed": true
   },
   "outputs": [],
   "source": [
    "# List multiplication\n",
    "a_list = [\"Panos\", \"John\", \"Chris\"]\n",
    "print(3*a_list)"
   ]
  },
  {
   "cell_type": "markdown",
   "metadata": {},
   "source": [
    "#### Finding things in lists"
   ]
  },
  {
   "cell_type": "markdown",
   "metadata": {},
   "source": [
    "* `list.index(x)`: looks through the list to find the specified element, returning it's position if it's found, else throws an error\n",
    "* `list.count(x)`: counts the number of occurrences of the input element"
   ]
  },
  {
   "cell_type": "code",
   "execution_count": null,
   "metadata": {
    "collapsed": true
   },
   "outputs": [],
   "source": [
    "# Count\n",
    "b_list = [\"Panos\", \"John\", \"Chris\", \"Josh\", \"Mary\", \"Anna\", \"John\"]\n",
    "print(\"# of Panos in the list\", b_list.count(\"Panos\"))\n",
    "print(\"# of John  in the list\", b_list.count(\"John\"))"
   ]
  },
  {
   "cell_type": "code",
   "execution_count": null,
   "metadata": {
    "collapsed": true
   },
   "outputs": [],
   "source": [
    "# Can you figure out what we do here?\n",
    "b_list.extend(b_list)\n",
    "print(\"# of Panos in the list\", b_list.count(\"Panos\"))\n",
    "print(\"# of John  in the list\", b_list.count(\"John\"))"
   ]
  },
  {
   "cell_type": "markdown",
   "metadata": {},
   "source": [
    "#### Exercise\n",
    "\n",
    "* Find your name in the list. In what position does your name appear?\n",
    "* Try to find a name that does not exist in the list. What do you get?\n",
    "\n",
    "Now let's practice the `if-else` command:\n",
    "\n",
    "* Define a variable `search` with the name that you want to search for.\n",
    "* Check if the name appears in the list (Hint: Use the `count()` command)\n",
    "    * If yes, then return the index number (Hint: Use the `index()` command)\n",
    "    * If not, print that the name does not appear in the list"
   ]
  },
  {
   "cell_type": "code",
   "execution_count": null,
   "metadata": {
    "collapsed": true
   },
   "outputs": [],
   "source": [
    "search = 'Panos Ipeirotis'\n",
    "\n",
    "# Check if the name appears in the list / Use the .count() command\n",
    "# If yes, then return the index number / Use the .index() command\n",
    "# If not, print that the name does not appear in the list"
   ]
  },
  {
   "cell_type": "markdown",
   "metadata": {},
   "source": [
    "#### Adding and removing items in the list\n",
    "\n",
    "* `list.insert(index, x)`: insert element x into the list at the specified index. Elements to the right of this index are shifted over\n",
    "* `list.pop(index)`: remove the element at the specified position\n"
   ]
  },
  {
   "cell_type": "markdown",
   "metadata": {},
   "source": [
    "#### Exercise\n",
    "\n",
    "* Add the letter \"d\" in `another_list` and print(the result)\n",
    "* Add the letter \"c\" in `another_list` and print(the result)\n",
    "* If you search for \"c\" in `another_list` using the list.index(x) command, what is the result?\n",
    "* Sort `another_list` and print(the result)\n",
    "* Use the `split()` operation for strings (that we learned before) and count the number of words in the sentence \"Python is the word. And on and on and on and on...\" "
   ]
  },
  {
   "cell_type": "code",
   "execution_count": null,
   "metadata": {
    "collapsed": true
   },
   "outputs": [],
   "source": [
    "another_list = [\"a\", \"b\", \"c\"]\n",
    "# your code here"
   ]
  },
  {
   "cell_type": "code",
   "execution_count": null,
   "metadata": {
    "collapsed": true
   },
   "outputs": [],
   "source": [
    "sentence = \"Python is the word. And on and on and on and on...\"\n",
    "# your code here"
   ]
  },
  {
   "cell_type": "markdown",
   "metadata": {},
   "source": [
    "#### Functions that apply to lists\n",
    "\n",
    "* `len`: We have already seen that `len(list)` returns the number of elements in a list.\n",
    "* `sum`: The function `sum(list)` sums up all the (numeric) elements of a list\n",
    "* `max`: Returns the maximum element of a list\n",
    "* `min`: Returns the minimum element of a list"
   ]
  },
  {
   "cell_type": "code",
   "execution_count": null,
   "metadata": {
    "collapsed": true
   },
   "outputs": [],
   "source": [
    "nums = [3, 41, 12, 9, 74, 15]\n",
    "print(\"Length:\", len(nums))"
   ]
  },
  {
   "cell_type": "code",
   "execution_count": null,
   "metadata": {
    "collapsed": true
   },
   "outputs": [],
   "source": [
    "print(\"Max:\", max(nums))"
   ]
  },
  {
   "cell_type": "code",
   "execution_count": null,
   "metadata": {
    "collapsed": true
   },
   "outputs": [],
   "source": [
    "print(\"Min:\", min(nums))"
   ]
  },
  {
   "cell_type": "code",
   "execution_count": null,
   "metadata": {
    "collapsed": true
   },
   "outputs": [],
   "source": [
    "print(\"Sum:\", sum(nums))"
   ]
  },
  {
   "cell_type": "markdown",
   "metadata": {},
   "source": [
    "#### Exercise\n",
    "\n",
    "* How many names are in the list of names?\n",
    "* How many _words_ are in the list of names?\n",
    "* What is the result of the `min` and `max` functions when applied to a list of names?\n",
    "\n",
    "* Write code that computes the average value of a list of numbers\n",
    "* Write code that computes the median value of a list of numbers"
   ]
  },
  {
   "cell_type": "code",
   "execution_count": null,
   "metadata": {
    "collapsed": true
   },
   "outputs": [],
   "source": []
  },
  {
   "cell_type": "markdown",
   "metadata": {},
   "source": [
    "#### Exercise\n",
    "\n",
    "Let's apply some of the things that we learned so far in the article below."
   ]
  },
  {
   "cell_type": "code",
   "execution_count": null,
   "metadata": {
    "collapsed": true
   },
   "outputs": [],
   "source": [
    "washington_post = \"\"\"MOSCOW — Russian officials vehemently defended the country’s airstrikes in Syria on Thursday as blows to Islamic State militants even as evidence mounted suggesting that U.S.-backed rebels and others were facing the brunt of Moscow’s attacks.\n",
    "And while Russian officials and diplomats rallied behind President Vladimir Putin, the Kremlin’s stance appeared further clouded by acknowledgments that the missions have already extended beyond solely the Islamic State.\n",
    "In Paris, the Russian ambassador to France, Alexander Orlov, said the Russian attacks also targeted an al-Qaeda-linked group, Jabhat al-Nusra, or al-Nusra Front.\n",
    "Syria’s ambassador to Russia, Riad Haddad, echoed that the joint hit list for Russia and the Syrian government included Jabhat al-Nusra, which is believed to have some coordination with the Islamic State but is still seen mostly as a rival.\n",
    "“We are confronting armed terrorist groups in Syria, regardless of how they identify themselves, whether it is Jabhat al-Nusra, the ISIL or others,” he said, using one of the acronyms for the Islamic State.\n",
    "Graphic Did the Russians really strike the Islamic State? VIEW GRAPHIC \n",
    "“They all are pursuing ISIL ends,” he added, according to the Interfax news agency.\n",
    "The ambassadors did not specifically mention any U.S.- and Western-backed rebel groups.\n",
    "But the comment was certain to deepen suspicions by Washington and allies that Putin’s short-term aim is to give more breathing space to Syria’s embattled President Bashar al-Assad, whose government is strongly supported by Moscow.\n",
    "Syrian activists, meanwhile, ramped up their own claims that Moscow was hitting groups seeking to bring down Assad, who has managed to hang on during more than four years of civil war.\n",
    "Russia’s expanding military intervention in Syria added urgency to separate efforts by Russia and U.S. officials to coordinate strategies against the Islamic State and avoid potential airspace missteps between the two powers — so-called “deconfliction” talks. The Pentagon said the discussions will begin Thursday.\n",
    "One monitoring group, the Britain-based Syrian Observatory for Human Rights, said Russian airstrikes again struck strongholds of an American-backed rebel group, Tajamu Alezzah, in central Hama province.\n",
    "The actions, quickly criticized by Washington, add an unpredictable element to a multilayered war.\n",
    "The observatory also reported that airstrikes hit the northwestern city Jisr al-Shughour, which is in the hands of rebel groups including al-Nusra, after battles last month to drive back Assad’s forces.\n",
    "Among the locations hit was a site near Kafr Nabl, the northern Syrian town whose weekly protests against the government, often featuring pithy slogans in English, won it renown as a symbol of what began as a peaceful protest movement against the Assad regime. The local council receives U.S. assistance, and the rebel unit there has received support under a covert CIA program aimed at bolstering moderate rebels.\n",
    "Raed Fares, one of the leaders of the protest movement in Kafr Nabl, said warplanes struck a Free Syrian Army checkpoint guarding Roman ruins on the outskirts of the town. He said the explosion was bigger than anything local residents had seen in three years of airstrikes conducted by Syrian warplanes.\n",
    "“It made a fire six kilometers wide,” he told The Washington Post.\n",
    "Other sites hit on the second day of Russian bombing included locations in the province of Hama. The targets suggested the main intention of the strikes was to shore up government control over a corridor of territory linking the capital, Damascus, to the Assad family’s coastal heartland, where the Russians are operating out of an expanded air base.\n",
    "Syrian rebels, some of them U.S.-backed, had been making slow but steady gains in the area, considered one of the government’s biggest vulnerabilities. There has been no Islamic State presence there since January 2014, when moderate rebels rose up against the extremists and forced them to retreat to eastern Syria.\n",
    "In Washington, Sen. John McCain (R-Ariz.) told CNN he could “absolutely confirm” that airstrikes hit Western-backed groups such as the Free Syrian Army and other factions “armed and trained by the CIA.”\n",
    "“We have communications with people there,” said McCain, chairman of the Senate Armed Services Committee.\n",
    "The accounts could not be independently assessed, but the main focus of the Russian attacks appeared to be in areas not known to have strong Islamic State footholds.\n",
    "In Moscow, the reply was blunt.\n",
    "“Total rubbish,” Gennady Zyuganov, a member of parliament and leader of Russia’s Communist Party, said of the U.S. accusations.\n",
    "In televised remarks Thursday, Putin called accusations that Russian airstrikes had killed civilians in Syria “information attacks.”\n",
    "He also addressed concerns about an accidental military clash between Russian and U.S.-led coalition forces, saying that his intelligence and military agencies were “establishing contacts” with counterparts in the United States.\n",
    "“This work is ongoing, and I hope that it will conclude with the creation of a regularly acting mechanism,” he said.\n",
    "A spokesman for Russia’s Defense Ministry, Igor Konashenkov, said Thursday that warplanes hit a dozen Islamic State sites in the past 24 hours, destroying targets including a command center and two arms depots.\n",
    "The United States and Russia agree on the need to fight the Islamic State but not about what to do with the Syrian president. The Syrian civil war, which grew out of an uprising against Assad, has killed more than 250,000 people since March 2011 and sent millions of refugees fleeing to countries in the Middle East and Europe.\n",
    "Accusing Russia of “pouring gasoline on the fire,” Defense Secretary Ashton B. Carter vowed that U.S. pilots would continue their year-long bombing campaign against the Islamic State in Syria, despite Moscow’s warning that American planes should stay away from its operations.\n",
    "“I think what they’re doing is going to backfire and is counterproductive,” Carter said on Wednesday.\n",
    "Yet Russia’s military flexing in Syria brought quick overtures from neighboring Iraq, where the Islamic State also holds significant territory but the government is within Washington’s fold.\n",
    "Iraq’s prime minister, Haider al-Abadi, told France 24 that he “would welcome” Russia joining the U.S.-led airstrikes against Islamic State targets, but there have been no specific discussions.\n",
    "Joining the protests against the Russian airstrikes was Saudi Arabia, a leading foe of Assad and one of Washington’s top Middle East allies.\n",
    "At the United Nations late Wednesday, the Saudi ambassador, Abdallah al-Mouallimi, demanded that the Russian air campaign “stop immediately” and accused Moscow of carrying out attacks in areas outside the control of the Islamic State.\n",
    "In Iran, Assad’s main regional backer, Foreign Ministry spokeswoman Marzieh Afkham called Russia’s military role a step “toward resolving the current crisis” in Syria.\n",
    "Sly reported from Beirut, and Murphy from Washington. Daniela Deane in London, William Branigin in Washington and Loveday Morris in Baghdad contributed to this report.\n",
    "\"\"\""
   ]
  },
  {
   "cell_type": "markdown",
   "metadata": {},
   "source": [
    "* What is the length of the document below in characters? In words? In paragraphs?\n",
    "* What is the average length of a paragraph in words?\n",
    "* What is the average length of a word in characters? (Remember that the document contains spaces and newlines, that should not count as parts of a word)"
   ]
  },
  {
   "cell_type": "code",
   "execution_count": null,
   "metadata": {
    "collapsed": true
   },
   "outputs": [],
   "source": [
    "# Your code here"
   ]
  },
  {
   "cell_type": "markdown",
   "metadata": {},
   "source": [
    "### Tuples\n",
    "\n",
    "A tuple is similar to a list and consists of a number of values separated by commas. For instance:"
   ]
  },
  {
   "cell_type": "code",
   "execution_count": null,
   "metadata": {
    "collapsed": true
   },
   "outputs": [],
   "source": [
    "t = (12345, 54321, 54321, 'hello!')\n",
    "print(t)"
   ]
  },
  {
   "cell_type": "markdown",
   "metadata": {},
   "source": [
    "The usual slicing and indexing operators still apply:"
   ]
  },
  {
   "cell_type": "code",
   "execution_count": null,
   "metadata": {
    "collapsed": true
   },
   "outputs": [],
   "source": [
    "print(t[3])"
   ]
  },
  {
   "cell_type": "markdown",
   "metadata": {},
   "source": [
    "And similarly, we can use the `count` and `index` functions. "
   ]
  },
  {
   "cell_type": "code",
   "execution_count": null,
   "metadata": {
    "collapsed": true
   },
   "outputs": [],
   "source": [
    "t.index('hello!')"
   ]
  },
  {
   "cell_type": "markdown",
   "metadata": {},
   "source": [
    "However, a tuple but is *immutable*. This means that we cannot modify its contents. So the other operators that modify a list do not apply to a tuple."
   ]
  },
  {
   "cell_type": "code",
   "execution_count": null,
   "metadata": {
    "collapsed": true
   },
   "outputs": [],
   "source": []
  }
 ],
 "metadata": {
  "kernelspec": {
   "display_name": "Python 3",
   "language": "python",
   "name": "python3"
  },
  "language_info": {
   "codemirror_mode": {
    "name": "ipython",
    "version": 3
   },
   "file_extension": ".py",
   "mimetype": "text/x-python",
   "name": "python",
   "nbconvert_exporter": "python",
   "pygments_lexer": "ipython3",
   "version": "3.6.3"
  }
 },
 "nbformat": 4,
 "nbformat_minor": 1
}
